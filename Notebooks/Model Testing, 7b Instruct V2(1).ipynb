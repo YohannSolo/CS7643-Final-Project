{
 "cells": [
  {
   "cell_type": "code",
   "execution_count": 2,
   "id": "ecef029b",
   "metadata": {},
   "outputs": [
    {
     "name": "stderr",
     "output_type": "stream",
     "text": [
      "/storage/ice1/2/3/ckniffin6/conda_envs/hf/lib/python3.12/site-packages/transformers/utils/hub.py:124: FutureWarning: Using `TRANSFORMERS_CACHE` is deprecated and will be removed in v5 of Transformers. Use `HF_HOME` instead.\n",
      "  warnings.warn(\n"
     ]
    }
   ],
   "source": [
    "from transformers import AutoModelForCausalLM, AutoTokenizer"
   ]
  },
  {
   "cell_type": "code",
   "execution_count": 3,
   "id": "89bc7fd4",
   "metadata": {},
   "outputs": [
    {
     "data": {
      "application/vnd.jupyter.widget-view+json": {
       "model_id": "e1a5adf708b041b789692fb6b7d96886",
       "version_major": 2,
       "version_minor": 0
      },
      "text/plain": [
       "VBox(children=(HTML(value='<center> <img\\nsrc=https://huggingface.co/front/assets/huggingface_logo-noborder.sv…"
      ]
     },
     "metadata": {},
     "output_type": "display_data"
    }
   ],
   "source": [
    "from huggingface_hub import login\n",
    "login()"
   ]
  },
  {
   "cell_type": "code",
   "execution_count": 5,
   "id": "5f45ba70",
   "metadata": {},
   "outputs": [
    {
     "data": {
      "application/vnd.jupyter.widget-view+json": {
       "model_id": "9bc863fe164d460a82a93c748bd2786a",
       "version_major": 2,
       "version_minor": 0
      },
      "text/plain": [
       "config.json:   0%|          | 0.00/596 [00:00<?, ?B/s]"
      ]
     },
     "metadata": {},
     "output_type": "display_data"
    },
    {
     "data": {
      "application/vnd.jupyter.widget-view+json": {
       "model_id": "a348629d8aed4b26af8fdb12f326546d",
       "version_major": 2,
       "version_minor": 0
      },
      "text/plain": [
       "model.safetensors.index.json:   0%|          | 0.00/25.1k [00:00<?, ?B/s]"
      ]
     },
     "metadata": {},
     "output_type": "display_data"
    },
    {
     "data": {
      "application/vnd.jupyter.widget-view+json": {
       "model_id": "764bb9e852a04569bf234a6d35f2a6b8",
       "version_major": 2,
       "version_minor": 0
      },
      "text/plain": [
       "Downloading shards:   0%|          | 0/3 [00:00<?, ?it/s]"
      ]
     },
     "metadata": {},
     "output_type": "display_data"
    },
    {
     "data": {
      "application/vnd.jupyter.widget-view+json": {
       "model_id": "9af72e3ac35a4fa0a24a501c00dd5871",
       "version_major": 2,
       "version_minor": 0
      },
      "text/plain": [
       "model-00001-of-00003.safetensors:   0%|          | 0.00/4.94G [00:00<?, ?B/s]"
      ]
     },
     "metadata": {},
     "output_type": "display_data"
    },
    {
     "data": {
      "application/vnd.jupyter.widget-view+json": {
       "model_id": "293137d575274d2d80deae5b023a8f99",
       "version_major": 2,
       "version_minor": 0
      },
      "text/plain": [
       "model-00002-of-00003.safetensors:   0%|          | 0.00/5.00G [00:00<?, ?B/s]"
      ]
     },
     "metadata": {},
     "output_type": "display_data"
    },
    {
     "data": {
      "application/vnd.jupyter.widget-view+json": {
       "model_id": "bc52a8eaccff4e4d8f1cffc6f3aebd00",
       "version_major": 2,
       "version_minor": 0
      },
      "text/plain": [
       "model-00003-of-00003.safetensors:   0%|          | 0.00/4.54G [00:00<?, ?B/s]"
      ]
     },
     "metadata": {},
     "output_type": "display_data"
    },
    {
     "data": {
      "application/vnd.jupyter.widget-view+json": {
       "model_id": "560f71f85ceb4e2f9680e34093a6c04c",
       "version_major": 2,
       "version_minor": 0
      },
      "text/plain": [
       "Loading checkpoint shards:   0%|          | 0/3 [00:00<?, ?it/s]"
      ]
     },
     "metadata": {},
     "output_type": "display_data"
    },
    {
     "data": {
      "application/vnd.jupyter.widget-view+json": {
       "model_id": "62adb2180f3142369ebe933017533b93",
       "version_major": 2,
       "version_minor": 0
      },
      "text/plain": [
       "generation_config.json:   0%|          | 0.00/111 [00:00<?, ?B/s]"
      ]
     },
     "metadata": {},
     "output_type": "display_data"
    }
   ],
   "source": [
    "# Load the saved model\n",
    "model = AutoModelForCausalLM.from_pretrained(\"mistralai/Mistral-7B-Instruct-v0.2\").to(\"cuda\")\n",
    "\n",
    "modelName = \"mistralai/Mistral-7B-Instruct-v0.2\"\n",
    "tokenizer = AutoTokenizer.from_pretrained(modelName)\n",
    "\n",
    "base_prompt_template: str = \"\"\"\n",
    "    You are a financial analyst designed to answer questions about business and finance. Your job is to reply to questions about finance topics and provide advice.\n",
    "\n",
    "    Instruction: {query}\n",
    "    \n",
    "    Output:\n",
    "\"\"\"\n",
    "    "
   ]
  },
  {
   "cell_type": "code",
   "execution_count": 6,
   "id": "48c81ed4",
   "metadata": {},
   "outputs": [],
   "source": [
    "queries = [\"If I take out a $35000 loan with a 5% APR how many $500 payments would it take to pay it back?\",\n",
    "           \"Assuming an inital investment of $100,000, an expected cash flow of $7000 per month, an interest rate of 7% and 3 years before the project is complete what is the net present value?\",\n",
    "           \"You want to save up over 4 years for you child's college. If the cost of attendance is $100000 and you deposit money each month into a savings account with a 4% annual interest rate, how much do you have to deposit each month?\",\n",
    "           \"How does a business compute net income?\",\n",
    "           \"What is the rule of 72?\",\n",
    "           \"What is CPI and how does it tell us what the inflation rate is?\"]    "
   ]
  },
  {
   "cell_type": "code",
   "execution_count": 7,
   "id": "5bb5c838",
   "metadata": {},
   "outputs": [],
   "source": [
    "summary1 = '\"As of March 31, 2024, the Company had aggregate outstanding notes of $14,016 million, net of $61 million of issuance costs, with varying maturities (the \"Notes\"). Of the outstanding balance, $799 million, net of issuance costs, is classified as short-term debt on the Consolidated Balance Sheets. As of December 31, 2023, the Company had aggregate outstanding notes of $14,543 million, net of $65 million of issuance costs. Each of the Notes were issued at par and are senior unsecured obligations of the Company. Interest is payable semi-annually at fixed rates. A portion of the outstanding Notes is denominated in foreign currency (comprised of €5,170 million) and is remeasured into U.S. dollars at each balance sheet date (with remeasurement gain totaling $131 million for the three months ended March 31, 2024).\"  Based on the preceding text how much short term debt does the company have?'"
   ]
  },
  {
   "cell_type": "code",
   "execution_count": 8,
   "id": "9c603b88",
   "metadata": {},
   "outputs": [],
   "source": [
    "summary2 = '\"We anticipate our full-year 2024 capital expenditures will be in the range of $30-37 billion, a $2 billion increase of the high end of our prior range. We expect growth will be driven by investments in servers, including both AI and non-AI hardware, and data centers as we ramp up construction on sites with our previously announced new data center architecture. Our updated outlook reflects our evolving understanding of our artificial intelligence (AI) capacity demands as we anticipate what we may need for the next generations of foundational research and product development. While we are not providing guidance for years beyond 2024, we expect our ambitious long-term AI research and product development efforts will require growing infrastructure investments beyond this year.\" Based on this text what are some risks the that could cause its expenditures to be greater than the predicted $2 billion?'"
   ]
  },
  {
   "cell_type": "code",
   "execution_count": 9,
   "id": "84da07de",
   "metadata": {},
   "outputs": [],
   "source": [
    "summary3 = '\"Product Liability We recorded liabilities of $596 million and $561 million in Accrued liabilities and Other liabilities at September 30, 2023 and December 31, 2022 for the expected cost of all known product liability claims, plus an estimate of the expected cost for product liability claims that have already been incurred and are expected to be filed in the future for which we are self-insured. It is reasonably possible that our accruals for product liability claims may increase in future periods in material amounts, although we cannot estimate a reasonable range of incremental loss based on currently available information. We believe that any judgment against us involving our products for actual damages will be adequately covered by our recorded accruals and, where applicable, excess liability insurance coverage.\" How much did the company accrue in liabilities according to the preceeding text?'"
   ]
  },
  {
   "cell_type": "code",
   "execution_count": 10,
   "id": "179872f5",
   "metadata": {},
   "outputs": [
    {
     "name": "stderr",
     "output_type": "stream",
     "text": [
      "Setting `pad_token_id` to `eos_token_id`:2 for open-end generation.\n"
     ]
    },
    {
     "name": "stdout",
     "output_type": "stream",
     "text": [
      "<s> \n",
      "    You are a financial analyst designed to answer questions about business and finance. Your job is to reply to questions about finance topics and provide advice.\n",
      "\n",
      "    Instruction: If I take out a $35000 loan with a 5% APR how many $500 payments would it take to pay it back?\n",
      "    \n",
      "    Output:\n",
      "    To calculate the number of payments required to pay off a loan with a given monthly payment amount, you can use the following formula:\n",
      "\n",
      "    Number of Payments = Total Loan Amount / (Monthly Payment)\n",
      "\n",
      "    Here's how you can find the number of payments for your loan:\n",
      "\n",
      "    Total Loan Amount: $35000\n",
      "    Monthly Payment: $500\n",
      "\n",
      "    Number of Payments = $35000 / $500\n",
      "                                 = 70\n",
      "\n",
      "    So, it would take 70 monthly payments of $500 to pay off a $35000 loan with a 5% annual interest rate.</s>\n"
     ]
    }
   ],
   "source": [
    "query = base_prompt_template.format(query=queries[0])\n",
    "\n",
    "modelInput = tokenizer(query, return_tensors=\"pt\").to(\"cuda\")\n",
    "\n",
    "outputs = model.generate(**modelInput, max_new_tokens = 500, do_sample = True)\n",
    "print(tokenizer.batch_decode(outputs)[0])"
   ]
  },
  {
   "cell_type": "code",
   "execution_count": 11,
   "id": "4f930ec6",
   "metadata": {},
   "outputs": [
    {
     "name": "stderr",
     "output_type": "stream",
     "text": [
      "Setting `pad_token_id` to `eos_token_id`:2 for open-end generation.\n"
     ]
    },
    {
     "name": "stdout",
     "output_type": "stream",
     "text": [
      "<s> \n",
      "    You are a financial analyst designed to answer questions about business and finance. Your job is to reply to questions about finance topics and provide advice.\n",
      "\n",
      "    Instruction: Assuming an inital investment of $100,000, an expected cash flow of $7000 per month, an interest rate of 7% and 3 years before the project is complete what is the net present value?\n",
      "    \n",
      "    Output:\n",
      "    To calculate the Net Present Value (NPV), we need to discount the expected cash flows back to their present value, and then subtract the initial investment.\n",
      "    Here's how the calculation works:\n",
      "\n",
      "    Initial investment = $100,000\n",
      "\n",
      "    Number of months = 3 years * 12 months/year = 36 months\n",
      "\n",
      "    Monthly cash flow = $7,000\n",
      "\n",
      "    Interest rate (per month) = 7% annually / 12 months/year = 0.0615% (monthly)\n",
      "\n",
      "    Present value of cash flows = Σ (cash flow_i / (1 + r)^i) for i = 1 to 36\n",
      "                                          = $7,000 * Σ (1 / (1 + 0.0615) ^ i)\n",
      "\n",
      "    NPV = Present value of cash flows - Initial investment\n",
      "    \n",
      "    Let's calculate the Present value of cash flows:\n",
      "\n",
      "    pv_sum = 0;\n",
      "    for (int i = 1; i <= 36; i++) {\n",
      "        double present_value_of_cash_flow = 7000 / Math.pow(1.0615, (double) i);\n",
      "        pv_sum += present_value_of_cash_flow;\n",
      "    }\n",
      "\n",
      "    The present value of cash flows = $XXX,XXX.\n",
      "\n",
      "    Therefore, the Net Present Value is:\n",
      "\n",
      "    Net Present Value ($) = Present value of cash flows - Initial investment\n",
      "                                 = $XXX,XXX - $100,000\n",
      "\n",
      "    If you need the exact value, please run the code above to get the present value of cash flows and substitute it into the formula.\n",
      "\n",
      "    Disclaimer: The output of the code above is an approximation of the Net Present Value. For a more precise calculation, you should use a financial calculator or a spreadsheet software. Additionally, this code does not handle exceptions or rounding errors that may occur during the calculation.</s>\n"
     ]
    }
   ],
   "source": [
    "query = base_prompt_template.format(query=queries[1])\n",
    "\n",
    "modelInput = tokenizer(query, return_tensors=\"pt\").to(\"cuda\")\n",
    "\n",
    "outputs = model.generate(**modelInput, max_new_tokens = 500, do_sample = True)\n",
    "print(tokenizer.batch_decode(outputs)[0])"
   ]
  },
  {
   "cell_type": "code",
   "execution_count": 12,
   "id": "262593b8",
   "metadata": {},
   "outputs": [
    {
     "name": "stderr",
     "output_type": "stream",
     "text": [
      "Setting `pad_token_id` to `eos_token_id`:2 for open-end generation.\n"
     ]
    },
    {
     "name": "stdout",
     "output_type": "stream",
     "text": [
      "<s> \n",
      "    You are a financial analyst designed to answer questions about business and finance. Your job is to reply to questions about finance topics and provide advice.\n",
      "\n",
      "    Instruction: You want to save up over 4 years for you child's college. If the cost of attendance is $100000 and you deposit money each month into a savings account with a 4% annual interest rate, how much do you have to deposit each month?\n",
      "    \n",
      "    Output:\n",
      "    To save up $100,000 in 48 months (4 years) with a 4% annual interest rate, you would need to deposit approximately $2,378 per month.\n",
      "\n",
      "    Note: This calculation assumes that the interest is compounded monthly. Most savings accounts are compounded monthly, so this is a reasonable assumption. If the interest is compounded differently, the calculation would change accordingly. Also note that taxes and inflation are not taken into account in this calculation. These factors would reduce the amount you can actually save over time.</s>\n"
     ]
    }
   ],
   "source": [
    "query = base_prompt_template.format(query=queries[2])\n",
    "\n",
    "modelInput = tokenizer(query, return_tensors=\"pt\").to(\"cuda\")\n",
    "\n",
    "outputs = model.generate(**modelInput, max_new_tokens = 500, do_sample = True)\n",
    "print(tokenizer.batch_decode(outputs)[0])"
   ]
  },
  {
   "cell_type": "code",
   "execution_count": 11,
   "id": "74bed04e",
   "metadata": {},
   "outputs": [
    {
     "name": "stderr",
     "output_type": "stream",
     "text": [
      "Setting `pad_token_id` to `eos_token_id`:2 for open-end generation.\n"
     ]
    },
    {
     "name": "stdout",
     "output_type": "stream",
     "text": [
      "<s> \n",
      "    You are a financial analyst designed to answer questions about business and finance. Your job is to reply to questions about finance topics and provide advice.\n",
      "\n",
      "    Instruction: How does a business compute net income?\n",
      "    \n",
      "    Output:\n",
      "<s> If the company had revenues of 800M and expenses of 300M and a depreciation expense of 40M and depreciated fixed assets of 76M then: 800 - 300 + 40 - 76 = Net Taxable Income of 68M. The depreciation would go on the tax form only to determine future depreciation. The depreciation expense is used in the statement of revenues and expenses to determine the net income. 800 - 300 - 40 = 460 If the company actually did not have those assets but was instead leasing equipment than the lease payments is part of the expenses and would reduce the net income. Here is a sample Income Statement for a public company as an example. http://www.coca-colacompany.com/About/Our-Company/Annual-Report.html#PUBLISH_CHART_P57258 If you don't need the actual numbers for tax calculations, then it is the revenue minus the expenses plus the depreciation of the assets. This is an oversimplified view for a complex process. I suggest looking into accounting to learn how all this fits together. This link is a good starting point. http://www.accountingcoach.com/articles/what-is-accounting.html A simple example using excel: http://www.accounttools.com/excel1.html. The first three sheets show how to get the depreciation expense using a simple straight line calculation. The last three sheets are a sample for a fictitious company doing sales, services, and depreciation. The net income on the income statement is adjusted by the depreciation of the assets using the example given in the link. The income statement in excel also calculates the owner's equity from the net income. The last three sheets in the excel spreadsheet are the income statement, the owner's equity, and the balance sheet. The depreciation would go on tax forms to adjust future depreciation and not be included in the income statement. On taxes, the depreciation expense is included in the net taxable income, not the net income on the income statement\n"
     ]
    }
   ],
   "source": [
    "query = base_prompt_template.format(query=queries[3])\n",
    "\n",
    "modelInput = tokenizer(query, return_tensors=\"pt\").to(\"cuda\")\n",
    "\n",
    "outputs = model.generate(**modelInput, max_new_tokens = 500, do_sample = True)\n",
    "print(tokenizer.batch_decode(outputs)[0])"
   ]
  },
  {
   "cell_type": "code",
   "execution_count": 12,
   "id": "7804b25c",
   "metadata": {},
   "outputs": [
    {
     "name": "stderr",
     "output_type": "stream",
     "text": [
      "Setting `pad_token_id` to `eos_token_id`:2 for open-end generation.\n"
     ]
    },
    {
     "name": "stdout",
     "output_type": "stream",
     "text": [
      "<s> \n",
      "    You are a financial analyst designed to answer questions about business and finance. Your job is to reply to questions about finance topics and provide advice.\n",
      "\n",
      "    Instruction: What is the rule of 72?\n",
      "    \n",
      "    Output:\n",
      "<s> The Rule of 72 is an approximate method to find what interest rate is needed to double your principal in a specific time frame. It is a rule of thumb that can be used for calculations to find the approximate number of years needed to double your money at a fixed rate of return. The rule is particularly helpful when you want to understand the effects of compound interest more accurately or when you want to calculate time periods without using more precise financial calculators.   Rule of 72: The number of years needed to double your money at a fixed rate of return is equal to 72 divided by the rate of return. A 2% rate of return means that if principal= $100 and $2 added annually the doubling will take 36 years (72/2).  A 5% rate of return means that if principal= $100 and $5 added annually the doubling will take 14.4 years (72/5). If you wanted to earn 15% annually to double your principal in 9 years the rate of return would be 72/9 or 8%.   This formula works well for most investments that compound monthly – it is very accurate when interest rate is 8% or higher. The difference  (in percent) would be noticeably wider when using 6% rate of return.  It is very inaccurate when the rate of return is 1% or less – for example 1% rate would require 72 years to double the money.  However it is handy for calculating compounding.  Rule of 72 assumes that compounding happens once per year – so if you are earning interest more frequently the formula will still work as long as the compounding period remains constant.   Example: At a 3% annual interest rate, how many years would it take for your principal to increase from $5,000 to $15,000.   Solution: We need to raise $10,000 so at 3% we need 24 years to double our money.  Then we need 24 additional years to quadruple our money and again 12 years to double it from $20,000 to 40,000. The additional 12 years bring us to 56 total years.  You should double check your work with\n"
     ]
    }
   ],
   "source": [
    "query = base_prompt_template.format(query=queries[4])\n",
    "\n",
    "modelInput = tokenizer(query, return_tensors=\"pt\").to(\"cuda\")\n",
    "\n",
    "outputs = model.generate(**modelInput, max_new_tokens = 500, do_sample = True)\n",
    "print(tokenizer.batch_decode(outputs)[0])"
   ]
  },
  {
   "cell_type": "code",
   "execution_count": 13,
   "id": "ee5025b4",
   "metadata": {},
   "outputs": [
    {
     "name": "stderr",
     "output_type": "stream",
     "text": [
      "Setting `pad_token_id` to `eos_token_id`:2 for open-end generation.\n"
     ]
    },
    {
     "name": "stdout",
     "output_type": "stream",
     "text": [
      "<s> \n",
      "    You are a financial analyst designed to answer questions about business and finance. Your job is to reply to questions about finance topics and provide advice.\n",
      "\n",
      "    Instruction: What is CPI and how does it tell us what the inflation rate is?\n",
      "    \n",
      "    Output:\n",
      "<s> In economics, CPI stands for Consumer Price Index. It's a measure of \"cost of living\", that is, how expensive it is to live in a given area and/or at a given time.   It's constructed by sampling things people spend money on -- food, clothing, shelter, entertainment, etc. -- at different shops in different cities. The weighting for the sampling is done based on the cost of each item at that time. Every year one gets a measure of how much the cost of living has changed since the previous year. This measure is sometimes called \"inflation\", but that's just a colloquial description to some extent. This doesn't measure inflation directly, it measures changes in costs and prices. Inflation depends on more than just prices, it is also affected by other factors such as supply, scarcity, and demand. For example, if people are suddenly willing to pay more for a particular item, then the price for that item will go up. But on average, people won't spend more money on that item until after the increase in price, so the CPI may not increase. Theoretically, inflation should be measured by changes like 50% for a given product that is consumed by a great number of people. However, this method can be misinterpreted because it is sensitive to how the sample is defined. The CPI does not account for things like changes in quantity, technology or style. Instead, the CPI compares one year's cost of acquiring a \"basket of goods and services\" with another year's cost. It will tend to show lower inflation than would be seen if one were only examining a few specific goods and services of interest over a long period of time.   One of the drawbacks is that the CPI is calculated from sampled numbers. Every month/quarter/year, there are many items that are excluded or not included. There is a large set of rules and a manual method that is used to determine whether or not an item is included in the CPI. Because of that \"choreography\", inflation can be manipulated to a degree by those that prepare the data and present it. CPI may increase by changing the formula of how certain things are measured. For example, if a house costs 10,000 points and the price of the house goes down by half after a year\n"
     ]
    }
   ],
   "source": [
    "query = base_prompt_template.format(query=queries[5])\n",
    "\n",
    "modelInput = tokenizer(query, return_tensors=\"pt\").to(\"cuda\")\n",
    "\n",
    "outputs = model.generate(**modelInput, max_new_tokens = 500, do_sample = True)\n",
    "print(tokenizer.batch_decode(outputs)[0])"
   ]
  },
  {
   "cell_type": "code",
   "execution_count": 14,
   "id": "d3fea686",
   "metadata": {},
   "outputs": [
    {
     "name": "stderr",
     "output_type": "stream",
     "text": [
      "Setting `pad_token_id` to `eos_token_id`:2 for open-end generation.\n"
     ]
    },
    {
     "name": "stdout",
     "output_type": "stream",
     "text": [
      "<s> \n",
      "    You are a financial analyst designed to answer questions about business and finance. Your job is to reply to questions about finance topics and provide advice.\n",
      "\n",
      "    Instruction: \"As of March 31, 2024, the Company had aggregate outstanding notes of $14,016 million, net of $61 million of issuance costs, with varying maturities (the \"Notes\"). Of the outstanding balance, $799 million, net of issuance costs, is classified as short-term debt on the Consolidated Balance Sheets. As of December 31, 2023, the Company had aggregate outstanding notes of $14,543 million, net of $65 million of issuance costs. Each of the Notes were issued at par and are senior unsecured obligations of the Company. Interest is payable semi-annually at fixed rates. A portion of the outstanding Notes is denominated in foreign currency (comprised of €5,170 million) and is remeasured into U.S. dollars at each balance sheet date (with remeasurement gain totaling $131 million for the three months ended March 31, 2024).\"  Based on the preceding text how much short term debt does the company have?\n",
      "    \n",
      "    Output:\n",
      "<s> $799 million. Note that the term \"short-term debt\" is used rather than \"short-term liabilities\" or \"current liabilities\", so I doubt that accounts payable or other liabilities are included here. If a company has $61 million worth of accounting fees/services for example that may not be paid for until after their quarter ends, you could argue that they are a current liability but that wouldn't fit with \"as of March 31, 2024\" in this statement, so I don't think accounting fees etc is included here. But maybe I'm assuming too much here, you'd have to check the notes for that section to figure out if the company is \"cheating\" and calling items like accounting fees and other payables short-term debt and remeasuring them in their net income. I'm seeing a lot of stuff about remeasuring euro-based debt into dollars, maybe this is part of that. But, I'm not sure if that is the case here. So I think if you saw the statement as written above that they are saying $799 million of their $14,016 million in debt is short-term. Again, I have to assume this is not misleading. Of course, the Notes section of their annual report will give you more detail. This statement could also be misleading and I'm not sure if that's the case here or not. This would be a good place to double check that you are accounting accurately and honestly.  I don't think we should take this as a sign that the company is in any sort of financial trouble though... as I think many investors would be afraid of (reading \"in March 2023 the Company had $15B in debt\" and going \"oh crap!\") It's just information; you have to find out what the information means in the context of the company's overall business and other sources of information.  There could be a number of reasons for this short-term debt balance being higher than the long-term balance. This could simply be how the debt was issued; a shorter term. There may also be a number of reasons they wouldn't pay off short-term debt at the earliest possible opportunity. For example, there could be a penalty or premium associated with early repayment.\n"
     ]
    }
   ],
   "source": [
    "query = base_prompt_template.format(query=summary1)\n",
    "\n",
    "modelInput = tokenizer(query, return_tensors=\"pt\").to(\"cuda\")\n",
    "\n",
    "outputs = model.generate(**modelInput, max_new_tokens = 500, do_sample = True)\n",
    "print(tokenizer.batch_decode(outputs)[0])"
   ]
  },
  {
   "cell_type": "code",
   "execution_count": 15,
   "id": "4c3f1c84",
   "metadata": {},
   "outputs": [
    {
     "name": "stderr",
     "output_type": "stream",
     "text": [
      "Setting `pad_token_id` to `eos_token_id`:2 for open-end generation.\n"
     ]
    },
    {
     "name": "stdout",
     "output_type": "stream",
     "text": [
      "<s> \n",
      "    You are a financial analyst designed to answer questions about business and finance. Your job is to reply to questions about finance topics and provide advice.\n",
      "\n",
      "    Instruction: \"We anticipate our full-year 2024 capital expenditures will be in the range of $30-37 billion, a $2 billion increase of the high end of our prior range. We expect growth will be driven by investments in servers, including both AI and non-AI hardware, and data centers as we ramp up construction on sites with our previously announced new data center architecture. Our updated outlook reflects our evolving understanding of our artificial intelligence (AI) capacity demands as we anticipate what we may need for the next generations of foundational research and product development. While we are not providing guidance for years beyond 2024, we expect our ambitious long-term AI research and product development efforts will require growing infrastructure investments beyond this year.\" Based on this text what are some risks the that could cause its expenditures to be greater than the predicted $2 billion?\n",
      "    \n",
      "    Output:\n",
      "<s> Risk factors associated with the $2 billion increase in capital expenditures include AI capacity demands, rising inflation, potential delays in project timelines, regulatory requirements, unexpected increase in material costs, and global economic uncertainty. The risks could cause the company to exceed the anticipated increase or fail to meet its goals. Additionally, the company could face additional costs associated with unexpected changes in the market and unexpected demand for AI technology. Finally, the uncertainty of the global economy could also negatively impact the overall success of the project and the company could end up with a higher than expected expenditure. Conversely, the positive risks associated with the increase could include new opportunities to capitalize on the AI market and a greater potential for efficiency in the company's operations. As long as the company is able to manage and control these risks, it should be able to stick to its budget and reach its goals. Furthermore, it should be able to achieve its $2 billion investment target with these increased risks in place. Ultimately, the company needs to be proactive in its risk management and prepared to adapt to changing market conditions. It should be able to continue to make significant investments in AI technology while adhering to its budgetary goals. With proper risk management, the company should be able to meet its objectives and remain well-positioned to seize the opportunities afforded by the increasing AI market. By staying abreast of the changing trends and risks, the company should be able to make the most of its investment in AI technology. If there is a reduction in inflation and no major delays in project timelines, or there is a slow down of material costs, the company may be able to reduce its cap ex even further. The company will have to be diligent in managing these risks to ensure it meets its budgetary targets and realizes the potential of the AI technology. With proper risk management and an adaptive approach to the investments in AI technology, the company should be able to make the most of its increase in capital expenditure. With a clear goal and clear parameters, the company should be able to meet its objectives and remain well-positioned to take advantage of the increasing AI market. Furthermore, if global economic uncertainty subsides or AI capacity demands decrease, the company may be able to reach its goals with a smaller budgetary target. As long as it remains proactive in its risk management, the company should be able to reach its target of $2 billion\n"
     ]
    }
   ],
   "source": [
    "query = base_prompt_template.format(query=summary2)\n",
    "\n",
    "modelInput = tokenizer(query, return_tensors=\"pt\").to(\"cuda\")\n",
    "\n",
    "outputs = model.generate(**modelInput, max_new_tokens = 500, do_sample = True)\n",
    "print(tokenizer.batch_decode(outputs)[0])"
   ]
  },
  {
   "cell_type": "code",
   "execution_count": 16,
   "id": "0ac9fa55",
   "metadata": {},
   "outputs": [
    {
     "name": "stderr",
     "output_type": "stream",
     "text": [
      "Setting `pad_token_id` to `eos_token_id`:2 for open-end generation.\n"
     ]
    },
    {
     "name": "stdout",
     "output_type": "stream",
     "text": [
      "<s> \n",
      "    You are a financial analyst designed to answer questions about business and finance. Your job is to reply to questions about finance topics and provide advice.\n",
      "\n",
      "    Instruction: \"Product Liability We recorded liabilities of $596 million and $561 million in Accrued liabilities and Other liabilities at September 30, 2023 and December 31, 2022 for the expected cost of all known product liability claims, plus an estimate of the expected cost for product liability claims that have already been incurred and are expected to be filed in the future for which we are self-insured. It is reasonably possible that our accruals for product liability claims may increase in future periods in material amounts, although we cannot estimate a reasonable range of incremental loss based on currently available information. We believe that any judgment against us involving our products for actual damages will be adequately covered by our recorded accruals and, where applicable, excess liability insurance coverage.\" How much did the company accrue in liabilities according to the preceeding text?\n",
      "    \n",
      "    Output:\n",
      "<s> The company has accrued liabilities of $1,157 million for product liability claims. This includes the accrued liabilities and other liabilities recorded in September 2023 and December 2022, for which the company estimates it will have to pay the expected cost of all known product liability claims. Furthermore, the company has recorded additional accruals for product liability claims that it has already incurred and anticipates will be filed in the future for which it is self-insured. The company believes that any judgment against it will be covered adequately by this accrual and excess liability insurance coverage. \n",
      "\n",
      "Therefore, the company has accrued a total amount of $1,157 million for product liability claims. \n",
      "\n",
      "Additional details are given in the note of 2. Product liability. \n",
      "\n",
      "https://ir.amgen.com/sites/default/files/10k2023.pdf\n",
      "\n",
      "See page 32. \n",
      "\n",
      "https://ir.amgen.com/sites/default/files/10k2023.pdf#page=32 \n",
      "\n",
      "https://ir.amgen.com/sites/default/files/10k2022.pdf#page=64\n",
      "\n",
      "https://ir.amgen.com/sites/default/files/10k2020.pdf#page=79 \n",
      "\n",
      "https://ir.amgen.com/sites/default/files/10k2020.pdf#page=79 \n",
      "\n",
      "https://ir.amgen.com/sites/default/files/10k2019.pdf#page=86 \n",
      "\n",
      "https://ir.amgen.com/sites/default/files/10k2019.pdf#page=86 \n",
      "\n",
      "https://ir.amgen.com/sites/default/files/10k2018.pdf#page=106 \n",
      "\n",
      "https://ir.amgen.com/sites/default/files/10k2018.pdf#page=106 \n",
      "\n",
      "https://ir.amgen.com/sites/default/files/\n"
     ]
    }
   ],
   "source": [
    "query = base_prompt_template.format(query=summary3)\n",
    "\n",
    "modelInput = tokenizer(query, return_tensors=\"pt\").to(\"cuda\")\n",
    "\n",
    "outputs = model.generate(**modelInput, max_new_tokens = 500, do_sample = True)\n",
    "print(tokenizer.batch_decode(outputs)[0])"
   ]
  },
  {
   "cell_type": "code",
   "execution_count": null,
   "id": "622c0167",
   "metadata": {},
   "outputs": [],
   "source": []
  }
 ],
 "metadata": {
  "kernelspec": {
   "display_name": "Python [conda env:hf]",
   "language": "python",
   "name": "conda-env-hf-py"
  },
  "language_info": {
   "codemirror_mode": {
    "name": "ipython",
    "version": 3
   },
   "file_extension": ".py",
   "mimetype": "text/x-python",
   "name": "python",
   "nbconvert_exporter": "python",
   "pygments_lexer": "ipython3",
   "version": "3.12.2"
  }
 },
 "nbformat": 4,
 "nbformat_minor": 5
}
