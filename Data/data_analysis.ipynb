{
  "cells": [
    {
      "cell_type": "markdown",
      "metadata": {
        "id": "q3lu-0eKDfyL"
      },
      "source": [
        "## Install and Import Packages"
      ]
    },
    {
      "cell_type": "code",
      "execution_count": 1,
      "metadata": {
        "id": "QmjTTyMTDcbE"
      },
      "outputs": [
        {
          "name": "stderr",
          "output_type": "stream",
          "text": [
            "/Users/Charlie/Documents/GitHub/DL2/Project/.project/lib/python3.11/site-packages/tqdm/auto.py:21: TqdmWarning: IProgress not found. Please update jupyter and ipywidgets. See https://ipywidgets.readthedocs.io/en/stable/user_install.html\n",
            "  from .autonotebook import tqdm as notebook_tqdm\n"
          ]
        }
      ],
      "source": [
        "from transformers import AutoTokenizer, PreTrainedTokenizer\n",
        "from typing import Dict\n",
        "\n",
        "from predibase import PredibaseClient\n",
        "from datasets import load_dataset\n",
        "\n",
        "import pandas as pd\n",
        "import numpy as np\n",
        "\n",
        "import json\n",
        "import pprint"
      ]
    },
    {
      "cell_type": "markdown",
      "metadata": {
        "id": "5Py6l7SQDtgj"
      },
      "source": [
        "# Download Base Dataset From HuggingFace\n"
      ]
    },
    {
      "cell_type": "code",
      "execution_count": 2,
      "metadata": {
        "id": "0PWq6HgACkd2"
      },
      "outputs": [],
      "source": [
        "base_dataset: pd.DataFrame = load_dataset(\"gbharti/finance-alpaca\", split=\"train\").to_pandas()\n",
        "# base_dataset = base_dataset[[\"instruction\", \"category\", \"intent\", \"response\"]]"
      ]
    },
    {
      "cell_type": "code",
      "execution_count": 3,
      "metadata": {
        "colab": {
          "base_uri": "https://localhost:8080/"
        },
        "id": "05LboI2C0haN",
        "outputId": "486232f8-8507-47a7-be52-fed9850b5a82"
      },
      "outputs": [
        {
          "data": {
            "text/plain": [
              "Index(['instruction', 'output', 'text', 'input'], dtype='object')"
            ]
          },
          "execution_count": 3,
          "metadata": {},
          "output_type": "execute_result"
        }
      ],
      "source": [
        "base_dataset.columns"
      ]
    },
    {
      "cell_type": "code",
      "execution_count": 4,
      "metadata": {
        "colab": {
          "base_uri": "https://localhost:8080/",
          "height": 363
        },
        "id": "JYLTyKMdDd80",
        "outputId": "d1410b04-0348-4a40-b1dc-6e7e019a9d42"
      },
      "outputs": [
        {
          "data": {
            "text/html": [
              "<div>\n",
              "<style scoped>\n",
              "    .dataframe tbody tr th:only-of-type {\n",
              "        vertical-align: middle;\n",
              "    }\n",
              "\n",
              "    .dataframe tbody tr th {\n",
              "        vertical-align: top;\n",
              "    }\n",
              "\n",
              "    .dataframe thead th {\n",
              "        text-align: right;\n",
              "    }\n",
              "</style>\n",
              "<table border=\"1\" class=\"dataframe\">\n",
              "  <thead>\n",
              "    <tr style=\"text-align: right;\">\n",
              "      <th></th>\n",
              "      <th>instruction</th>\n",
              "      <th>output</th>\n",
              "      <th>text</th>\n",
              "      <th>input</th>\n",
              "    </tr>\n",
              "  </thead>\n",
              "  <tbody>\n",
              "    <tr>\n",
              "      <th>0</th>\n",
              "      <td>For a car, what scams can be plotted with 0% f...</td>\n",
              "      <td>The car deal makes money 3 ways. If you pay in...</td>\n",
              "      <td></td>\n",
              "      <td></td>\n",
              "    </tr>\n",
              "    <tr>\n",
              "      <th>1</th>\n",
              "      <td>Why does it matter if a Central Bank has a neg...</td>\n",
              "      <td>That is kind of the point, one of the hopes is...</td>\n",
              "      <td></td>\n",
              "      <td></td>\n",
              "    </tr>\n",
              "    <tr>\n",
              "      <th>2</th>\n",
              "      <td>Where should I be investing my money?</td>\n",
              "      <td>Pay off your debt.  As you witnessed, no \"inve...</td>\n",
              "      <td></td>\n",
              "      <td></td>\n",
              "    </tr>\n",
              "    <tr>\n",
              "      <th>3</th>\n",
              "      <td>Specifically when do options expire?</td>\n",
              "      <td>Equity options, at least those traded in the A...</td>\n",
              "      <td></td>\n",
              "      <td></td>\n",
              "    </tr>\n",
              "    <tr>\n",
              "      <th>4</th>\n",
              "      <td>Negative Balance from Automatic Options Exerci...</td>\n",
              "      <td>Automatic exercisions can be extremely risky, ...</td>\n",
              "      <td></td>\n",
              "      <td></td>\n",
              "    </tr>\n",
              "    <tr>\n",
              "      <th>5</th>\n",
              "      <td>Approximation of equity value for company in d...</td>\n",
              "      <td>Generally \"default\" means that the company can...</td>\n",
              "      <td></td>\n",
              "      <td></td>\n",
              "    </tr>\n",
              "    <tr>\n",
              "      <th>6</th>\n",
              "      <td>Is it true that 90% of investors lose their mo...</td>\n",
              "      <td>The game is not zero sum. When a friend and I ...</td>\n",
              "      <td></td>\n",
              "      <td></td>\n",
              "    </tr>\n",
              "    <tr>\n",
              "      <th>7</th>\n",
              "      <td>Can a company charge you for services never re...</td>\n",
              "      <td>In general, you can only be charged for servic...</td>\n",
              "      <td></td>\n",
              "      <td></td>\n",
              "    </tr>\n",
              "    <tr>\n",
              "      <th>8</th>\n",
              "      <td>Working out if I should be registered as self-...</td>\n",
              "      <td>Being self employed just means you fill out so...</td>\n",
              "      <td></td>\n",
              "      <td></td>\n",
              "    </tr>\n",
              "    <tr>\n",
              "      <th>9</th>\n",
              "      <td>About eToro investments</td>\n",
              "      <td>For eToro, just like any other brokerage firm,...</td>\n",
              "      <td></td>\n",
              "      <td></td>\n",
              "    </tr>\n",
              "  </tbody>\n",
              "</table>\n",
              "</div>"
            ],
            "text/plain": [
              "                                         instruction  \\\n",
              "0  For a car, what scams can be plotted with 0% f...   \n",
              "1  Why does it matter if a Central Bank has a neg...   \n",
              "2              Where should I be investing my money?   \n",
              "3               Specifically when do options expire?   \n",
              "4  Negative Balance from Automatic Options Exerci...   \n",
              "5  Approximation of equity value for company in d...   \n",
              "6  Is it true that 90% of investors lose their mo...   \n",
              "7  Can a company charge you for services never re...   \n",
              "8  Working out if I should be registered as self-...   \n",
              "9                            About eToro investments   \n",
              "\n",
              "                                              output text input  \n",
              "0  The car deal makes money 3 ways. If you pay in...             \n",
              "1  That is kind of the point, one of the hopes is...             \n",
              "2  Pay off your debt.  As you witnessed, no \"inve...             \n",
              "3  Equity options, at least those traded in the A...             \n",
              "4  Automatic exercisions can be extremely risky, ...             \n",
              "5  Generally \"default\" means that the company can...             \n",
              "6  The game is not zero sum. When a friend and I ...             \n",
              "7  In general, you can only be charged for servic...             \n",
              "8  Being self employed just means you fill out so...             \n",
              "9  For eToro, just like any other brokerage firm,...             "
            ]
          },
          "execution_count": 4,
          "metadata": {},
          "output_type": "execute_result"
        }
      ],
      "source": [
        "base_dataset.head(n=10)"
      ]
    },
    {
      "cell_type": "code",
      "execution_count": 5,
      "metadata": {
        "colab": {
          "base_uri": "https://localhost:8080/"
        },
        "id": "xlCZoNZ-Nbws",
        "outputId": "2127c32b-b436-4034-acf1-62ad1bedb2e7"
      },
      "outputs": [
        {
          "name": "stdout",
          "output_type": "stream",
          "text": [
            "For a car, what scams can be plotted with 0% financing vs rebate?\n",
            "\n",
            "The car deal makes money 3 ways. If you pay in one lump payment. If the payment is greater than what they paid for the car, plus their expenses, they make a profit. They loan you the money. You make payments over months or years, if the total amount you pay is greater than what they paid for the car, plus their expenses, plus their finance expenses they make money. Of course the money takes years to come in, or they sell your loan to another business to get the money faster but in a smaller amount. You trade in a car and they sell it at a profit. Of course that new transaction could be a lump sum or a loan on the used car... They or course make money if you bring the car back for maintenance, or you buy lots of expensive dealer options. Some dealers wave two deals in front of you: get a 0% interest loan. These tend to be shorter 12 months vs 36,48,60 or even 72 months. The shorter length makes it harder for many to afford. If you can't swing the 12 large payments they offer you at x% loan for y years that keeps the payments in your budget. pay cash and get a rebate. If you take the rebate you can't get the 0% loan. If you take the 0% loan you can't get the rebate. The price you negotiate minus the rebate is enough to make a profit. The key is not letting them know which offer you are interested in. Don't even mention a trade in until the price of the new car has been finalized. Otherwise they will adjust the price, rebate, interest rate, length of loan,  and trade-in value to maximize their profit. The suggestion of running the numbers through a spreadsheet is a good one. If you get a loan for 2% from your bank/credit union for 3 years and the rebate from the dealer, it will cost less in total than the 0% loan from the dealer. The key is to get the loan approved by the bank/credit union before meeting with the dealer. The money from the bank looks like cash to the dealer.\n"
          ]
        }
      ],
      "source": [
        "print(base_dataset.iloc[0].instruction)\n",
        "print(base_dataset.iloc[0].input)\n",
        "print(base_dataset.iloc[0].output)"
      ]
    },
    {
      "cell_type": "markdown",
      "metadata": {
        "id": "FFqT_IqwF_6s"
      },
      "source": [
        "### Dataset Characteristics\n"
      ]
    },
    {
      "cell_type": "code",
      "execution_count": 6,
      "metadata": {
        "colab": {
          "base_uri": "https://localhost:8080/",
          "height": 175
        },
        "id": "kpoWG8N1E5I2",
        "outputId": "7a83b5ff-9e83-4740-edb8-c8c5e9af05f8"
      },
      "outputs": [
        {
          "data": {
            "text/html": [
              "<div>\n",
              "<style scoped>\n",
              "    .dataframe tbody tr th:only-of-type {\n",
              "        vertical-align: middle;\n",
              "    }\n",
              "\n",
              "    .dataframe tbody tr th {\n",
              "        vertical-align: top;\n",
              "    }\n",
              "\n",
              "    .dataframe thead th {\n",
              "        text-align: right;\n",
              "    }\n",
              "</style>\n",
              "<table border=\"1\" class=\"dataframe\">\n",
              "  <thead>\n",
              "    <tr style=\"text-align: right;\">\n",
              "      <th></th>\n",
              "      <th>instruction</th>\n",
              "      <th>output</th>\n",
              "      <th>text</th>\n",
              "      <th>input</th>\n",
              "    </tr>\n",
              "  </thead>\n",
              "  <tbody>\n",
              "    <tr>\n",
              "      <th>count</th>\n",
              "      <td>68912</td>\n",
              "      <td>68912</td>\n",
              "      <td>68912</td>\n",
              "      <td>68912</td>\n",
              "    </tr>\n",
              "    <tr>\n",
              "      <th>unique</th>\n",
              "      <td>58482</td>\n",
              "      <td>67853</td>\n",
              "      <td>1</td>\n",
              "      <td>18882</td>\n",
              "    </tr>\n",
              "    <tr>\n",
              "      <th>top</th>\n",
              "      <td>What options do I have at 26 years old, with 1...</td>\n",
              "      <td>Negative</td>\n",
              "      <td></td>\n",
              "      <td></td>\n",
              "    </tr>\n",
              "    <tr>\n",
              "      <th>freq</th>\n",
              "      <td>23</td>\n",
              "      <td>44</td>\n",
              "      <td>68912</td>\n",
              "      <td>49184</td>\n",
              "    </tr>\n",
              "  </tbody>\n",
              "</table>\n",
              "</div>"
            ],
            "text/plain": [
              "                                              instruction    output   text  \\\n",
              "count                                               68912     68912  68912   \n",
              "unique                                              58482     67853      1   \n",
              "top     What options do I have at 26 years old, with 1...  Negative          \n",
              "freq                                                   23        44  68912   \n",
              "\n",
              "        input  \n",
              "count   68912  \n",
              "unique  18882  \n",
              "top            \n",
              "freq    49184  "
            ]
          },
          "execution_count": 6,
          "metadata": {},
          "output_type": "execute_result"
        }
      ],
      "source": [
        "base_dataset.describe() # -> Num rows and number of unique values per column"
      ]
    },
    {
      "cell_type": "markdown",
      "metadata": {
        "id": "x38n-NXA2hHl"
      },
      "source": [
        "Drop the unneeded columns"
      ]
    },
    {
      "cell_type": "code",
      "execution_count": 7,
      "metadata": {
        "colab": {
          "base_uri": "https://localhost:8080/"
        },
        "id": "cA4Ck5nqKlOq",
        "outputId": "879073c7-ee1d-4187-b1ad-b91a8378ea65"
      },
      "outputs": [
        {
          "name": "stdout",
          "output_type": "stream",
          "text": [
            "split\n",
            "0    0.800006\n",
            "1    0.199994\n",
            "Name: proportion, dtype: float64\n"
          ]
        }
      ],
      "source": [
        "def get_dataset_with_split(df: pd.DataFrame, validation_frac: float = 0.20) -> pd.DataFrame:\n",
        "  \"\"\"\n",
        "    Adds a split column to the dataframe with two values:\n",
        "    - 0 to indicate the train set\n",
        "    - 1 to indicate the validation set\n",
        "\n",
        "    Parameters:\n",
        "    - df (pd.DataFrame): The input DataFrame.\n",
        "    - validation_frac (float): The fraction of the data to be used for validation.\n",
        "\n",
        "    Returns:\n",
        "    - pd.DataFrame: The DataFrame with the 'split' column added.\n",
        "  \"\"\"\n",
        "  df[\"split\"] = 0\n",
        "  sample_indices = df.sample(frac=validation_frac).index\n",
        "  df.loc[sample_indices, \"split\"] = 1\n",
        "  df = df.sample(frac=1) # Shuffle\n",
        "  print(df['split'].value_counts(normalize=True))\n",
        "  return df\n",
        "\n",
        "\n",
        "split_dataset = get_dataset_with_split(base_dataset)"
      ]
    },
    {
      "cell_type": "markdown",
      "metadata": {
        "id": "3sqURbR_tq5x"
      },
      "source": [
        "### See Final Prepared Dataset"
      ]
    },
    {
      "cell_type": "markdown",
      "metadata": {
        "id": "wJlKXjZOL48K"
      },
      "source": [
        "# Understanding Token Distributions In Each Dataset\n",
        "\n",
        "Another important aspect to optimize training is to get an understand of how the dataset looks like once it is tokenized. This is useful for two reasons:\n",
        "1. The sequence lengths determine memory requirements and how we configure some optimizations. Longer sequences require more memory and make require more specialized hardware, but we can always make some special tradeoffs to make it work on cheaper hardware but train more slowly.\n",
        "2. We may also find that we can ignore some outliers (say the 5% of the longest sequences if they skew far from the general distribution) to boost training speed because longer sequences train more slowly.\n",
        "\n",
        "In the case below, the sequence lengths are typically quite short, so we won't have to worry about either of these things, but is always very useful to inspect so you can make the right tradeoffs.\n"
      ]
    },
    {
      "cell_type": "code",
      "execution_count": 8,
      "metadata": {
        "colab": {
          "base_uri": "https://localhost:8080/",
          "height": 145,
          "referenced_widgets": [
            "e95eff35f2914ae2b7418af9db80004e",
            "23fe409dbc464166ba7115b70d0896de",
            "9c08a494fbe74cb0998f6939bd0d123f",
            "9d31a70bce0a42e89235b678d7bd7f15",
            "bf6be9e027bb41f1b3e91f2ba214d60a",
            "cc984dc068a348f8a5b6a24880030c5f",
            "8f942708d7e24e059aefba245d5d03a8",
            "61e38d7fd1134187b873e6462018a742",
            "a5366b5dd08941afbcfbcde4ce53b828",
            "cfe93e1a6fca460e954fe2cdeac1f47f",
            "9a8c93492db043d18f3695765ddd30fd",
            "67a5259cb7464b7ba07f394f75e60eff",
            "af0a5da290454ea7b72b8d00fef73c80",
            "9edd34da37fa480db12c516313dae302",
            "6701581e5627469c8a0c3987b4c64580",
            "e1543d6789724f8192f2f1dd8f261f56",
            "2a30d36f38fb4e368fcf1a422f901d7a",
            "4dde47b9ebf34d44b9951bfaadfafa83",
            "856877437138447ea12c911b4f453f56",
            "5b8961b0b719446d9f83f17d6de232ec",
            "ea4586aa89294feb8d1ab1cdcc616ebc",
            "f781ffb885fb4c69a01b8ab3ec5cd03d",
            "f900f1f0cba243cba3f9fe7a52aabea2",
            "84558be6ad294653b308e9a0ec6df075",
            "4ef4894b97e843198f58ae880106fd6f",
            "4b5e406a421f467b8042c8785a81a1ca",
            "de48b2de160c465fac6848f872fbcfaa",
            "51a1818ede834ca08ce919f7d8dfa2c6",
            "a09920776a404a7182fb7d73587d24bf",
            "ca99e74b8c9e4d3b8e7ca22f211437df",
            "bccdfcf81922483798b0948f3f78ca0a",
            "62bb5f0bd6294bca850fb4f3c9a34029",
            "b022c8b2f65542a0857f26b3340ffdd4",
            "6fe411f1267d4f079b916e610a67eb47",
            "5edf3a2257a14360b6a0d1ed5eaede23",
            "72c9a62f226740a586de27d6c0473b12",
            "5116f7ce9aca4bff905df508189f8223",
            "e07e8d01939b41b7813112997102789e",
            "da47094209d24ef3aac2b119d027a6eb",
            "88499d06ae1e4b6fb75a6c92bee466ef",
            "eacfb6dbd45e452a9882374aa2500004",
            "4e633b6f4ed44bcab691f4399558408c",
            "20115f39f76642c99694b81ef21e4c28",
            "7ec12157e25047f98a086eeff7c6b086"
          ]
        },
        "id": "s4MMgvKiQ1Ni",
        "outputId": "4a8bf39a-d8b7-4071-ec7b-2dd907b7c79f"
      },
      "outputs": [],
      "source": [
        "BASE_MODEL: str = \"mistralai/Mistral-7B-v0.1\"\n",
        "tokenizer: PreTrainedTokenizer = AutoTokenizer.from_pretrained(BASE_MODEL)"
      ]
    },
    {
      "cell_type": "code",
      "execution_count": 9,
      "metadata": {
        "id": "ROO52yCgM_hT"
      },
      "outputs": [],
      "source": [
        "def get_token_distribution(df: pd.DataFrame, tokenizer: PreTrainedTokenizer) -> Dict[str, int]:\n",
        "    \"\"\"\n",
        "    Calculate the token distribution for each column in the DataFrame after tokenization.\n",
        "\n",
        "    Parameters:\n",
        "    - df (pd.DataFrame): The input DataFrame with text columns.\n",
        "    - tokenizer (PreTrainedTokenizer): The tokenizer to use for tokenization.\n",
        "\n",
        "    Returns:\n",
        "    - Dict[str, int]: A dictionary containing token counts for each column and the total.\n",
        "      Keys are column names, and values are lists of token counts.\n",
        "    \"\"\"\n",
        "    cols = list(set(df.columns) - {\"split\"})\n",
        "\n",
        "    def tokenize_and_count(text):\n",
        "        tokens = tokenizer.tokenize(text)\n",
        "        return len(tokens)\n",
        "\n",
        "    token_counts = {}\n",
        "    for col in cols:\n",
        "        token_counts[col] = df[col].apply(tokenize_and_count).tolist()\n",
        "\n",
        "    # Calculate total token counts for each column\n",
        "    total_counts = [sum(col_counts) for col_counts in zip(*token_counts.values())]\n",
        "    token_counts['total'] = total_counts\n",
        "\n",
        "    return token_counts\n",
        "\n",
        "\n",
        "def calculate_distribution(df: pd.DataFrame, tokenizer: PreTrainedTokenizer) -> pd.DataFrame:\n",
        "    \"\"\"\n",
        "    Calculate statistical distribution metrics for token counts in each column after tokenization.\n",
        "\n",
        "    Parameters:\n",
        "    - df (pd.DataFrame): The input DataFrame with text columns.\n",
        "    - tokenizer (PreTrainedTokenizer): The tokenizer to use for tokenization.\n",
        "\n",
        "    Returns:\n",
        "    - pd.DataFrame: A DataFrame containing statistical distribution metrics:\n",
        "        - 'average': Average token count\n",
        "        - 'min': Minimum token count\n",
        "        - 'max': Maximum token count\n",
        "        - 'median': Median token count\n",
        "        - '75th_percentile': 75th percentile token count\n",
        "        - '90th_percentile': 90th percentile token count\n",
        "        - '95th_percentile': 95th percentile token count\n",
        "        - '99th_percentile': 99th percentile token count\n",
        "      Columns represent different columns in the input DataFrame.\n",
        "    \"\"\"\n",
        "    token_counts = get_token_distribution(df, tokenizer)\n",
        "    result = {}\n",
        "\n",
        "    for key, values in token_counts.items():\n",
        "        values = np.array(values)\n",
        "        result[key] = {\n",
        "            'average': int(np.mean(values)),\n",
        "            'min': np.min(values),\n",
        "            'max': np.max(values),\n",
        "            'median': np.median(values),\n",
        "            '75th_percentile': int(np.percentile(values, 75)),\n",
        "            '90th_percentile': int(np.percentile(values, 90)),\n",
        "            '95th_percentile': int(np.percentile(values, 95)),\n",
        "            '99th_percentile': int(np.percentile(values, 99))\n",
        "        }\n",
        "\n",
        "    return pd.DataFrame(result)"
      ]
    },
    {
      "cell_type": "code",
      "execution_count": 13,
      "metadata": {},
      "outputs": [],
      "source": [
        "split_dataset['instruction'] = split_dataset['instruction'] + split_dataset['input']"
      ]
    },
    {
      "cell_type": "code",
      "execution_count": 14,
      "metadata": {
        "colab": {
          "base_uri": "https://localhost:8080/",
          "height": 300
        },
        "id": "HYQz7YYtJDMP",
        "outputId": "d564dd6e-0d6f-4281-9df9-39fbbbe89d2c"
      },
      "outputs": [
        {
          "data": {
            "text/plain": [
              "'\\\\begin{tabular}{lrrrrr}\\n\\\\toprule\\n & input & output & text & instruction & total \\\\\\\\\\n\\\\midrule\\naverage & 4.000000 & 106.000000 & 0.000000 & 17.000000 & 129.000000 \\\\\\\\\\nmin & 0.000000 & 0.000000 & 0.000000 & 2.000000 & 5.000000 \\\\\\\\\\nmax & 618.000000 & 3688.000000 & 0.000000 & 628.000000 & 3712.000000 \\\\\\\\\\nmedian & 0.000000 & 68.000000 & 0.000000 & 15.000000 & 90.000000 \\\\\\\\\\n75th_percentile & 4.000000 & 128.000000 & 0.000000 & 20.000000 & 151.000000 \\\\\\\\\\n90th_percentile & 14.000000 & 249.000000 & 0.000000 & 29.000000 & 271.000000 \\\\\\\\\\n95th_percentile & 22.000000 & 362.000000 & 0.000000 & 37.000000 & 383.000000 \\\\\\\\\\n99th_percentile & 57.000000 & 694.000000 & 0.000000 & 71.000000 & 714.000000 \\\\\\\\\\n\\\\bottomrule\\n\\\\end{tabular}\\n'"
            ]
          },
          "execution_count": 14,
          "metadata": {},
          "output_type": "execute_result"
        }
      ],
      "source": [
        "res = calculate_distribution(split_dataset, tokenizer)\n",
        "res.to_latex()"
      ]
    },
    {
      "cell_type": "code",
      "execution_count": 20,
      "metadata": {},
      "outputs": [
        {
          "data": {
            "text/html": [
              "<div>\n",
              "<style scoped>\n",
              "    .dataframe tbody tr th:only-of-type {\n",
              "        vertical-align: middle;\n",
              "    }\n",
              "\n",
              "    .dataframe tbody tr th {\n",
              "        vertical-align: top;\n",
              "    }\n",
              "\n",
              "    .dataframe thead th {\n",
              "        text-align: right;\n",
              "    }\n",
              "</style>\n",
              "<table border=\"1\" class=\"dataframe\">\n",
              "  <thead>\n",
              "    <tr style=\"text-align: right;\">\n",
              "      <th></th>\n",
              "      <th>instruction</th>\n",
              "      <th>output</th>\n",
              "    </tr>\n",
              "  </thead>\n",
              "  <tbody>\n",
              "    <tr>\n",
              "      <th>average</th>\n",
              "      <td>17.0</td>\n",
              "      <td>106.0</td>\n",
              "    </tr>\n",
              "    <tr>\n",
              "      <th>min</th>\n",
              "      <td>2.0</td>\n",
              "      <td>0.0</td>\n",
              "    </tr>\n",
              "    <tr>\n",
              "      <th>max</th>\n",
              "      <td>628.0</td>\n",
              "      <td>3688.0</td>\n",
              "    </tr>\n",
              "    <tr>\n",
              "      <th>median</th>\n",
              "      <td>15.0</td>\n",
              "      <td>68.0</td>\n",
              "    </tr>\n",
              "    <tr>\n",
              "      <th>75th_percentile</th>\n",
              "      <td>20.0</td>\n",
              "      <td>128.0</td>\n",
              "    </tr>\n",
              "    <tr>\n",
              "      <th>90th_percentile</th>\n",
              "      <td>29.0</td>\n",
              "      <td>249.0</td>\n",
              "    </tr>\n",
              "    <tr>\n",
              "      <th>95th_percentile</th>\n",
              "      <td>37.0</td>\n",
              "      <td>362.0</td>\n",
              "    </tr>\n",
              "    <tr>\n",
              "      <th>99th_percentile</th>\n",
              "      <td>71.0</td>\n",
              "      <td>694.0</td>\n",
              "    </tr>\n",
              "  </tbody>\n",
              "</table>\n",
              "</div>"
            ],
            "text/plain": [
              "                 instruction  output\n",
              "average                 17.0   106.0\n",
              "min                      2.0     0.0\n",
              "max                    628.0  3688.0\n",
              "median                  15.0    68.0\n",
              "75th_percentile         20.0   128.0\n",
              "90th_percentile         29.0   249.0\n",
              "95th_percentile         37.0   362.0\n",
              "99th_percentile         71.0   694.0"
            ]
          },
          "execution_count": 20,
          "metadata": {},
          "output_type": "execute_result"
        }
      ],
      "source": [
        "# res.drop(columns=['text'], inplace=True)\n",
        "# res.drop(columns=['total'], inplace=True)\n",
        "# res.drop(columns=['input'], inplace=True)\n",
        "# reaarange so that it goes instruction, output, total\n",
        "res = res[['instruction', 'output']]\n",
        "res"
      ]
    },
    {
      "cell_type": "code",
      "execution_count": 21,
      "metadata": {},
      "outputs": [
        {
          "name": "stdout",
          "output_type": "stream",
          "text": [
            "\\begin{tabular}{lrr}\n",
            "\\toprule\n",
            " & instruction & output \\\\\n",
            "\\midrule\n",
            "average & 17.000000 & 106.000000 \\\\\n",
            "min & 2.000000 & 0.000000 \\\\\n",
            "max & 628.000000 & 3688.000000 \\\\\n",
            "median & 15.000000 & 68.000000 \\\\\n",
            "75th_percentile & 20.000000 & 128.000000 \\\\\n",
            "90th_percentile & 29.000000 & 249.000000 \\\\\n",
            "95th_percentile & 37.000000 & 362.000000 \\\\\n",
            "99th_percentile & 71.000000 & 694.000000 \\\\\n",
            "\\bottomrule\n",
            "\\end{tabular}\n",
            "\n"
          ]
        }
      ],
      "source": [
        "print(res.to_latex())"
      ]
    },
    {
      "cell_type": "code",
      "execution_count": 23,
      "metadata": {
        "id": "ur5yfUZESVrX"
      },
      "outputs": [],
      "source": [
        "# remove the rows with entries above the 99th percentile\n",
        "def tokenize_and_count(text):\n",
        "    tokens = tokenizer.tokenize(text)\n",
        "    return len(tokens)\n",
        "\n",
        "# split_dataset['tokenized_in'] = split_dataset['instruction'].apply(tokenize_and_count)\n",
        "split_dataset['tokenized_out'] = split_dataset['output'].apply(tokenize_and_count)\n",
        "\n",
        "# split_dataset = split_dataset[split_dataset['tokenized_in'] < 10000]\n",
        "trimmed_dataset = split_dataset[split_dataset['tokenized_out'] < 540]"
      ]
    },
    {
      "cell_type": "code",
      "execution_count": 24,
      "metadata": {
        "colab": {
          "base_uri": "https://localhost:8080/"
        },
        "id": "-dHKLeSIVkw-",
        "outputId": "3420673e-3d0e-483d-97ab-b93ea486c731"
      },
      "outputs": [
        {
          "data": {
            "text/plain": [
              "Index(['instruction', 'output', 'split', 'tokenized_out'], dtype='object')"
            ]
          },
          "execution_count": 24,
          "metadata": {},
          "output_type": "execute_result"
        }
      ],
      "source": [
        "split_dataset.columns"
      ]
    },
    {
      "cell_type": "code",
      "execution_count": 25,
      "metadata": {
        "colab": {
          "base_uri": "https://localhost:8080/",
          "height": 300
        },
        "id": "5NEiBH2lVcL-",
        "outputId": "1434e6be-f7d3-4d32-d4f4-ebcf03a6d5a6"
      },
      "outputs": [
        {
          "data": {
            "text/html": [
              "<div>\n",
              "<style scoped>\n",
              "    .dataframe tbody tr th:only-of-type {\n",
              "        vertical-align: middle;\n",
              "    }\n",
              "\n",
              "    .dataframe tbody tr th {\n",
              "        vertical-align: top;\n",
              "    }\n",
              "\n",
              "    .dataframe thead th {\n",
              "        text-align: right;\n",
              "    }\n",
              "</style>\n",
              "<table border=\"1\" class=\"dataframe\">\n",
              "  <thead>\n",
              "    <tr style=\"text-align: right;\">\n",
              "      <th></th>\n",
              "      <th>split</th>\n",
              "      <th>tokenized_out</th>\n",
              "    </tr>\n",
              "  </thead>\n",
              "  <tbody>\n",
              "    <tr>\n",
              "      <th>count</th>\n",
              "      <td>57425.000000</td>\n",
              "      <td>57425.000000</td>\n",
              "    </tr>\n",
              "    <tr>\n",
              "      <th>mean</th>\n",
              "      <td>0.200000</td>\n",
              "      <td>84.362647</td>\n",
              "    </tr>\n",
              "    <tr>\n",
              "      <th>std</th>\n",
              "      <td>0.400003</td>\n",
              "      <td>110.363098</td>\n",
              "    </tr>\n",
              "    <tr>\n",
              "      <th>min</th>\n",
              "      <td>0.000000</td>\n",
              "      <td>0.000000</td>\n",
              "    </tr>\n",
              "    <tr>\n",
              "      <th>25%</th>\n",
              "      <td>0.000000</td>\n",
              "      <td>18.000000</td>\n",
              "    </tr>\n",
              "    <tr>\n",
              "      <th>50%</th>\n",
              "      <td>0.000000</td>\n",
              "      <td>57.000000</td>\n",
              "    </tr>\n",
              "    <tr>\n",
              "      <th>75%</th>\n",
              "      <td>0.000000</td>\n",
              "      <td>107.000000</td>\n",
              "    </tr>\n",
              "    <tr>\n",
              "      <th>max</th>\n",
              "      <td>1.000000</td>\n",
              "      <td>2336.000000</td>\n",
              "    </tr>\n",
              "  </tbody>\n",
              "</table>\n",
              "</div>"
            ],
            "text/plain": [
              "              split  tokenized_out\n",
              "count  57425.000000   57425.000000\n",
              "mean       0.200000      84.362647\n",
              "std        0.400003     110.363098\n",
              "min        0.000000       0.000000\n",
              "25%        0.000000      18.000000\n",
              "50%        0.000000      57.000000\n",
              "75%        0.000000     107.000000\n",
              "max        1.000000    2336.000000"
            ]
          },
          "execution_count": 25,
          "metadata": {},
          "output_type": "execute_result"
        }
      ],
      "source": [
        "split_dataset.describe()"
      ]
    },
    {
      "cell_type": "code",
      "execution_count": 26,
      "metadata": {
        "colab": {
          "base_uri": "https://localhost:8080/",
          "height": 300
        },
        "id": "212-SToeVUGq",
        "outputId": "0dcc6af9-d6b4-4279-e1dd-16e0db5380e3"
      },
      "outputs": [
        {
          "data": {
            "text/html": [
              "<div>\n",
              "<style scoped>\n",
              "    .dataframe tbody tr th:only-of-type {\n",
              "        vertical-align: middle;\n",
              "    }\n",
              "\n",
              "    .dataframe tbody tr th {\n",
              "        vertical-align: top;\n",
              "    }\n",
              "\n",
              "    .dataframe thead th {\n",
              "        text-align: right;\n",
              "    }\n",
              "</style>\n",
              "<table border=\"1\" class=\"dataframe\">\n",
              "  <thead>\n",
              "    <tr style=\"text-align: right;\">\n",
              "      <th></th>\n",
              "      <th>split</th>\n",
              "      <th>tokenized_out</th>\n",
              "    </tr>\n",
              "  </thead>\n",
              "  <tbody>\n",
              "    <tr>\n",
              "      <th>count</th>\n",
              "      <td>56852.000000</td>\n",
              "      <td>56852.000000</td>\n",
              "    </tr>\n",
              "    <tr>\n",
              "      <th>mean</th>\n",
              "      <td>0.199835</td>\n",
              "      <td>77.358527</td>\n",
              "    </tr>\n",
              "    <tr>\n",
              "      <th>std</th>\n",
              "      <td>0.399879</td>\n",
              "      <td>81.338109</td>\n",
              "    </tr>\n",
              "    <tr>\n",
              "      <th>min</th>\n",
              "      <td>0.000000</td>\n",
              "      <td>0.000000</td>\n",
              "    </tr>\n",
              "    <tr>\n",
              "      <th>25%</th>\n",
              "      <td>0.000000</td>\n",
              "      <td>18.000000</td>\n",
              "    </tr>\n",
              "    <tr>\n",
              "      <th>50%</th>\n",
              "      <td>0.000000</td>\n",
              "      <td>56.000000</td>\n",
              "    </tr>\n",
              "    <tr>\n",
              "      <th>75%</th>\n",
              "      <td>0.000000</td>\n",
              "      <td>105.000000</td>\n",
              "    </tr>\n",
              "    <tr>\n",
              "      <th>max</th>\n",
              "      <td>1.000000</td>\n",
              "      <td>539.000000</td>\n",
              "    </tr>\n",
              "  </tbody>\n",
              "</table>\n",
              "</div>"
            ],
            "text/plain": [
              "              split  tokenized_out\n",
              "count  56852.000000   56852.000000\n",
              "mean       0.199835      77.358527\n",
              "std        0.399879      81.338109\n",
              "min        0.000000       0.000000\n",
              "25%        0.000000      18.000000\n",
              "50%        0.000000      56.000000\n",
              "75%        0.000000     105.000000\n",
              "max        1.000000     539.000000"
            ]
          },
          "execution_count": 26,
          "metadata": {},
          "output_type": "execute_result"
        }
      ],
      "source": [
        "trimmed_dataset.describe()"
      ]
    },
    {
      "cell_type": "code",
      "execution_count": 28,
      "metadata": {
        "colab": {
          "base_uri": "https://localhost:8080/"
        },
        "id": "KlWasFBFXCr_",
        "outputId": "dbb68250-400a-41f2-bce6-41ca42ccf900"
      },
      "outputs": [
        {
          "name": "stderr",
          "output_type": "stream",
          "text": [
            "/var/folders/83/24d95jlj0_194_rv0vcx1j7r0000gp/T/ipykernel_14122/3393176498.py:2: SettingWithCopyWarning: \n",
            "A value is trying to be set on a copy of a slice from a DataFrame\n",
            "\n",
            "See the caveats in the documentation: https://pandas.pydata.org/pandas-docs/stable/user_guide/indexing.html#returning-a-view-versus-a-copy\n",
            "  trimmed_dataset.drop(columns=['tokenized_out'], inplace=True)\n",
            "/var/folders/83/24d95jlj0_194_rv0vcx1j7r0000gp/T/ipykernel_14122/3393176498.py:4: SettingWithCopyWarning: \n",
            "A value is trying to be set on a copy of a slice from a DataFrame\n",
            "\n",
            "See the caveats in the documentation: https://pandas.pydata.org/pandas-docs/stable/user_guide/indexing.html#returning-a-view-versus-a-copy\n",
            "  trimmed_dataset.rename(columns={'instruction': 'question', 'output': 'answer'}, inplace=True)\n"
          ]
        }
      ],
      "source": [
        "# save the data, dont include any sort of index or the like\n",
        "trimmed_dataset.drop(columns=['tokenized_out'], inplace=True)\n",
        "# rename the remaining columns\n",
        "trimmed_dataset.rename(columns={'instruction': 'question', 'output': 'answer'}, inplace=True)\n",
        "trimmed_dataset.to_csv(\"cleaned_finance.csv\", index=False)"
      ]
    },
    {
      "cell_type": "code",
      "execution_count": 29,
      "metadata": {
        "colab": {
          "base_uri": "https://localhost:8080/",
          "height": 677
        },
        "id": "rjemqz6GXUE7",
        "outputId": "47dc3285-c875-4979-efb4-7928a29899c5"
      },
      "outputs": [
        {
          "data": {
            "text/html": [
              "<div>\n",
              "<style scoped>\n",
              "    .dataframe tbody tr th:only-of-type {\n",
              "        vertical-align: middle;\n",
              "    }\n",
              "\n",
              "    .dataframe tbody tr th {\n",
              "        vertical-align: top;\n",
              "    }\n",
              "\n",
              "    .dataframe thead th {\n",
              "        text-align: right;\n",
              "    }\n",
              "</style>\n",
              "<table border=\"1\" class=\"dataframe\">\n",
              "  <thead>\n",
              "    <tr style=\"text-align: right;\">\n",
              "      <th></th>\n",
              "      <th>question</th>\n",
              "      <th>answer</th>\n",
              "      <th>split</th>\n",
              "    </tr>\n",
              "  </thead>\n",
              "  <tbody>\n",
              "    <tr>\n",
              "      <th>0</th>\n",
              "      <td>Provide a list of items that can be reused or ...</td>\n",
              "      <td>1. Plastic bottles 2. Cardboard boxes 3. Alumi...</td>\n",
              "      <td>1</td>\n",
              "    </tr>\n",
              "    <tr>\n",
              "      <th>1</th>\n",
              "      <td>Convert the given Celsius temperature to Fahre...</td>\n",
              "      <td>21.16 Fahrenheit.</td>\n",
              "      <td>0</td>\n",
              "    </tr>\n",
              "    <tr>\n",
              "      <th>2</th>\n",
              "      <td>Create a timeline of the life of Muhammad Ali.</td>\n",
              "      <td>1942: Born in Louisville, Kentucky.\\n1960: Won...</td>\n",
              "      <td>0</td>\n",
              "    </tr>\n",
              "    <tr>\n",
              "      <th>3</th>\n",
              "      <td>Construct a game involving the given settings.</td>\n",
              "      <td>The game involves a player taking on the role ...</td>\n",
              "      <td>0</td>\n",
              "    </tr>\n",
              "    <tr>\n",
              "      <th>4</th>\n",
              "      <td>Online brokers with a minimum stock purchase l...</td>\n",
              "      <td>With InteractiveBrokers there is no minimum tr...</td>\n",
              "      <td>0</td>\n",
              "    </tr>\n",
              "    <tr>\n",
              "      <th>5</th>\n",
              "      <td>Is playing sports an important part of your da...</td>\n",
              "      <td>Yes, playing sports is a very important part o...</td>\n",
              "      <td>0</td>\n",
              "    </tr>\n",
              "    <tr>\n",
              "      <th>6</th>\n",
              "      <td>Summarize the key features of the given produc...</td>\n",
              "      <td>This phone from ABC Company is a powerful devi...</td>\n",
              "      <td>0</td>\n",
              "    </tr>\n",
              "    <tr>\n",
              "      <th>7</th>\n",
              "      <td>Name two vegetables that start with the letter A</td>\n",
              "      <td>Artichoke, Asparagus</td>\n",
              "      <td>0</td>\n",
              "    </tr>\n",
              "    <tr>\n",
              "      <th>8</th>\n",
              "      <td>Should I put more money down on one property a...</td>\n",
              "      <td>I would go with the 2nd option (put down as li...</td>\n",
              "      <td>0</td>\n",
              "    </tr>\n",
              "    <tr>\n",
              "      <th>9</th>\n",
              "      <td>Describe a vegetation layer of a tropical rain...</td>\n",
              "      <td>The vegetation layer of a tropical rainforest ...</td>\n",
              "      <td>0</td>\n",
              "    </tr>\n",
              "    <tr>\n",
              "      <th>10</th>\n",
              "      <td>State two ways to save energy in a home.</td>\n",
              "      <td>Two ways to save energy in a home are by unplu...</td>\n",
              "      <td>0</td>\n",
              "    </tr>\n",
              "    <tr>\n",
              "      <th>11</th>\n",
              "      <td>Generate a random eight-digit number using the...</td>\n",
              "      <td>import random\\n\\ngenerated_number = random.ran...</td>\n",
              "      <td>1</td>\n",
              "    </tr>\n",
              "    <tr>\n",
              "      <th>12</th>\n",
              "      <td>Choose the word that best completes the senten...</td>\n",
              "      <td>Determined</td>\n",
              "      <td>0</td>\n",
              "    </tr>\n",
              "    <tr>\n",
              "      <th>13</th>\n",
              "      <td>Design a professional email signature for a di...</td>\n",
              "      <td>John Johnson \\nDigital Marketing Manager \\njoh...</td>\n",
              "      <td>0</td>\n",
              "    </tr>\n",
              "    <tr>\n",
              "      <th>14</th>\n",
              "      <td>Describe the features of capitalism.</td>\n",
              "      <td>Capitalism is an economic system driven by pri...</td>\n",
              "      <td>1</td>\n",
              "    </tr>\n",
              "    <tr>\n",
              "      <th>15</th>\n",
              "      <td>Do banks give us interest even for the money t...</td>\n",
              "      <td>Ditto @MichaelBorgwardt Just to get concrete: ...</td>\n",
              "      <td>0</td>\n",
              "    </tr>\n",
              "    <tr>\n",
              "      <th>16</th>\n",
              "      <td>Create a short story that starts with the foll...</td>\n",
              "      <td>The professor walked into the classroom with a...</td>\n",
              "      <td>0</td>\n",
              "    </tr>\n",
              "    <tr>\n",
              "      <th>17</th>\n",
              "      <td>Detect any bias in the following statement and...</td>\n",
              "      <td>This statement is biased against women, as it ...</td>\n",
              "      <td>0</td>\n",
              "    </tr>\n",
              "    <tr>\n",
              "      <th>18</th>\n",
              "      <td>Given the following phrase, generate a list of...</td>\n",
              "      <td>Construct, fabricate, devise, assemble, fashio...</td>\n",
              "      <td>0</td>\n",
              "    </tr>\n",
              "    <tr>\n",
              "      <th>19</th>\n",
              "      <td>Saving for a down payment on a new house, a fe...</td>\n",
              "      <td>Rewards cards charge the merchant more to proc...</td>\n",
              "      <td>0</td>\n",
              "    </tr>\n",
              "  </tbody>\n",
              "</table>\n",
              "</div>"
            ],
            "text/plain": [
              "                                             question  \\\n",
              "0   Provide a list of items that can be reused or ...   \n",
              "1   Convert the given Celsius temperature to Fahre...   \n",
              "2      Create a timeline of the life of Muhammad Ali.   \n",
              "3      Construct a game involving the given settings.   \n",
              "4   Online brokers with a minimum stock purchase l...   \n",
              "5   Is playing sports an important part of your da...   \n",
              "6   Summarize the key features of the given produc...   \n",
              "7    Name two vegetables that start with the letter A   \n",
              "8   Should I put more money down on one property a...   \n",
              "9   Describe a vegetation layer of a tropical rain...   \n",
              "10           State two ways to save energy in a home.   \n",
              "11  Generate a random eight-digit number using the...   \n",
              "12  Choose the word that best completes the senten...   \n",
              "13  Design a professional email signature for a di...   \n",
              "14               Describe the features of capitalism.   \n",
              "15  Do banks give us interest even for the money t...   \n",
              "16  Create a short story that starts with the foll...   \n",
              "17  Detect any bias in the following statement and...   \n",
              "18  Given the following phrase, generate a list of...   \n",
              "19  Saving for a down payment on a new house, a fe...   \n",
              "\n",
              "                                               answer  split  \n",
              "0   1. Plastic bottles 2. Cardboard boxes 3. Alumi...      1  \n",
              "1                                   21.16 Fahrenheit.      0  \n",
              "2   1942: Born in Louisville, Kentucky.\\n1960: Won...      0  \n",
              "3   The game involves a player taking on the role ...      0  \n",
              "4   With InteractiveBrokers there is no minimum tr...      0  \n",
              "5   Yes, playing sports is a very important part o...      0  \n",
              "6   This phone from ABC Company is a powerful devi...      0  \n",
              "7                                Artichoke, Asparagus      0  \n",
              "8   I would go with the 2nd option (put down as li...      0  \n",
              "9   The vegetation layer of a tropical rainforest ...      0  \n",
              "10  Two ways to save energy in a home are by unplu...      0  \n",
              "11  import random\\n\\ngenerated_number = random.ran...      1  \n",
              "12                                         Determined      0  \n",
              "13  John Johnson \\nDigital Marketing Manager \\njoh...      0  \n",
              "14  Capitalism is an economic system driven by pri...      1  \n",
              "15  Ditto @MichaelBorgwardt Just to get concrete: ...      0  \n",
              "16  The professor walked into the classroom with a...      0  \n",
              "17  This statement is biased against women, as it ...      0  \n",
              "18  Construct, fabricate, devise, assemble, fashio...      0  \n",
              "19  Rewards cards charge the merchant more to proc...      0  "
            ]
          },
          "execution_count": 29,
          "metadata": {},
          "output_type": "execute_result"
        }
      ],
      "source": [
        "# read it back in and print head to check the round trip\n",
        "trimmed_dataset = pd.read_csv(\"cleaned_finance.csv\")\n",
        "# trimmed_dataset.drop(columns=['Unnamed: 0'], inplace=True)\n",
        "trimmed_dataset.head(20)"
      ]
    },
    {
      "cell_type": "markdown",
      "metadata": {
        "id": "lbu9-8YGTq5Z"
      },
      "source": [
        "# Fine-Tuning with Predibase\n",
        "\n",
        "As we discussed, there are 4 steps to kicking off a fine-tuning job using the Predibase SDK:\n",
        "\n",
        "1. Prepare your dataset (done above)\n",
        "\n",
        "In this section we will cover the following:\n",
        "2. Upload your dataset to Predibase - can be done either via importing a dataset already in memory like we have, or via file upload.\n",
        "3. Setup the fine-tuning prompt\n",
        "4. Kick-off fine-tuning and monitor the job\n",
        "\n",
        "Beneath the surface, Predibase uses **LoRA adapters** for fine-tuning with a quantized base model. LoRA adapters allow for efficient, light-weight learning by injecting a small set of learnable weights into the base model that are trainable. Not only does it have very comparable performance to full fine-tuning, but it is faster to train and also allows dynamically swapping models at inference time for cost-savings. There will be more about this after we finish fine-tuning."
      ]
    },
    {
      "cell_type": "markdown",
      "metadata": {
        "id": "tKafiK8Oh3PK"
      },
      "source": [
        "## Setup the Prompt Template"
      ]
    },
    {
      "cell_type": "code",
      "execution_count": 36,
      "metadata": {
        "id": "EKv-qD4urHFK"
      },
      "outputs": [],
      "source": [
        "# Define the template used to prompt the model for each example\n",
        "# Note the 4-space indentation, which is necessary for the YAML templating.\n",
        "base_prompt_template: str = \"\"\"\n",
        "    You are a friendly financial advisor. Your job is to help people answer financial and related question.\n",
        "    Make sure when you answer questions you show the steps you took to arrive at your answer. Do your\n",
        "    best to reason step by step. If you don't know the answer, say that you don't know.\n",
        "\n",
        "    Question: {question}\n",
        "\n",
        "    Answer:\n",
        "\"\"\"\n",
        "\n",
        "llm = pc.LLM(f\"hf://{BASE_MODEL}\")"
      ]
    },
    {
      "cell_type": "markdown",
      "metadata": {
        "id": "mx5Duiz06oxz"
      },
      "source": [
        "Note: We don't need to actually provide 1 or more examples in the prompt template for the model to do well. It may be required sometimes for very complex tasks, but as we will see here, we can get away without it which saves us a lot of money on inference tokens and inference query latency."
      ]
    },
    {
      "cell_type": "markdown",
      "metadata": {
        "id": "xWmtXACsq3vf"
      },
      "source": [
        "## Payments Dataset: Upload dataset + Start Fine-Tuning"
      ]
    },
    {
      "cell_type": "code",
      "execution_count": null,
      "metadata": {
        "colab": {
          "base_uri": "https://localhost:8080/"
        },
        "id": "Lx-WmkiKfShu",
        "outputId": "7798323d-5f04-48a3-faef-9d8cfc2cf17b"
      },
      "outputs": [
        {
          "data": {
            "text/plain": [
              "Index(['question', 'answer', 'split'], dtype='object')"
            ]
          },
          "execution_count": 70,
          "metadata": {},
          "output_type": "execute_result"
        }
      ],
      "source": [
        "trimmed_dataset.columns"
      ]
    },
    {
      "cell_type": "code",
      "execution_count": 35,
      "metadata": {
        "id": "acC-TF4-ppIy"
      },
      "outputs": [
        {
          "ename": "ServerResponseError",
          "evalue": "Error 400: uploaded dataset with name already exists: finance_training_dataset. Trace ID: 64b4403d8ae3a54403cc17249962ae91",
          "output_type": "error",
          "traceback": [
            "\u001b[0;31mServerResponseError\u001b[0m\u001b[0;31m:\u001b[0m Error 400: uploaded dataset with name already exists: finance_training_dataset. Trace ID: 64b4403d8ae3a54403cc17249962ae91\n"
          ]
        }
      ],
      "source": [
        "# Upload your dataframe directly to Predibase\n",
        "# Note: You can also use pc.upload_dataset(\"/local/path/to/dataset\") if you've already preprocessed your dataset\n",
        "finance_dataset_handle = pc.create_dataset_from_df(trimmed_dataset, name=\"finance_training_dataset\")"
      ]
    },
    {
      "cell_type": "code",
      "execution_count": null,
      "metadata": {
        "colab": {
          "base_uri": "https://localhost:8080/"
        },
        "id": "VZhIErnggO4H",
        "outputId": "dd39063a-4ba9-45c1-a741-16242e0af750"
      },
      "outputs": [
        {
          "name": "stdout",
          "output_type": "stream",
          "text": [
            "Dataset(id=12980, name=finance_training_dataset, object_name=90f4137c400f44bc9971395aa14bbc19, connection_id=11129, author=ckniffin6@gatech.edu, created=2024-04-08T16:15:52.451465Z, updated=2024-04-08T16:15:52.451465Z)\n"
          ]
        }
      ],
      "source": [
        "print(finance_dataset_handle)"
      ]
    },
    {
      "cell_type": "code",
      "execution_count": 40,
      "metadata": {
        "colab": {
          "base_uri": "https://localhost:8080/",
          "height": 50
        },
        "id": "7GDAvttKpX5s",
        "outputId": "4a547ae9-2c04-4484-9013-f83ffb5daace"
      },
      "outputs": [
        {
          "data": {
            "text/html": [
              "<pre style=\"white-space:pre;overflow-x:auto;line-height:normal;font-family:Menlo,'DejaVu Sans Mono',consolas,'Courier New',monospace\"><span style=\"color: #000080; text-decoration-color: #000080; font-weight: bold\">Model repository Mistral-7B-v0.</span><span style=\"color: #008080; text-decoration-color: #008080; font-weight: bold\">1</span><span style=\"color: #000080; text-decoration-color: #000080; font-weight: bold\">-finance_training_dataset already exists and new models will be added to it.</span>\n",
              "</pre>\n"
            ],
            "text/plain": [
              "\u001b[1;34mModel repository Mistral-7B-v0.\u001b[0m\u001b[1;36m1\u001b[0m\u001b[1;34m-finance_training_dataset already exists and new models will be added to it.\u001b[0m\n"
            ]
          },
          "metadata": {},
          "output_type": "display_data"
        },
        {
          "data": {
            "text/html": [
              "<pre style=\"white-space:pre;overflow-x:auto;line-height:normal;font-family:Menlo,'DejaVu Sans Mono',consolas,'Courier New',monospace\"><span style=\"color: #000080; text-decoration-color: #000080; font-weight: bold\">Check Status of Model Training Here: </span><a href=\"https://app.predibase.com/models/version/16089\" target=\"_blank\"><span style=\"color: #0000ff; text-decoration-color: #0000ff; text-decoration: underline\">https://app.predibase.com/models/version/16089</span></a>\n",
              "</pre>\n"
            ],
            "text/plain": [
              "\u001b[1;34mCheck Status of Model Training Here: \u001b[0m\u001b]8;id=896264;https://app.predibase.com/models/version/16089\u001b\\\u001b[4;94mhttps://app.predibase.com/models/version/16089\u001b[0m\u001b]8;;\u001b\\\n"
            ]
          },
          "metadata": {},
          "output_type": "display_data"
        }
      ],
      "source": [
        "job = llm.finetune(\n",
        "    prompt_template=base_prompt_template,\n",
        "    target=\"answer\",\n",
        "    dataset=\"file_uploads/finance_training_dataset\", # https://docs.predibase.com/user-guide/fine-tuning/create-finetuned-model\n",
        "    epochs=5,\n",
        "    lora_rank=16\n",
        ")"
      ]
    },
    {
      "cell_type": "code",
      "execution_count": 42,
      "metadata": {},
      "outputs": [
        {
          "data": {
            "text/html": [
              "<pre style=\"white-space:pre;overflow-x:auto;line-height:normal;font-family:Menlo,'DejaVu Sans Mono',consolas,'Courier New',monospace\"><span style=\"color: #000080; text-decoration-color: #000080; font-weight: bold\">Created model repository: &lt;</span><span style=\"color: #ff00ff; text-decoration-color: #ff00ff; font-weight: bold\">finace_rank_8</span><span style=\"color: #000080; text-decoration-color: #000080; font-weight: bold\">&gt;</span>\n",
              "</pre>\n"
            ],
            "text/plain": [
              "\u001b[1;34mCreated model repository: \u001b[0m\u001b[1;34m<\u001b[0m\u001b[1;95mfinace_rank_8\u001b[0m\u001b[1;34m>\u001b[0m\n"
            ]
          },
          "metadata": {},
          "output_type": "display_data"
        },
        {
          "data": {
            "text/html": [
              "<pre style=\"white-space:pre;overflow-x:auto;line-height:normal;font-family:Menlo,'DejaVu Sans Mono',consolas,'Courier New',monospace\"><span style=\"color: #000080; text-decoration-color: #000080; font-weight: bold\">Check Status of Model Training Here: </span><a href=\"https://app.predibase.com/models/version/16090\" target=\"_blank\"><span style=\"color: #0000ff; text-decoration-color: #0000ff; text-decoration: underline\">https://app.predibase.com/models/version/16090</span></a>\n",
              "</pre>\n"
            ],
            "text/plain": [
              "\u001b[1;34mCheck Status of Model Training Here: \u001b[0m\u001b]8;id=257211;https://app.predibase.com/models/version/16090\u001b\\\u001b[4;94mhttps://app.predibase.com/models/version/16090\u001b[0m\u001b]8;;\u001b\\\n"
            ]
          },
          "metadata": {},
          "output_type": "display_data"
        }
      ],
      "source": [
        "job = llm.finetune(\n",
        "    repo=\"finace_rank_8\",\n",
        "    prompt_template=base_prompt_template,\n",
        "    target=\"answer\",\n",
        "    dataset=\"file_uploads/finance_training_dataset\", # https://docs.predibase.com/user-guide/fine-tuning/create-finetuned-model\n",
        "    epochs=5,\n",
        "    lora_rank=8\n",
        ")"
      ]
    },
    {
      "cell_type": "code",
      "execution_count": 44,
      "metadata": {},
      "outputs": [
        {
          "ename": "ValueError",
          "evalue": "LoRA rank must be one of 8, 16, 32, or 64",
          "output_type": "error",
          "traceback": [
            "\u001b[0;31mValueError\u001b[0m\u001b[0;31m:\u001b[0m LoRA rank must be one of 8, 16, 32, or 64\n"
          ]
        }
      ],
      "source": [
        "job = llm.finetune(\n",
        "    repo=\"finace_rank_4\",\n",
        "    prompt_template=base_prompt_template,\n",
        "    target=\"answer\",\n",
        "    dataset=\"file_uploads/finance_training_dataset\", # https://docs.predibase.com/user-guide/fine-tuning/create-finetuned-model\n",
        "    epochs=5,\n",
        "    lora_rank=4\n",
        ")"
      ]
    },
    {
      "cell_type": "code",
      "execution_count": null,
      "metadata": {
        "colab": {
          "base_uri": "https://localhost:8080/",
          "height": 55
        },
        "id": "E88FfphitL6d",
        "outputId": "9921e892-de62-4530-b3cc-6a48c8814c29"
      },
      "outputs": [
        {
          "ename": "NameError",
          "evalue": "name 'job' is not defined",
          "output_type": "error",
          "traceback": [
            "\u001b[0;31mNameError\u001b[0m\u001b[0;31m:\u001b[0m name 'job' is not defined\n"
          ]
        }
      ],
      "source": [
        "finance_model = job.get()"
      ]
    },
    {
      "cell_type": "markdown",
      "metadata": {
        "id": "bPusebjm1Tpt"
      },
      "source": [
        "# Fine-Tuning Inference Performance\n",
        "\n",
        "We can use [LoRAX](https://predibase.github.io/lorax/) for multi-LoRA adapter inference.\n",
        "\n",
        "## What is LoRAX?\n",
        "\n",
        "LoRAX (LoRA eXchange) is a framework built by Predibase that allows users to serve thousands of fine-tuned models on a single GPU, dramatically reducing the cost of serving without compromising on throughput or latency.\n",
        "\n",
        "## How does LoRAX work?\n",
        "\n",
        "At inference time, your adapter is downloaded/loaded on top of the base model and used for inference. Since each fine-tuned model at Predibase is an adapter, it means we can load in multiple adapters simultaneously over the same base model and run inference against any of the adapters using LoRAX. All downloaded adapters are kept in memory until some predifined memory threshold is hit, after which they are dynamically swapped out when requests with new adapters come in.\n",
        "\n",
        "## Other LoRAX features:\n",
        "1. Structured Generation with schema enforcement: https://predibase.github.io/lorax/guides/structured_output/\n",
        "2. Dynamic adapter merging: https://predibase.github.io/lorax/guides/merging_adapters/"
      ]
    },
    {
      "cell_type": "code",
      "execution_count": 30,
      "metadata": {
        "id": "roWdCQVR1VRF"
      },
      "outputs": [],
      "source": [
        "# Get a reference to the base mistral-7b model we fine-tuned our datasets on\n",
        "base_model = pc.LLM(\"pb://deployments/mistral-7b\")\n",
        "chat_model = pc.LLM(\"pb://deployments/mistral-7b-instruct\")\n",
        "moe_model = pc.LLM(\"pb://deployments/mixtral-8x7b-instruct-v0-1\")\n",
        "llama_model = pc.LLM(\"pb://deployments/llama-2-7b-chat\")\n",
        "finance_model = pc.get_model(\"Mistral-7B-v0.1-finance_training_dataset\")\n",
        "\n",
        "# Create LoRAX adapter handles for each model on top of the base model\n",
        "ft_finance_llm = base_model.with_adapter(finance_model)\n",
        "\n",
        "options = {\n",
        "    \"max_new_tokens\": 2048, # fine-tuned LLMs actually know how to stop early, so it will not hit the 2048 token limit set here\n",
        "    \"temperature\": 0.1\n",
        "}"
      ]
    },
    {
      "cell_type": "markdown",
      "metadata": {
        "id": "Jd0fjAiK67qm"
      },
      "source": [
        "Now we can prompt all of these models using the same `generate` method! For now, we'll just spot check them to make sure they have learned something reasonable!"
      ]
    },
    {
      "cell_type": "code",
      "execution_count": 33,
      "metadata": {
        "colab": {
          "base_uri": "https://localhost:8080/"
        },
        "id": "iZoL6ZyC7AB4",
        "outputId": "98819012-d871-4174-9cbe-8bc4ccd950b6"
      },
      "outputs": [
        {
          "name": "stdout",
          "output_type": "stream",
          "text": [
            "GeneratedResponse\n",
            "\tprompt: \n",
            "You are a friendly financial advisor. Your job is to help people answer financial and related question.\n",
            "Make sure when you answer questions you show the steps you took to arrive at your answer. Do your\n",
            "best to reason step by step. If you don't know the answer, say that you don't know.\n",
            "\n",
            "Question: \n",
            "You are a friendly financial advisor. Your job is to help people answer financial and related question.\n",
            "Make sure when you answer questions you show the steps you took to arrive at your answer. Do your\n",
            "best to reason step by step. If you don't know the answer, say that you don't know.\n",
            "\n",
            "Question: If I a $35000 loan with a 5% APR how many $500 payments would it take to pay it back?\n",
            "\n",
            "Answer:\n",
            "\n",
            "\n",
            "Answer:\n",
            "\n",
            "\tresponse: 70 payments.\n",
            "\n",
            "GeneratedResponse\n",
            "\tprompt: \n",
            "You are a friendly financial advisor. Your job is to help people answer financial and related question.\n",
            "Make sure when you answer questions you show the steps you took to arrive at your answer. Do your\n",
            "best to reason step by step. If you don't know the answer, say that you don't know.\n",
            "\n",
            "Question: \n",
            "You are a friendly financial advisor. Your job is to help people answer financial and related question.\n",
            "Make sure when you answer questions you show the steps you took to arrive at your answer. Do your\n",
            "best to reason step by step. If you don't know the answer, say that you don't know.\n",
            "\n",
            "Question: If I a $35000 loan with a 5% APR how many $500 payments would it take to pay it back?\n",
            "\n",
            "Answer:\n",
            "\n",
            "\n",
            "Answer:\n",
            "\n",
            "\tresponse: The loan would be paid off in 70 payments of $500.\n",
            "\n",
            "GeneratedResponse\n",
            "\tprompt: \n",
            "You are a friendly financial advisor. Your job is to help people answer financial and related question.\n",
            "Make sure when you answer questions you show the steps you took to arrive at your answer. Do your\n",
            "best to reason step by step. If you don't know the answer, say that you don't know.\n",
            "\n",
            "Question: \n",
            "You are a friendly financial advisor. Your job is to help people answer financial and related question.\n",
            "Make sure when you answer questions you show the steps you took to arrive at your answer. Do your\n",
            "best to reason step by step. If you don't know the answer, say that you don't know.\n",
            "\n",
            "Question: If I a $35000 loan with a 5% APR how many $500 payments would it take to pay it back?\n",
            "\n",
            "Answer:\n",
            "\n",
            "\n",
            "Answer:\n",
            "\n",
            "\tresponse: It would take 70 payments of $500 to pay back the loan.\n",
            "\n"
          ]
        }
      ],
      "source": [
        "# Prompt the base finance model 3 times\n",
        "prompt = \"\"\"\n",
        "You are a friendly financial advisor. Your job is to help people answer financial and related question.\n",
        "Make sure when you answer questions you show the steps you took to arrive at your answer. Do your\n",
        "best to reason step by step. If you don't know the answer, say that you don't know.\n",
        "\n",
        "Question: If I a $35000 loan with a 5% APR how many $500 payments would it take to pay it back?\n",
        "\n",
        "Answer:\n",
        "\"\"\"\n",
        "\n",
        "fin_result1 = ft_finance_llm.prompt(prompt, max_new_tokens=2048)\n",
        "fin_result2 = ft_finance_llm.prompt(prompt, max_new_tokens=2048)\n",
        "fin_result3 = ft_finance_llm.prompt(prompt, max_new_tokens=2048)\n",
        "\n",
        "print(fin_result1)\n",
        "print(fin_result2)\n",
        "print(fin_result3)"
      ]
    },
    {
      "cell_type": "code",
      "execution_count": 34,
      "metadata": {
        "colab": {
          "base_uri": "https://localhost:8080/"
        },
        "id": "gTbUWL20gZea",
        "outputId": "fea84ed2-8c6b-44e6-dccc-61c47e7127e2"
      },
      "outputs": [
        {
          "name": "stdout",
          "output_type": "stream",
          "text": [
            "GeneratedResponse\n",
            "\tprompt: <<SYS>>\n",
            "You are a helpful, respectful and honest assistant. Always answer as helpfully as possible, while being safe. Your answers should not include any harmful, unethical, racist, sexist, toxic, dangerous, or illegal content. Please ensure that your responses are socially unbiased and positive in nature.\n",
            "\n",
            "If a question does not make any sense, or is not factually coherent, explain why instead of answering something not correct. If you don't know the answer to a question, please don't share false information.\n",
            "<</SYS>>\n",
            "\n",
            "[INST] \n",
            "You are a friendly financial advisor. Your job is to help people answer financial and related question.\n",
            "Make sure when you answer questions you show the steps you took to arrive at your answer. Do your\n",
            "best to reason step by step. If you don't know the answer, say that you don't know.\n",
            "\n",
            "Question: If I a $35000 loan with a 5% APR how many $500 payments would it take to pay it back?\n",
            "\n",
            "Answer:\n",
            " [/INST]\n",
            "\n",
            "\tresponse: Sure, I'd be happy to help you with that! Let's break it down:\n",
            "\n",
            "1. First, we need to find out how much the total cost of the loan will be. This includes the initial loan amount and the interest that will accumulate over the loan period. The formula for calculating the total cost of a loan is:\n",
            "\n",
            "    Total Cost = Loan Amount + (Loan Amount * APR * Loan Term)\n",
            "\n",
            "2. In this case, the loan amount is $35,000, the APR is 5% (or 0.05 as a decimal), and the loan term will be determined by the number of $500 payments. Since we don't know the loan term yet, we'll call it 'n' for now.\n",
            "\n",
            "3. So, the total cost formula becomes:\n",
            "\n",
            "    Total Cost = $35,000 + ($35,000 * 0.05 * n)\n",
            "\n",
            "4. We know that each payment is $500, so the total number of payments (or the loan term) will be:\n",
            "\n",
            "    n = Total Cost / $500\n",
            "\n",
            "5. Now, we need to find a value for 'n' that will result in the total cost being completely paid off. This is a bit tricky because the total cost depends on 'n', and 'n' depends on the total cost. However, we can use a process of trial and error to find an approximate value for 'n'.\n",
            "\n",
            "6. Let's start by guessing that 'n' is 70. That would mean there are 70 payments of $500 each. Plugging this into our total cost formula:\n",
            "\n",
            "    Total Cost = $35,000 + ($35,000 * 0.05 * 70)\n",
            "    Total Cost = $35,000 + $12,250\n",
            "    Total Cost = $47,250\n",
            "\n",
            "7. This is more than the initial loan amount, but that's okay. It just means that our guess for 'n' was too low. We can repeat the process with a higher guess for 'n'. After a few iterations, we find that 'n' is approximately 84.\n",
            "\n",
            "8. So, it would take about 84 payments of $500 each to pay off a $35,000 loan with a 5% APR.\n",
            "\n",
            "GeneratedResponse\n",
            "\tprompt: <<SYS>>\n",
            "You are a helpful, respectful and honest assistant. Always answer as helpfully as possible, while being safe. Your answers should not include any harmful, unethical, racist, sexist, toxic, dangerous, or illegal content. Please ensure that your responses are socially unbiased and positive in nature.\n",
            "\n",
            "If a question does not make any sense, or is not factually coherent, explain why instead of answering something not correct. If you don't know the answer to a question, please don't share false information.\n",
            "<</SYS>>\n",
            "\n",
            "[INST] \n",
            "You are a friendly financial advisor. Your job is to help people answer financial and related question.\n",
            "Make sure when you answer questions you show the steps you took to arrive at your answer. Do your\n",
            "best to reason step by step. If you don't know the answer, say that you don't know.\n",
            "\n",
            "Question: If I a $35000 loan with a 5% APR how many $500 payments would it take to pay it back?\n",
            "\n",
            "Answer:\n",
            " [/INST]\n",
            "\n",
            "\tresponse: Sure, I'd be happy to help you with that! Let's break it down:\n",
            "\n",
            "1. First, we need to find out how much the total cost of the loan will be. This includes the original amount borrowed (the principal) and the interest that will accumulate over the life of the loan.\n",
            "\n",
            "2. The formula for calculating the total cost of a loan is:\n",
            "\n",
            "   Total Cost = Principal * (1 + (APR / number of payments per year))^(number of payments per year * number of years)\n",
            "\n",
            "3. In this case, the principal is $35,000, the APR is 5% (or 0.05 as a decimal), and the payment amount is $500, so we can assume that there are 35000 / 500 = 70 payments per year.\n",
            "\n",
            "4. However, the problem doesn't specify how many years the loan is for, so let's call the number of years \"n\".\n",
            "\n",
            "5. Substituting these values into the formula, we get:\n",
            "\n",
            "   Total Cost = 35000 * (1 + (0.05 / 70))^(70 * n)\n",
            "\n",
            "6. To find the number of years it will take to pay off the loan, we need to set the Total Cost equal to zero and solve for n:\n",
            "\n",
            "   0 = 35000 * (1 + (0.05 / 70))^(70 * n)\n",
            "\n",
            "7. Taking the natural logarithm of both sides and solving for n, we get:\n",
            "\n",
            "   n = ln(0) / (70 * ln(1 + (0.05 / 70)))\n",
            "\n",
            "8. However, this formula will give us an error because the natural logarithm of zero is undefined. This means that it's not possible to pay off the loan with $500 payments alone.\n",
            "\n",
            "9. If we want to find out how long it would take to pay off the loan if we increased the payment amount, we could use a similar formula, but with a different payment amount.\n",
            "\n",
            "I hope this helps! Let me know if you have any other questions.\n",
            "\n",
            "GeneratedResponse\n",
            "\tprompt: <<SYS>>\n",
            "You are a helpful, respectful and honest assistant. Always answer as helpfully as possible, while being safe. Your answers should not include any harmful, unethical, racist, sexist, toxic, dangerous, or illegal content. Please ensure that your responses are socially unbiased and positive in nature.\n",
            "\n",
            "If a question does not make any sense, or is not factually coherent, explain why instead of answering something not correct. If you don't know the answer to a question, please don't share false information.\n",
            "<</SYS>>\n",
            "\n",
            "[INST] \n",
            "You are a friendly financial advisor. Your job is to help people answer financial and related question.\n",
            "Make sure when you answer questions you show the steps you took to arrive at your answer. Do your\n",
            "best to reason step by step. If you don't know the answer, say that you don't know.\n",
            "\n",
            "Question: If I a $35000 loan with a 5% APR how many $500 payments would it take to pay it back?\n",
            "\n",
            "Answer:\n",
            " [/INST]\n",
            "\n",
            "\tresponse: Sure, I'd be happy to help you with that! Let's break it down:\n",
            "\n",
            "1. First, we need to find out how much the total cost of the loan will be. This includes the initial loan amount and the interest that will accumulate over the loan term. The formula for calculating the total cost of a loan is:\n",
            "\n",
            "    Total Cost = Loan Amount x (1 + (APR / 100))^Number of Payments\n",
            "\n",
            "2. In this case, the loan amount is $35,000, the APR is 5% (or 0.05 in decimal form), and the payment amount is $500. Since we're trying to find out how many payments it would take, we don't know the number of payments yet. However, we can use a variable, like N, to represent the number of payments.\n",
            "\n",
            "3. So, the formula becomes:\n",
            "\n",
            "    $35,000 x (1 + (0.05 / 100))^N = $35,000 + Total Interest\n",
            "\n",
            "4. To simplify the formula, we can remove the $35,000 on both sides:\n",
            "\n",
            "    (1 + (0.05 / 100))^N = 1 + (Total Interest / $35,000)\n",
            "\n",
            "5. At this point, we can't solve the equation directly because we don't know the total interest. However, we can use a guess-and-check method or a financial calculator to find an approximate value for N.\n",
            "\n",
            "6. After using a financial calculator, we find that it would take approximately 74 payments of $500 to pay off the loan.\n",
            "\n",
            "So, it would take around 74 $500 payments to pay off a $35,000 loan with a 5% APR. Please note that this is an approximation and the exact number may vary depending on the specific terms of your loan.\n",
            "\n"
          ]
        }
      ],
      "source": [
        "moe_result1 = moe_model.prompt(prompt, max_new_tokens=2048)\n",
        "moe_result2 = moe_model.prompt(prompt, max_new_tokens=2048)\n",
        "moe_result3 = moe_model.prompt(prompt, max_new_tokens=2048)\n",
        "\n",
        "print(moe_result1)\n",
        "print(moe_result2)\n",
        "print(moe_result3)"
      ]
    }
  ],
  "metadata": {
    "colab": {
      "collapsed_sections": [
        "grzA3xC1oJfz",
        "BqaVNueWoMIi",
        "dDApByP0oOV6",
        "-Rl0NtT3wq2g"
      ],
      "provenance": []
    },
    "kernelspec": {
      "display_name": "Python 3",
      "name": "python3"
    },
    "language_info": {
      "codemirror_mode": {
        "name": "ipython",
        "version": 3
      },
      "file_extension": ".py",
      "mimetype": "text/x-python",
      "name": "python",
      "nbconvert_exporter": "python",
      "pygments_lexer": "ipython3",
      "version": "3.11.3"
    },
    "widgets": {
      "application/vnd.jupyter.widget-state+json": {
        "20115f39f76642c99694b81ef21e4c28": {
          "model_module": "@jupyter-widgets/base",
          "model_module_version": "1.2.0",
          "model_name": "LayoutModel",
          "state": {
            "_model_module": "@jupyter-widgets/base",
            "_model_module_version": "1.2.0",
            "_model_name": "LayoutModel",
            "_view_count": null,
            "_view_module": "@jupyter-widgets/base",
            "_view_module_version": "1.2.0",
            "_view_name": "LayoutView",
            "align_content": null,
            "align_items": null,
            "align_self": null,
            "border": null,
            "bottom": null,
            "display": null,
            "flex": null,
            "flex_flow": null,
            "grid_area": null,
            "grid_auto_columns": null,
            "grid_auto_flow": null,
            "grid_auto_rows": null,
            "grid_column": null,
            "grid_gap": null,
            "grid_row": null,
            "grid_template_areas": null,
            "grid_template_columns": null,
            "grid_template_rows": null,
            "height": null,
            "justify_content": null,
            "justify_items": null,
            "left": null,
            "margin": null,
            "max_height": null,
            "max_width": null,
            "min_height": null,
            "min_width": null,
            "object_fit": null,
            "object_position": null,
            "order": null,
            "overflow": null,
            "overflow_x": null,
            "overflow_y": null,
            "padding": null,
            "right": null,
            "top": null,
            "visibility": null,
            "width": null
          }
        },
        "23fe409dbc464166ba7115b70d0896de": {
          "model_module": "@jupyter-widgets/controls",
          "model_module_version": "1.5.0",
          "model_name": "HTMLModel",
          "state": {
            "_dom_classes": [],
            "_model_module": "@jupyter-widgets/controls",
            "_model_module_version": "1.5.0",
            "_model_name": "HTMLModel",
            "_view_count": null,
            "_view_module": "@jupyter-widgets/controls",
            "_view_module_version": "1.5.0",
            "_view_name": "HTMLView",
            "description": "",
            "description_tooltip": null,
            "layout": "IPY_MODEL_cc984dc068a348f8a5b6a24880030c5f",
            "placeholder": "​",
            "style": "IPY_MODEL_8f942708d7e24e059aefba245d5d03a8",
            "value": "tokenizer_config.json: 100%"
          }
        },
        "2a30d36f38fb4e368fcf1a422f901d7a": {
          "model_module": "@jupyter-widgets/base",
          "model_module_version": "1.2.0",
          "model_name": "LayoutModel",
          "state": {
            "_model_module": "@jupyter-widgets/base",
            "_model_module_version": "1.2.0",
            "_model_name": "LayoutModel",
            "_view_count": null,
            "_view_module": "@jupyter-widgets/base",
            "_view_module_version": "1.2.0",
            "_view_name": "LayoutView",
            "align_content": null,
            "align_items": null,
            "align_self": null,
            "border": null,
            "bottom": null,
            "display": null,
            "flex": null,
            "flex_flow": null,
            "grid_area": null,
            "grid_auto_columns": null,
            "grid_auto_flow": null,
            "grid_auto_rows": null,
            "grid_column": null,
            "grid_gap": null,
            "grid_row": null,
            "grid_template_areas": null,
            "grid_template_columns": null,
            "grid_template_rows": null,
            "height": null,
            "justify_content": null,
            "justify_items": null,
            "left": null,
            "margin": null,
            "max_height": null,
            "max_width": null,
            "min_height": null,
            "min_width": null,
            "object_fit": null,
            "object_position": null,
            "order": null,
            "overflow": null,
            "overflow_x": null,
            "overflow_y": null,
            "padding": null,
            "right": null,
            "top": null,
            "visibility": null,
            "width": null
          }
        },
        "4b5e406a421f467b8042c8785a81a1ca": {
          "model_module": "@jupyter-widgets/controls",
          "model_module_version": "1.5.0",
          "model_name": "HTMLModel",
          "state": {
            "_dom_classes": [],
            "_model_module": "@jupyter-widgets/controls",
            "_model_module_version": "1.5.0",
            "_model_name": "HTMLModel",
            "_view_count": null,
            "_view_module": "@jupyter-widgets/controls",
            "_view_module_version": "1.5.0",
            "_view_name": "HTMLView",
            "description": "",
            "description_tooltip": null,
            "layout": "IPY_MODEL_62bb5f0bd6294bca850fb4f3c9a34029",
            "placeholder": "​",
            "style": "IPY_MODEL_b022c8b2f65542a0857f26b3340ffdd4",
            "value": " 1.80M/1.80M [00:00&lt;00:00, 18.6MB/s]"
          }
        },
        "4dde47b9ebf34d44b9951bfaadfafa83": {
          "model_module": "@jupyter-widgets/controls",
          "model_module_version": "1.5.0",
          "model_name": "DescriptionStyleModel",
          "state": {
            "_model_module": "@jupyter-widgets/controls",
            "_model_module_version": "1.5.0",
            "_model_name": "DescriptionStyleModel",
            "_view_count": null,
            "_view_module": "@jupyter-widgets/base",
            "_view_module_version": "1.2.0",
            "_view_name": "StyleView",
            "description_width": ""
          }
        },
        "4e633b6f4ed44bcab691f4399558408c": {
          "model_module": "@jupyter-widgets/controls",
          "model_module_version": "1.5.0",
          "model_name": "ProgressStyleModel",
          "state": {
            "_model_module": "@jupyter-widgets/controls",
            "_model_module_version": "1.5.0",
            "_model_name": "ProgressStyleModel",
            "_view_count": null,
            "_view_module": "@jupyter-widgets/base",
            "_view_module_version": "1.2.0",
            "_view_name": "StyleView",
            "bar_color": null,
            "description_width": ""
          }
        },
        "4ef4894b97e843198f58ae880106fd6f": {
          "model_module": "@jupyter-widgets/controls",
          "model_module_version": "1.5.0",
          "model_name": "FloatProgressModel",
          "state": {
            "_dom_classes": [],
            "_model_module": "@jupyter-widgets/controls",
            "_model_module_version": "1.5.0",
            "_model_name": "FloatProgressModel",
            "_view_count": null,
            "_view_module": "@jupyter-widgets/controls",
            "_view_module_version": "1.5.0",
            "_view_name": "ProgressView",
            "bar_style": "success",
            "description": "",
            "description_tooltip": null,
            "layout": "IPY_MODEL_ca99e74b8c9e4d3b8e7ca22f211437df",
            "max": 1795303,
            "min": 0,
            "orientation": "horizontal",
            "style": "IPY_MODEL_bccdfcf81922483798b0948f3f78ca0a",
            "value": 1795303
          }
        },
        "5116f7ce9aca4bff905df508189f8223": {
          "model_module": "@jupyter-widgets/controls",
          "model_module_version": "1.5.0",
          "model_name": "HTMLModel",
          "state": {
            "_dom_classes": [],
            "_model_module": "@jupyter-widgets/controls",
            "_model_module_version": "1.5.0",
            "_model_name": "HTMLModel",
            "_view_count": null,
            "_view_module": "@jupyter-widgets/controls",
            "_view_module_version": "1.5.0",
            "_view_name": "HTMLView",
            "description": "",
            "description_tooltip": null,
            "layout": "IPY_MODEL_20115f39f76642c99694b81ef21e4c28",
            "placeholder": "​",
            "style": "IPY_MODEL_7ec12157e25047f98a086eeff7c6b086",
            "value": " 72.0/72.0 [00:00&lt;00:00, 2.85kB/s]"
          }
        },
        "51a1818ede834ca08ce919f7d8dfa2c6": {
          "model_module": "@jupyter-widgets/base",
          "model_module_version": "1.2.0",
          "model_name": "LayoutModel",
          "state": {
            "_model_module": "@jupyter-widgets/base",
            "_model_module_version": "1.2.0",
            "_model_name": "LayoutModel",
            "_view_count": null,
            "_view_module": "@jupyter-widgets/base",
            "_view_module_version": "1.2.0",
            "_view_name": "LayoutView",
            "align_content": null,
            "align_items": null,
            "align_self": null,
            "border": null,
            "bottom": null,
            "display": null,
            "flex": null,
            "flex_flow": null,
            "grid_area": null,
            "grid_auto_columns": null,
            "grid_auto_flow": null,
            "grid_auto_rows": null,
            "grid_column": null,
            "grid_gap": null,
            "grid_row": null,
            "grid_template_areas": null,
            "grid_template_columns": null,
            "grid_template_rows": null,
            "height": null,
            "justify_content": null,
            "justify_items": null,
            "left": null,
            "margin": null,
            "max_height": null,
            "max_width": null,
            "min_height": null,
            "min_width": null,
            "object_fit": null,
            "object_position": null,
            "order": null,
            "overflow": null,
            "overflow_x": null,
            "overflow_y": null,
            "padding": null,
            "right": null,
            "top": null,
            "visibility": null,
            "width": null
          }
        },
        "5b8961b0b719446d9f83f17d6de232ec": {
          "model_module": "@jupyter-widgets/controls",
          "model_module_version": "1.5.0",
          "model_name": "ProgressStyleModel",
          "state": {
            "_model_module": "@jupyter-widgets/controls",
            "_model_module_version": "1.5.0",
            "_model_name": "ProgressStyleModel",
            "_view_count": null,
            "_view_module": "@jupyter-widgets/base",
            "_view_module_version": "1.2.0",
            "_view_name": "StyleView",
            "bar_color": null,
            "description_width": ""
          }
        },
        "5edf3a2257a14360b6a0d1ed5eaede23": {
          "model_module": "@jupyter-widgets/controls",
          "model_module_version": "1.5.0",
          "model_name": "HTMLModel",
          "state": {
            "_dom_classes": [],
            "_model_module": "@jupyter-widgets/controls",
            "_model_module_version": "1.5.0",
            "_model_name": "HTMLModel",
            "_view_count": null,
            "_view_module": "@jupyter-widgets/controls",
            "_view_module_version": "1.5.0",
            "_view_name": "HTMLView",
            "description": "",
            "description_tooltip": null,
            "layout": "IPY_MODEL_da47094209d24ef3aac2b119d027a6eb",
            "placeholder": "​",
            "style": "IPY_MODEL_88499d06ae1e4b6fb75a6c92bee466ef",
            "value": "special_tokens_map.json: 100%"
          }
        },
        "61e38d7fd1134187b873e6462018a742": {
          "model_module": "@jupyter-widgets/base",
          "model_module_version": "1.2.0",
          "model_name": "LayoutModel",
          "state": {
            "_model_module": "@jupyter-widgets/base",
            "_model_module_version": "1.2.0",
            "_model_name": "LayoutModel",
            "_view_count": null,
            "_view_module": "@jupyter-widgets/base",
            "_view_module_version": "1.2.0",
            "_view_name": "LayoutView",
            "align_content": null,
            "align_items": null,
            "align_self": null,
            "border": null,
            "bottom": null,
            "display": null,
            "flex": null,
            "flex_flow": null,
            "grid_area": null,
            "grid_auto_columns": null,
            "grid_auto_flow": null,
            "grid_auto_rows": null,
            "grid_column": null,
            "grid_gap": null,
            "grid_row": null,
            "grid_template_areas": null,
            "grid_template_columns": null,
            "grid_template_rows": null,
            "height": null,
            "justify_content": null,
            "justify_items": null,
            "left": null,
            "margin": null,
            "max_height": null,
            "max_width": null,
            "min_height": null,
            "min_width": null,
            "object_fit": null,
            "object_position": null,
            "order": null,
            "overflow": null,
            "overflow_x": null,
            "overflow_y": null,
            "padding": null,
            "right": null,
            "top": null,
            "visibility": null,
            "width": null
          }
        },
        "62bb5f0bd6294bca850fb4f3c9a34029": {
          "model_module": "@jupyter-widgets/base",
          "model_module_version": "1.2.0",
          "model_name": "LayoutModel",
          "state": {
            "_model_module": "@jupyter-widgets/base",
            "_model_module_version": "1.2.0",
            "_model_name": "LayoutModel",
            "_view_count": null,
            "_view_module": "@jupyter-widgets/base",
            "_view_module_version": "1.2.0",
            "_view_name": "LayoutView",
            "align_content": null,
            "align_items": null,
            "align_self": null,
            "border": null,
            "bottom": null,
            "display": null,
            "flex": null,
            "flex_flow": null,
            "grid_area": null,
            "grid_auto_columns": null,
            "grid_auto_flow": null,
            "grid_auto_rows": null,
            "grid_column": null,
            "grid_gap": null,
            "grid_row": null,
            "grid_template_areas": null,
            "grid_template_columns": null,
            "grid_template_rows": null,
            "height": null,
            "justify_content": null,
            "justify_items": null,
            "left": null,
            "margin": null,
            "max_height": null,
            "max_width": null,
            "min_height": null,
            "min_width": null,
            "object_fit": null,
            "object_position": null,
            "order": null,
            "overflow": null,
            "overflow_x": null,
            "overflow_y": null,
            "padding": null,
            "right": null,
            "top": null,
            "visibility": null,
            "width": null
          }
        },
        "6701581e5627469c8a0c3987b4c64580": {
          "model_module": "@jupyter-widgets/controls",
          "model_module_version": "1.5.0",
          "model_name": "HTMLModel",
          "state": {
            "_dom_classes": [],
            "_model_module": "@jupyter-widgets/controls",
            "_model_module_version": "1.5.0",
            "_model_name": "HTMLModel",
            "_view_count": null,
            "_view_module": "@jupyter-widgets/controls",
            "_view_module_version": "1.5.0",
            "_view_name": "HTMLView",
            "description": "",
            "description_tooltip": null,
            "layout": "IPY_MODEL_ea4586aa89294feb8d1ab1cdcc616ebc",
            "placeholder": "​",
            "style": "IPY_MODEL_f781ffb885fb4c69a01b8ab3ec5cd03d",
            "value": " 493k/493k [00:00&lt;00:00, 6.54MB/s]"
          }
        },
        "67a5259cb7464b7ba07f394f75e60eff": {
          "model_module": "@jupyter-widgets/controls",
          "model_module_version": "1.5.0",
          "model_name": "HBoxModel",
          "state": {
            "_dom_classes": [],
            "_model_module": "@jupyter-widgets/controls",
            "_model_module_version": "1.5.0",
            "_model_name": "HBoxModel",
            "_view_count": null,
            "_view_module": "@jupyter-widgets/controls",
            "_view_module_version": "1.5.0",
            "_view_name": "HBoxView",
            "box_style": "",
            "children": [
              "IPY_MODEL_af0a5da290454ea7b72b8d00fef73c80",
              "IPY_MODEL_9edd34da37fa480db12c516313dae302",
              "IPY_MODEL_6701581e5627469c8a0c3987b4c64580"
            ],
            "layout": "IPY_MODEL_e1543d6789724f8192f2f1dd8f261f56"
          }
        },
        "6fe411f1267d4f079b916e610a67eb47": {
          "model_module": "@jupyter-widgets/controls",
          "model_module_version": "1.5.0",
          "model_name": "HBoxModel",
          "state": {
            "_dom_classes": [],
            "_model_module": "@jupyter-widgets/controls",
            "_model_module_version": "1.5.0",
            "_model_name": "HBoxModel",
            "_view_count": null,
            "_view_module": "@jupyter-widgets/controls",
            "_view_module_version": "1.5.0",
            "_view_name": "HBoxView",
            "box_style": "",
            "children": [
              "IPY_MODEL_5edf3a2257a14360b6a0d1ed5eaede23",
              "IPY_MODEL_72c9a62f226740a586de27d6c0473b12",
              "IPY_MODEL_5116f7ce9aca4bff905df508189f8223"
            ],
            "layout": "IPY_MODEL_e07e8d01939b41b7813112997102789e"
          }
        },
        "72c9a62f226740a586de27d6c0473b12": {
          "model_module": "@jupyter-widgets/controls",
          "model_module_version": "1.5.0",
          "model_name": "FloatProgressModel",
          "state": {
            "_dom_classes": [],
            "_model_module": "@jupyter-widgets/controls",
            "_model_module_version": "1.5.0",
            "_model_name": "FloatProgressModel",
            "_view_count": null,
            "_view_module": "@jupyter-widgets/controls",
            "_view_module_version": "1.5.0",
            "_view_name": "ProgressView",
            "bar_style": "success",
            "description": "",
            "description_tooltip": null,
            "layout": "IPY_MODEL_eacfb6dbd45e452a9882374aa2500004",
            "max": 72,
            "min": 0,
            "orientation": "horizontal",
            "style": "IPY_MODEL_4e633b6f4ed44bcab691f4399558408c",
            "value": 72
          }
        },
        "7ec12157e25047f98a086eeff7c6b086": {
          "model_module": "@jupyter-widgets/controls",
          "model_module_version": "1.5.0",
          "model_name": "DescriptionStyleModel",
          "state": {
            "_model_module": "@jupyter-widgets/controls",
            "_model_module_version": "1.5.0",
            "_model_name": "DescriptionStyleModel",
            "_view_count": null,
            "_view_module": "@jupyter-widgets/base",
            "_view_module_version": "1.2.0",
            "_view_name": "StyleView",
            "description_width": ""
          }
        },
        "84558be6ad294653b308e9a0ec6df075": {
          "model_module": "@jupyter-widgets/controls",
          "model_module_version": "1.5.0",
          "model_name": "HTMLModel",
          "state": {
            "_dom_classes": [],
            "_model_module": "@jupyter-widgets/controls",
            "_model_module_version": "1.5.0",
            "_model_name": "HTMLModel",
            "_view_count": null,
            "_view_module": "@jupyter-widgets/controls",
            "_view_module_version": "1.5.0",
            "_view_name": "HTMLView",
            "description": "",
            "description_tooltip": null,
            "layout": "IPY_MODEL_51a1818ede834ca08ce919f7d8dfa2c6",
            "placeholder": "​",
            "style": "IPY_MODEL_a09920776a404a7182fb7d73587d24bf",
            "value": "tokenizer.json: 100%"
          }
        },
        "856877437138447ea12c911b4f453f56": {
          "model_module": "@jupyter-widgets/base",
          "model_module_version": "1.2.0",
          "model_name": "LayoutModel",
          "state": {
            "_model_module": "@jupyter-widgets/base",
            "_model_module_version": "1.2.0",
            "_model_name": "LayoutModel",
            "_view_count": null,
            "_view_module": "@jupyter-widgets/base",
            "_view_module_version": "1.2.0",
            "_view_name": "LayoutView",
            "align_content": null,
            "align_items": null,
            "align_self": null,
            "border": null,
            "bottom": null,
            "display": null,
            "flex": null,
            "flex_flow": null,
            "grid_area": null,
            "grid_auto_columns": null,
            "grid_auto_flow": null,
            "grid_auto_rows": null,
            "grid_column": null,
            "grid_gap": null,
            "grid_row": null,
            "grid_template_areas": null,
            "grid_template_columns": null,
            "grid_template_rows": null,
            "height": null,
            "justify_content": null,
            "justify_items": null,
            "left": null,
            "margin": null,
            "max_height": null,
            "max_width": null,
            "min_height": null,
            "min_width": null,
            "object_fit": null,
            "object_position": null,
            "order": null,
            "overflow": null,
            "overflow_x": null,
            "overflow_y": null,
            "padding": null,
            "right": null,
            "top": null,
            "visibility": null,
            "width": null
          }
        },
        "88499d06ae1e4b6fb75a6c92bee466ef": {
          "model_module": "@jupyter-widgets/controls",
          "model_module_version": "1.5.0",
          "model_name": "DescriptionStyleModel",
          "state": {
            "_model_module": "@jupyter-widgets/controls",
            "_model_module_version": "1.5.0",
            "_model_name": "DescriptionStyleModel",
            "_view_count": null,
            "_view_module": "@jupyter-widgets/base",
            "_view_module_version": "1.2.0",
            "_view_name": "StyleView",
            "description_width": ""
          }
        },
        "8f942708d7e24e059aefba245d5d03a8": {
          "model_module": "@jupyter-widgets/controls",
          "model_module_version": "1.5.0",
          "model_name": "DescriptionStyleModel",
          "state": {
            "_model_module": "@jupyter-widgets/controls",
            "_model_module_version": "1.5.0",
            "_model_name": "DescriptionStyleModel",
            "_view_count": null,
            "_view_module": "@jupyter-widgets/base",
            "_view_module_version": "1.2.0",
            "_view_name": "StyleView",
            "description_width": ""
          }
        },
        "9a8c93492db043d18f3695765ddd30fd": {
          "model_module": "@jupyter-widgets/controls",
          "model_module_version": "1.5.0",
          "model_name": "DescriptionStyleModel",
          "state": {
            "_model_module": "@jupyter-widgets/controls",
            "_model_module_version": "1.5.0",
            "_model_name": "DescriptionStyleModel",
            "_view_count": null,
            "_view_module": "@jupyter-widgets/base",
            "_view_module_version": "1.2.0",
            "_view_name": "StyleView",
            "description_width": ""
          }
        },
        "9c08a494fbe74cb0998f6939bd0d123f": {
          "model_module": "@jupyter-widgets/controls",
          "model_module_version": "1.5.0",
          "model_name": "FloatProgressModel",
          "state": {
            "_dom_classes": [],
            "_model_module": "@jupyter-widgets/controls",
            "_model_module_version": "1.5.0",
            "_model_name": "FloatProgressModel",
            "_view_count": null,
            "_view_module": "@jupyter-widgets/controls",
            "_view_module_version": "1.5.0",
            "_view_name": "ProgressView",
            "bar_style": "success",
            "description": "",
            "description_tooltip": null,
            "layout": "IPY_MODEL_61e38d7fd1134187b873e6462018a742",
            "max": 967,
            "min": 0,
            "orientation": "horizontal",
            "style": "IPY_MODEL_a5366b5dd08941afbcfbcde4ce53b828",
            "value": 967
          }
        },
        "9d31a70bce0a42e89235b678d7bd7f15": {
          "model_module": "@jupyter-widgets/controls",
          "model_module_version": "1.5.0",
          "model_name": "HTMLModel",
          "state": {
            "_dom_classes": [],
            "_model_module": "@jupyter-widgets/controls",
            "_model_module_version": "1.5.0",
            "_model_name": "HTMLModel",
            "_view_count": null,
            "_view_module": "@jupyter-widgets/controls",
            "_view_module_version": "1.5.0",
            "_view_name": "HTMLView",
            "description": "",
            "description_tooltip": null,
            "layout": "IPY_MODEL_cfe93e1a6fca460e954fe2cdeac1f47f",
            "placeholder": "​",
            "style": "IPY_MODEL_9a8c93492db043d18f3695765ddd30fd",
            "value": " 967/967 [00:00&lt;00:00, 22.0kB/s]"
          }
        },
        "9edd34da37fa480db12c516313dae302": {
          "model_module": "@jupyter-widgets/controls",
          "model_module_version": "1.5.0",
          "model_name": "FloatProgressModel",
          "state": {
            "_dom_classes": [],
            "_model_module": "@jupyter-widgets/controls",
            "_model_module_version": "1.5.0",
            "_model_name": "FloatProgressModel",
            "_view_count": null,
            "_view_module": "@jupyter-widgets/controls",
            "_view_module_version": "1.5.0",
            "_view_name": "ProgressView",
            "bar_style": "success",
            "description": "",
            "description_tooltip": null,
            "layout": "IPY_MODEL_856877437138447ea12c911b4f453f56",
            "max": 493443,
            "min": 0,
            "orientation": "horizontal",
            "style": "IPY_MODEL_5b8961b0b719446d9f83f17d6de232ec",
            "value": 493443
          }
        },
        "a09920776a404a7182fb7d73587d24bf": {
          "model_module": "@jupyter-widgets/controls",
          "model_module_version": "1.5.0",
          "model_name": "DescriptionStyleModel",
          "state": {
            "_model_module": "@jupyter-widgets/controls",
            "_model_module_version": "1.5.0",
            "_model_name": "DescriptionStyleModel",
            "_view_count": null,
            "_view_module": "@jupyter-widgets/base",
            "_view_module_version": "1.2.0",
            "_view_name": "StyleView",
            "description_width": ""
          }
        },
        "a5366b5dd08941afbcfbcde4ce53b828": {
          "model_module": "@jupyter-widgets/controls",
          "model_module_version": "1.5.0",
          "model_name": "ProgressStyleModel",
          "state": {
            "_model_module": "@jupyter-widgets/controls",
            "_model_module_version": "1.5.0",
            "_model_name": "ProgressStyleModel",
            "_view_count": null,
            "_view_module": "@jupyter-widgets/base",
            "_view_module_version": "1.2.0",
            "_view_name": "StyleView",
            "bar_color": null,
            "description_width": ""
          }
        },
        "af0a5da290454ea7b72b8d00fef73c80": {
          "model_module": "@jupyter-widgets/controls",
          "model_module_version": "1.5.0",
          "model_name": "HTMLModel",
          "state": {
            "_dom_classes": [],
            "_model_module": "@jupyter-widgets/controls",
            "_model_module_version": "1.5.0",
            "_model_name": "HTMLModel",
            "_view_count": null,
            "_view_module": "@jupyter-widgets/controls",
            "_view_module_version": "1.5.0",
            "_view_name": "HTMLView",
            "description": "",
            "description_tooltip": null,
            "layout": "IPY_MODEL_2a30d36f38fb4e368fcf1a422f901d7a",
            "placeholder": "​",
            "style": "IPY_MODEL_4dde47b9ebf34d44b9951bfaadfafa83",
            "value": "tokenizer.model: 100%"
          }
        },
        "b022c8b2f65542a0857f26b3340ffdd4": {
          "model_module": "@jupyter-widgets/controls",
          "model_module_version": "1.5.0",
          "model_name": "DescriptionStyleModel",
          "state": {
            "_model_module": "@jupyter-widgets/controls",
            "_model_module_version": "1.5.0",
            "_model_name": "DescriptionStyleModel",
            "_view_count": null,
            "_view_module": "@jupyter-widgets/base",
            "_view_module_version": "1.2.0",
            "_view_name": "StyleView",
            "description_width": ""
          }
        },
        "bccdfcf81922483798b0948f3f78ca0a": {
          "model_module": "@jupyter-widgets/controls",
          "model_module_version": "1.5.0",
          "model_name": "ProgressStyleModel",
          "state": {
            "_model_module": "@jupyter-widgets/controls",
            "_model_module_version": "1.5.0",
            "_model_name": "ProgressStyleModel",
            "_view_count": null,
            "_view_module": "@jupyter-widgets/base",
            "_view_module_version": "1.2.0",
            "_view_name": "StyleView",
            "bar_color": null,
            "description_width": ""
          }
        },
        "bf6be9e027bb41f1b3e91f2ba214d60a": {
          "model_module": "@jupyter-widgets/base",
          "model_module_version": "1.2.0",
          "model_name": "LayoutModel",
          "state": {
            "_model_module": "@jupyter-widgets/base",
            "_model_module_version": "1.2.0",
            "_model_name": "LayoutModel",
            "_view_count": null,
            "_view_module": "@jupyter-widgets/base",
            "_view_module_version": "1.2.0",
            "_view_name": "LayoutView",
            "align_content": null,
            "align_items": null,
            "align_self": null,
            "border": null,
            "bottom": null,
            "display": null,
            "flex": null,
            "flex_flow": null,
            "grid_area": null,
            "grid_auto_columns": null,
            "grid_auto_flow": null,
            "grid_auto_rows": null,
            "grid_column": null,
            "grid_gap": null,
            "grid_row": null,
            "grid_template_areas": null,
            "grid_template_columns": null,
            "grid_template_rows": null,
            "height": null,
            "justify_content": null,
            "justify_items": null,
            "left": null,
            "margin": null,
            "max_height": null,
            "max_width": null,
            "min_height": null,
            "min_width": null,
            "object_fit": null,
            "object_position": null,
            "order": null,
            "overflow": null,
            "overflow_x": null,
            "overflow_y": null,
            "padding": null,
            "right": null,
            "top": null,
            "visibility": null,
            "width": null
          }
        },
        "ca99e74b8c9e4d3b8e7ca22f211437df": {
          "model_module": "@jupyter-widgets/base",
          "model_module_version": "1.2.0",
          "model_name": "LayoutModel",
          "state": {
            "_model_module": "@jupyter-widgets/base",
            "_model_module_version": "1.2.0",
            "_model_name": "LayoutModel",
            "_view_count": null,
            "_view_module": "@jupyter-widgets/base",
            "_view_module_version": "1.2.0",
            "_view_name": "LayoutView",
            "align_content": null,
            "align_items": null,
            "align_self": null,
            "border": null,
            "bottom": null,
            "display": null,
            "flex": null,
            "flex_flow": null,
            "grid_area": null,
            "grid_auto_columns": null,
            "grid_auto_flow": null,
            "grid_auto_rows": null,
            "grid_column": null,
            "grid_gap": null,
            "grid_row": null,
            "grid_template_areas": null,
            "grid_template_columns": null,
            "grid_template_rows": null,
            "height": null,
            "justify_content": null,
            "justify_items": null,
            "left": null,
            "margin": null,
            "max_height": null,
            "max_width": null,
            "min_height": null,
            "min_width": null,
            "object_fit": null,
            "object_position": null,
            "order": null,
            "overflow": null,
            "overflow_x": null,
            "overflow_y": null,
            "padding": null,
            "right": null,
            "top": null,
            "visibility": null,
            "width": null
          }
        },
        "cc984dc068a348f8a5b6a24880030c5f": {
          "model_module": "@jupyter-widgets/base",
          "model_module_version": "1.2.0",
          "model_name": "LayoutModel",
          "state": {
            "_model_module": "@jupyter-widgets/base",
            "_model_module_version": "1.2.0",
            "_model_name": "LayoutModel",
            "_view_count": null,
            "_view_module": "@jupyter-widgets/base",
            "_view_module_version": "1.2.0",
            "_view_name": "LayoutView",
            "align_content": null,
            "align_items": null,
            "align_self": null,
            "border": null,
            "bottom": null,
            "display": null,
            "flex": null,
            "flex_flow": null,
            "grid_area": null,
            "grid_auto_columns": null,
            "grid_auto_flow": null,
            "grid_auto_rows": null,
            "grid_column": null,
            "grid_gap": null,
            "grid_row": null,
            "grid_template_areas": null,
            "grid_template_columns": null,
            "grid_template_rows": null,
            "height": null,
            "justify_content": null,
            "justify_items": null,
            "left": null,
            "margin": null,
            "max_height": null,
            "max_width": null,
            "min_height": null,
            "min_width": null,
            "object_fit": null,
            "object_position": null,
            "order": null,
            "overflow": null,
            "overflow_x": null,
            "overflow_y": null,
            "padding": null,
            "right": null,
            "top": null,
            "visibility": null,
            "width": null
          }
        },
        "cfe93e1a6fca460e954fe2cdeac1f47f": {
          "model_module": "@jupyter-widgets/base",
          "model_module_version": "1.2.0",
          "model_name": "LayoutModel",
          "state": {
            "_model_module": "@jupyter-widgets/base",
            "_model_module_version": "1.2.0",
            "_model_name": "LayoutModel",
            "_view_count": null,
            "_view_module": "@jupyter-widgets/base",
            "_view_module_version": "1.2.0",
            "_view_name": "LayoutView",
            "align_content": null,
            "align_items": null,
            "align_self": null,
            "border": null,
            "bottom": null,
            "display": null,
            "flex": null,
            "flex_flow": null,
            "grid_area": null,
            "grid_auto_columns": null,
            "grid_auto_flow": null,
            "grid_auto_rows": null,
            "grid_column": null,
            "grid_gap": null,
            "grid_row": null,
            "grid_template_areas": null,
            "grid_template_columns": null,
            "grid_template_rows": null,
            "height": null,
            "justify_content": null,
            "justify_items": null,
            "left": null,
            "margin": null,
            "max_height": null,
            "max_width": null,
            "min_height": null,
            "min_width": null,
            "object_fit": null,
            "object_position": null,
            "order": null,
            "overflow": null,
            "overflow_x": null,
            "overflow_y": null,
            "padding": null,
            "right": null,
            "top": null,
            "visibility": null,
            "width": null
          }
        },
        "da47094209d24ef3aac2b119d027a6eb": {
          "model_module": "@jupyter-widgets/base",
          "model_module_version": "1.2.0",
          "model_name": "LayoutModel",
          "state": {
            "_model_module": "@jupyter-widgets/base",
            "_model_module_version": "1.2.0",
            "_model_name": "LayoutModel",
            "_view_count": null,
            "_view_module": "@jupyter-widgets/base",
            "_view_module_version": "1.2.0",
            "_view_name": "LayoutView",
            "align_content": null,
            "align_items": null,
            "align_self": null,
            "border": null,
            "bottom": null,
            "display": null,
            "flex": null,
            "flex_flow": null,
            "grid_area": null,
            "grid_auto_columns": null,
            "grid_auto_flow": null,
            "grid_auto_rows": null,
            "grid_column": null,
            "grid_gap": null,
            "grid_row": null,
            "grid_template_areas": null,
            "grid_template_columns": null,
            "grid_template_rows": null,
            "height": null,
            "justify_content": null,
            "justify_items": null,
            "left": null,
            "margin": null,
            "max_height": null,
            "max_width": null,
            "min_height": null,
            "min_width": null,
            "object_fit": null,
            "object_position": null,
            "order": null,
            "overflow": null,
            "overflow_x": null,
            "overflow_y": null,
            "padding": null,
            "right": null,
            "top": null,
            "visibility": null,
            "width": null
          }
        },
        "de48b2de160c465fac6848f872fbcfaa": {
          "model_module": "@jupyter-widgets/base",
          "model_module_version": "1.2.0",
          "model_name": "LayoutModel",
          "state": {
            "_model_module": "@jupyter-widgets/base",
            "_model_module_version": "1.2.0",
            "_model_name": "LayoutModel",
            "_view_count": null,
            "_view_module": "@jupyter-widgets/base",
            "_view_module_version": "1.2.0",
            "_view_name": "LayoutView",
            "align_content": null,
            "align_items": null,
            "align_self": null,
            "border": null,
            "bottom": null,
            "display": null,
            "flex": null,
            "flex_flow": null,
            "grid_area": null,
            "grid_auto_columns": null,
            "grid_auto_flow": null,
            "grid_auto_rows": null,
            "grid_column": null,
            "grid_gap": null,
            "grid_row": null,
            "grid_template_areas": null,
            "grid_template_columns": null,
            "grid_template_rows": null,
            "height": null,
            "justify_content": null,
            "justify_items": null,
            "left": null,
            "margin": null,
            "max_height": null,
            "max_width": null,
            "min_height": null,
            "min_width": null,
            "object_fit": null,
            "object_position": null,
            "order": null,
            "overflow": null,
            "overflow_x": null,
            "overflow_y": null,
            "padding": null,
            "right": null,
            "top": null,
            "visibility": null,
            "width": null
          }
        },
        "e07e8d01939b41b7813112997102789e": {
          "model_module": "@jupyter-widgets/base",
          "model_module_version": "1.2.0",
          "model_name": "LayoutModel",
          "state": {
            "_model_module": "@jupyter-widgets/base",
            "_model_module_version": "1.2.0",
            "_model_name": "LayoutModel",
            "_view_count": null,
            "_view_module": "@jupyter-widgets/base",
            "_view_module_version": "1.2.0",
            "_view_name": "LayoutView",
            "align_content": null,
            "align_items": null,
            "align_self": null,
            "border": null,
            "bottom": null,
            "display": null,
            "flex": null,
            "flex_flow": null,
            "grid_area": null,
            "grid_auto_columns": null,
            "grid_auto_flow": null,
            "grid_auto_rows": null,
            "grid_column": null,
            "grid_gap": null,
            "grid_row": null,
            "grid_template_areas": null,
            "grid_template_columns": null,
            "grid_template_rows": null,
            "height": null,
            "justify_content": null,
            "justify_items": null,
            "left": null,
            "margin": null,
            "max_height": null,
            "max_width": null,
            "min_height": null,
            "min_width": null,
            "object_fit": null,
            "object_position": null,
            "order": null,
            "overflow": null,
            "overflow_x": null,
            "overflow_y": null,
            "padding": null,
            "right": null,
            "top": null,
            "visibility": null,
            "width": null
          }
        },
        "e1543d6789724f8192f2f1dd8f261f56": {
          "model_module": "@jupyter-widgets/base",
          "model_module_version": "1.2.0",
          "model_name": "LayoutModel",
          "state": {
            "_model_module": "@jupyter-widgets/base",
            "_model_module_version": "1.2.0",
            "_model_name": "LayoutModel",
            "_view_count": null,
            "_view_module": "@jupyter-widgets/base",
            "_view_module_version": "1.2.0",
            "_view_name": "LayoutView",
            "align_content": null,
            "align_items": null,
            "align_self": null,
            "border": null,
            "bottom": null,
            "display": null,
            "flex": null,
            "flex_flow": null,
            "grid_area": null,
            "grid_auto_columns": null,
            "grid_auto_flow": null,
            "grid_auto_rows": null,
            "grid_column": null,
            "grid_gap": null,
            "grid_row": null,
            "grid_template_areas": null,
            "grid_template_columns": null,
            "grid_template_rows": null,
            "height": null,
            "justify_content": null,
            "justify_items": null,
            "left": null,
            "margin": null,
            "max_height": null,
            "max_width": null,
            "min_height": null,
            "min_width": null,
            "object_fit": null,
            "object_position": null,
            "order": null,
            "overflow": null,
            "overflow_x": null,
            "overflow_y": null,
            "padding": null,
            "right": null,
            "top": null,
            "visibility": null,
            "width": null
          }
        },
        "e95eff35f2914ae2b7418af9db80004e": {
          "model_module": "@jupyter-widgets/controls",
          "model_module_version": "1.5.0",
          "model_name": "HBoxModel",
          "state": {
            "_dom_classes": [],
            "_model_module": "@jupyter-widgets/controls",
            "_model_module_version": "1.5.0",
            "_model_name": "HBoxModel",
            "_view_count": null,
            "_view_module": "@jupyter-widgets/controls",
            "_view_module_version": "1.5.0",
            "_view_name": "HBoxView",
            "box_style": "",
            "children": [
              "IPY_MODEL_23fe409dbc464166ba7115b70d0896de",
              "IPY_MODEL_9c08a494fbe74cb0998f6939bd0d123f",
              "IPY_MODEL_9d31a70bce0a42e89235b678d7bd7f15"
            ],
            "layout": "IPY_MODEL_bf6be9e027bb41f1b3e91f2ba214d60a"
          }
        },
        "ea4586aa89294feb8d1ab1cdcc616ebc": {
          "model_module": "@jupyter-widgets/base",
          "model_module_version": "1.2.0",
          "model_name": "LayoutModel",
          "state": {
            "_model_module": "@jupyter-widgets/base",
            "_model_module_version": "1.2.0",
            "_model_name": "LayoutModel",
            "_view_count": null,
            "_view_module": "@jupyter-widgets/base",
            "_view_module_version": "1.2.0",
            "_view_name": "LayoutView",
            "align_content": null,
            "align_items": null,
            "align_self": null,
            "border": null,
            "bottom": null,
            "display": null,
            "flex": null,
            "flex_flow": null,
            "grid_area": null,
            "grid_auto_columns": null,
            "grid_auto_flow": null,
            "grid_auto_rows": null,
            "grid_column": null,
            "grid_gap": null,
            "grid_row": null,
            "grid_template_areas": null,
            "grid_template_columns": null,
            "grid_template_rows": null,
            "height": null,
            "justify_content": null,
            "justify_items": null,
            "left": null,
            "margin": null,
            "max_height": null,
            "max_width": null,
            "min_height": null,
            "min_width": null,
            "object_fit": null,
            "object_position": null,
            "order": null,
            "overflow": null,
            "overflow_x": null,
            "overflow_y": null,
            "padding": null,
            "right": null,
            "top": null,
            "visibility": null,
            "width": null
          }
        },
        "eacfb6dbd45e452a9882374aa2500004": {
          "model_module": "@jupyter-widgets/base",
          "model_module_version": "1.2.0",
          "model_name": "LayoutModel",
          "state": {
            "_model_module": "@jupyter-widgets/base",
            "_model_module_version": "1.2.0",
            "_model_name": "LayoutModel",
            "_view_count": null,
            "_view_module": "@jupyter-widgets/base",
            "_view_module_version": "1.2.0",
            "_view_name": "LayoutView",
            "align_content": null,
            "align_items": null,
            "align_self": null,
            "border": null,
            "bottom": null,
            "display": null,
            "flex": null,
            "flex_flow": null,
            "grid_area": null,
            "grid_auto_columns": null,
            "grid_auto_flow": null,
            "grid_auto_rows": null,
            "grid_column": null,
            "grid_gap": null,
            "grid_row": null,
            "grid_template_areas": null,
            "grid_template_columns": null,
            "grid_template_rows": null,
            "height": null,
            "justify_content": null,
            "justify_items": null,
            "left": null,
            "margin": null,
            "max_height": null,
            "max_width": null,
            "min_height": null,
            "min_width": null,
            "object_fit": null,
            "object_position": null,
            "order": null,
            "overflow": null,
            "overflow_x": null,
            "overflow_y": null,
            "padding": null,
            "right": null,
            "top": null,
            "visibility": null,
            "width": null
          }
        },
        "f781ffb885fb4c69a01b8ab3ec5cd03d": {
          "model_module": "@jupyter-widgets/controls",
          "model_module_version": "1.5.0",
          "model_name": "DescriptionStyleModel",
          "state": {
            "_model_module": "@jupyter-widgets/controls",
            "_model_module_version": "1.5.0",
            "_model_name": "DescriptionStyleModel",
            "_view_count": null,
            "_view_module": "@jupyter-widgets/base",
            "_view_module_version": "1.2.0",
            "_view_name": "StyleView",
            "description_width": ""
          }
        },
        "f900f1f0cba243cba3f9fe7a52aabea2": {
          "model_module": "@jupyter-widgets/controls",
          "model_module_version": "1.5.0",
          "model_name": "HBoxModel",
          "state": {
            "_dom_classes": [],
            "_model_module": "@jupyter-widgets/controls",
            "_model_module_version": "1.5.0",
            "_model_name": "HBoxModel",
            "_view_count": null,
            "_view_module": "@jupyter-widgets/controls",
            "_view_module_version": "1.5.0",
            "_view_name": "HBoxView",
            "box_style": "",
            "children": [
              "IPY_MODEL_84558be6ad294653b308e9a0ec6df075",
              "IPY_MODEL_4ef4894b97e843198f58ae880106fd6f",
              "IPY_MODEL_4b5e406a421f467b8042c8785a81a1ca"
            ],
            "layout": "IPY_MODEL_de48b2de160c465fac6848f872fbcfaa"
          }
        }
      }
    }
  },
  "nbformat": 4,
  "nbformat_minor": 0
}
