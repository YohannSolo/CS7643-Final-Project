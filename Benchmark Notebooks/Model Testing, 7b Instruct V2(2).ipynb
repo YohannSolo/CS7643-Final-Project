{
 "cells": [
  {
   "cell_type": "code",
   "execution_count": 2,
   "id": "ecef029b",
   "metadata": {},
   "outputs": [
    {
     "name": "stderr",
     "output_type": "stream",
     "text": [
      "/storage/ice1/2/3/ckniffin6/conda_envs/hf/lib/python3.12/site-packages/transformers/utils/hub.py:124: FutureWarning: Using `TRANSFORMERS_CACHE` is deprecated and will be removed in v5 of Transformers. Use `HF_HOME` instead.\n",
      "  warnings.warn(\n"
     ]
    }
   ],
   "source": [
    "from transformers import AutoModelForCausalLM, AutoTokenizer"
   ]
  },
  {
   "cell_type": "code",
   "execution_count": 3,
   "id": "3e7f9bc5",
   "metadata": {},
   "outputs": [
    {
     "data": {
      "application/vnd.jupyter.widget-view+json": {
       "model_id": "e1a5adf708b041b789692fb6b7d96886",
       "version_major": 2,
       "version_minor": 0
      },
      "text/plain": [
       "VBox(children=(HTML(value='<center> <img\\nsrc=https://huggingface.co/front/assets/huggingface_logo-noborder.sv…"
      ]
     },
     "metadata": {},
     "output_type": "display_data"
    }
   ],
   "source": [
    "from huggingface_hub import login\n",
    "login()"
   ]
  },
  {
   "cell_type": "code",
   "execution_count": 5,
   "id": "5f45ba70",
   "metadata": {},
   "outputs": [
    {
     "data": {
      "application/vnd.jupyter.widget-view+json": {
       "model_id": "9bc863fe164d460a82a93c748bd2786a",
       "version_major": 2,
       "version_minor": 0
      },
      "text/plain": [
       "config.json:   0%|          | 0.00/596 [00:00<?, ?B/s]"
      ]
     },
     "metadata": {},
     "output_type": "display_data"
    },
    {
     "data": {
      "application/vnd.jupyter.widget-view+json": {
       "model_id": "a348629d8aed4b26af8fdb12f326546d",
       "version_major": 2,
       "version_minor": 0
      },
      "text/plain": [
       "model.safetensors.index.json:   0%|          | 0.00/25.1k [00:00<?, ?B/s]"
      ]
     },
     "metadata": {},
     "output_type": "display_data"
    },
    {
     "data": {
      "application/vnd.jupyter.widget-view+json": {
       "model_id": "764bb9e852a04569bf234a6d35f2a6b8",
       "version_major": 2,
       "version_minor": 0
      },
      "text/plain": [
       "Downloading shards:   0%|          | 0/3 [00:00<?, ?it/s]"
      ]
     },
     "metadata": {},
     "output_type": "display_data"
    },
    {
     "data": {
      "application/vnd.jupyter.widget-view+json": {
       "model_id": "9af72e3ac35a4fa0a24a501c00dd5871",
       "version_major": 2,
       "version_minor": 0
      },
      "text/plain": [
       "model-00001-of-00003.safetensors:   0%|          | 0.00/4.94G [00:00<?, ?B/s]"
      ]
     },
     "metadata": {},
     "output_type": "display_data"
    },
    {
     "data": {
      "application/vnd.jupyter.widget-view+json": {
       "model_id": "293137d575274d2d80deae5b023a8f99",
       "version_major": 2,
       "version_minor": 0
      },
      "text/plain": [
       "model-00002-of-00003.safetensors:   0%|          | 0.00/5.00G [00:00<?, ?B/s]"
      ]
     },
     "metadata": {},
     "output_type": "display_data"
    },
    {
     "data": {
      "application/vnd.jupyter.widget-view+json": {
       "model_id": "bc52a8eaccff4e4d8f1cffc6f3aebd00",
       "version_major": 2,
       "version_minor": 0
      },
      "text/plain": [
       "model-00003-of-00003.safetensors:   0%|          | 0.00/4.54G [00:00<?, ?B/s]"
      ]
     },
     "metadata": {},
     "output_type": "display_data"
    },
    {
     "data": {
      "application/vnd.jupyter.widget-view+json": {
       "model_id": "560f71f85ceb4e2f9680e34093a6c04c",
       "version_major": 2,
       "version_minor": 0
      },
      "text/plain": [
       "Loading checkpoint shards:   0%|          | 0/3 [00:00<?, ?it/s]"
      ]
     },
     "metadata": {},
     "output_type": "display_data"
    },
    {
     "data": {
      "application/vnd.jupyter.widget-view+json": {
       "model_id": "62adb2180f3142369ebe933017533b93",
       "version_major": 2,
       "version_minor": 0
      },
      "text/plain": [
       "generation_config.json:   0%|          | 0.00/111 [00:00<?, ?B/s]"
      ]
     },
     "metadata": {},
     "output_type": "display_data"
    }
   ],
   "source": [
    "# Load the saved model\n",
    "model = AutoModelForCausalLM.from_pretrained(\"mistralai/Mistral-7B-Instruct-v0.2\").to(\"cuda\")\n",
    "\n",
    "modelName = \"mistralai/Mistral-7B-Instruct-v0.2\"\n",
    "tokenizer = AutoTokenizer.from_pretrained(modelName)\n",
    "\n",
    "base_prompt_template: str = \"\"\"\n",
    "    You are a financial analyst designed to answer questions about business and finance. Your job is to reply to questions about finance topics and provide advice.\n",
    "\n",
    "    Instruction: {query}\n",
    "    \n",
    "    Output:\n",
    "\"\"\"\n",
    "    "
   ]
  },
  {
   "cell_type": "code",
   "execution_count": 6,
   "id": "48c81ed4",
   "metadata": {},
   "outputs": [],
   "source": [
    "queries = [\"If I take out a $35000 loan with a 5% APR how many $500 payments would it take to pay it back?\",\n",
    "           \"Assuming an inital investment of $100,000, an expected cash flow of $7000 per month, an interest rate of 7% and 3 years before the project is complete what is the net present value?\",\n",
    "           \"You want to save up over 4 years for you child's college. If the cost of attendance is $100000 and you deposit money each month into a savings account with a 4% annual interest rate, how much do you have to deposit each month?\",\n",
    "           \"How does a business compute net income?\",\n",
    "           \"What is the rule of 72?\",\n",
    "           \"What is CPI and how does it tell us what the inflation rate is?\"]    "
   ]
  },
  {
   "cell_type": "code",
   "execution_count": 7,
   "id": "5bb5c838",
   "metadata": {},
   "outputs": [],
   "source": [
    "summary1 = '\"As of March 31, 2024, the Company had aggregate outstanding notes of $14,016 million, net of $61 million of issuance costs, with varying maturities (the \"Notes\"). Of the outstanding balance, $799 million, net of issuance costs, is classified as short-term debt on the Consolidated Balance Sheets. As of December 31, 2023, the Company had aggregate outstanding notes of $14,543 million, net of $65 million of issuance costs. Each of the Notes were issued at par and are senior unsecured obligations of the Company. Interest is payable semi-annually at fixed rates. A portion of the outstanding Notes is denominated in foreign currency (comprised of €5,170 million) and is remeasured into U.S. dollars at each balance sheet date (with remeasurement gain totaling $131 million for the three months ended March 31, 2024).\"  Based on the preceding text how much short term debt does the company have?'"
   ]
  },
  {
   "cell_type": "code",
   "execution_count": 8,
   "id": "9c603b88",
   "metadata": {},
   "outputs": [],
   "source": [
    "summary2 = '\"We anticipate our full-year 2024 capital expenditures will be in the range of $30-37 billion, a $2 billion increase of the high end of our prior range. We expect growth will be driven by investments in servers, including both AI and non-AI hardware, and data centers as we ramp up construction on sites with our previously announced new data center architecture. Our updated outlook reflects our evolving understanding of our artificial intelligence (AI) capacity demands as we anticipate what we may need for the next generations of foundational research and product development. While we are not providing guidance for years beyond 2024, we expect our ambitious long-term AI research and product development efforts will require growing infrastructure investments beyond this year.\" Based on this text what are some risks the that could cause its expenditures to be greater than the predicted $2 billion?'"
   ]
  },
  {
   "cell_type": "code",
   "execution_count": 9,
   "id": "84da07de",
   "metadata": {},
   "outputs": [],
   "source": [
    "summary3 = '\"Product Liability We recorded liabilities of $596 million and $561 million in Accrued liabilities and Other liabilities at September 30, 2023 and December 31, 2022 for the expected cost of all known product liability claims, plus an estimate of the expected cost for product liability claims that have already been incurred and are expected to be filed in the future for which we are self-insured. It is reasonably possible that our accruals for product liability claims may increase in future periods in material amounts, although we cannot estimate a reasonable range of incremental loss based on currently available information. We believe that any judgment against us involving our products for actual damages will be adequately covered by our recorded accruals and, where applicable, excess liability insurance coverage.\" How much did the company accrue in liabilities according to the preceeding text?'"
   ]
  },
  {
   "cell_type": "code",
   "execution_count": 10,
   "id": "179872f5",
   "metadata": {},
   "outputs": [
    {
     "name": "stderr",
     "output_type": "stream",
     "text": [
      "Setting `pad_token_id` to `eos_token_id`:2 for open-end generation.\n"
     ]
    },
    {
     "name": "stdout",
     "output_type": "stream",
     "text": [
      "<s> \n",
      "    You are a financial analyst designed to answer questions about business and finance. Your job is to reply to questions about finance topics and provide advice.\n",
      "\n",
      "    Instruction: If I take out a $35000 loan with a 5% APR how many $500 payments would it take to pay it back?\n",
      "    \n",
      "    Output:\n",
      "    To calculate the number of payments required to pay off a loan with a given monthly payment amount, you can use the following formula:\n",
      "\n",
      "    Number of Payments = Total Loan Amount / (Monthly Payment)\n",
      "\n",
      "    Here's how you can find the number of payments for your loan:\n",
      "\n",
      "    Total Loan Amount: $35000\n",
      "    Monthly Payment: $500\n",
      "\n",
      "    Number of Payments = $35000 / $500\n",
      "                                 = 70\n",
      "\n",
      "    So, it would take 70 monthly payments of $500 to pay off a $35000 loan with a 5% annual interest rate.</s>\n"
     ]
    }
   ],
   "source": [
    "query = base_prompt_template.format(query=queries[0])\n",
    "\n",
    "modelInput = tokenizer(query, return_tensors=\"pt\").to(\"cuda\")\n",
    "\n",
    "outputs = model.generate(**modelInput, max_new_tokens = 500, do_sample = True)\n",
    "print(tokenizer.batch_decode(outputs)[0])"
   ]
  },
  {
   "cell_type": "code",
   "execution_count": 11,
   "id": "4f930ec6",
   "metadata": {},
   "outputs": [
    {
     "name": "stderr",
     "output_type": "stream",
     "text": [
      "Setting `pad_token_id` to `eos_token_id`:2 for open-end generation.\n"
     ]
    },
    {
     "name": "stdout",
     "output_type": "stream",
     "text": [
      "<s> \n",
      "    You are a financial analyst designed to answer questions about business and finance. Your job is to reply to questions about finance topics and provide advice.\n",
      "\n",
      "    Instruction: Assuming an inital investment of $100,000, an expected cash flow of $7000 per month, an interest rate of 7% and 3 years before the project is complete what is the net present value?\n",
      "    \n",
      "    Output:\n",
      "    To calculate the Net Present Value (NPV), we need to discount the expected cash flows back to their present value, and then subtract the initial investment.\n",
      "    Here's how the calculation works:\n",
      "\n",
      "    Initial investment = $100,000\n",
      "\n",
      "    Number of months = 3 years * 12 months/year = 36 months\n",
      "\n",
      "    Monthly cash flow = $7,000\n",
      "\n",
      "    Interest rate (per month) = 7% annually / 12 months/year = 0.0615% (monthly)\n",
      "\n",
      "    Present value of cash flows = Σ (cash flow_i / (1 + r)^i) for i = 1 to 36\n",
      "                                          = $7,000 * Σ (1 / (1 + 0.0615) ^ i)\n",
      "\n",
      "    NPV = Present value of cash flows - Initial investment\n",
      "    \n",
      "    Let's calculate the Present value of cash flows:\n",
      "\n",
      "    pv_sum = 0;\n",
      "    for (int i = 1; i <= 36; i++) {\n",
      "        double present_value_of_cash_flow = 7000 / Math.pow(1.0615, (double) i);\n",
      "        pv_sum += present_value_of_cash_flow;\n",
      "    }\n",
      "\n",
      "    The present value of cash flows = $XXX,XXX.\n",
      "\n",
      "    Therefore, the Net Present Value is:\n",
      "\n",
      "    Net Present Value ($) = Present value of cash flows - Initial investment\n",
      "                                 = $XXX,XXX - $100,000\n",
      "\n",
      "    If you need the exact value, please run the code above to get the present value of cash flows and substitute it into the formula.\n",
      "\n",
      "    Disclaimer: The output of the code above is an approximation of the Net Present Value. For a more precise calculation, you should use a financial calculator or a spreadsheet software. Additionally, this code does not handle exceptions or rounding errors that may occur during the calculation.</s>\n"
     ]
    }
   ],
   "source": [
    "query = base_prompt_template.format(query=queries[1])\n",
    "\n",
    "modelInput = tokenizer(query, return_tensors=\"pt\").to(\"cuda\")\n",
    "\n",
    "outputs = model.generate(**modelInput, max_new_tokens = 500, do_sample = True)\n",
    "print(tokenizer.batch_decode(outputs)[0])"
   ]
  },
  {
   "cell_type": "code",
   "execution_count": 12,
   "id": "262593b8",
   "metadata": {},
   "outputs": [
    {
     "name": "stderr",
     "output_type": "stream",
     "text": [
      "Setting `pad_token_id` to `eos_token_id`:2 for open-end generation.\n"
     ]
    },
    {
     "name": "stdout",
     "output_type": "stream",
     "text": [
      "<s> \n",
      "    You are a financial analyst designed to answer questions about business and finance. Your job is to reply to questions about finance topics and provide advice.\n",
      "\n",
      "    Instruction: You want to save up over 4 years for you child's college. If the cost of attendance is $100000 and you deposit money each month into a savings account with a 4% annual interest rate, how much do you have to deposit each month?\n",
      "    \n",
      "    Output:\n",
      "    To save up $100,000 in 48 months (4 years) with a 4% annual interest rate, you would need to deposit approximately $2,378 per month.\n",
      "\n",
      "    Note: This calculation assumes that the interest is compounded monthly. Most savings accounts are compounded monthly, so this is a reasonable assumption. If the interest is compounded differently, the calculation would change accordingly. Also note that taxes and inflation are not taken into account in this calculation. These factors would reduce the amount you can actually save over time.</s>\n"
     ]
    }
   ],
   "source": [
    "query = base_prompt_template.format(query=queries[2])\n",
    "\n",
    "modelInput = tokenizer(query, return_tensors=\"pt\").to(\"cuda\")\n",
    "\n",
    "outputs = model.generate(**modelInput, max_new_tokens = 500, do_sample = True)\n",
    "print(tokenizer.batch_decode(outputs)[0])"
   ]
  },
  {
   "cell_type": "code",
   "execution_count": 13,
   "id": "74bed04e",
   "metadata": {},
   "outputs": [
    {
     "name": "stderr",
     "output_type": "stream",
     "text": [
      "Setting `pad_token_id` to `eos_token_id`:2 for open-end generation.\n"
     ]
    },
    {
     "name": "stdout",
     "output_type": "stream",
     "text": [
      "<s> \n",
      "    You are a financial analyst designed to answer questions about business and finance. Your job is to reply to questions about finance topics and provide advice.\n",
      "\n",
      "    Instruction: How does a business compute net income?\n",
      "    \n",
      "    Output:\n",
      "    Net income, also known as net earnings or net profit, is the total revenue a company generates minus all its expenses. To compute net income, follow these steps:\n",
      "\n",
      "    1. Determine the total revenue for the time period you are analyzing.\n",
      "    2. Subtract the cost of goods sold (COGS) or cost of services provided, which includes the materials or wages directly related to producing the goods or services sold during that period.\n",
      "    3. Subtract all operating expenses for the period, such as salaries, rent, marketing, and research and development.\n",
      "    4. If the business has any non-operating income or expenses, such as interest earned or paid on loans, add or subtract those as well.\n",
      "    5. The remaining amount is the net income for the period. If the result is negative, it represents a net loss. The formula for net income can be written as:\n",
      "\n",
      "    Net Income = Total Revenue - Cost of Goods Sold - Operating Expenses - Non-operating Income (or Expenses)\n",
      "\n",
      "    Always ensure that you have complete financial information for the time period you are analyzing to accurately compute net income.</s>\n"
     ]
    }
   ],
   "source": [
    "query = base_prompt_template.format(query=queries[3])\n",
    "\n",
    "modelInput = tokenizer(query, return_tensors=\"pt\").to(\"cuda\")\n",
    "\n",
    "outputs = model.generate(**modelInput, max_new_tokens = 500, do_sample = True)\n",
    "print(tokenizer.batch_decode(outputs)[0])"
   ]
  },
  {
   "cell_type": "code",
   "execution_count": 14,
   "id": "7804b25c",
   "metadata": {},
   "outputs": [
    {
     "name": "stderr",
     "output_type": "stream",
     "text": [
      "Setting `pad_token_id` to `eos_token_id`:2 for open-end generation.\n"
     ]
    },
    {
     "name": "stdout",
     "output_type": "stream",
     "text": [
      "<s> \n",
      "    You are a financial analyst designed to answer questions about business and finance. Your job is to reply to questions about finance topics and provide advice.\n",
      "\n",
      "    Instruction: What is the rule of 72?\n",
      "    \n",
      "    Output:\n",
      "    The Rule of 72 is a simple way to estimate the number of years it takes for an investment to double, given a fixed annual rate of return. To use the Rule of 72, subtract the number 72 from the expected annual return percentage and divide by 72. The result will be the approximate number of years it takes for the investment to double. For example, if an investment has an expected annual return of 8%, it would take approximately 9 years to double in value (72-8=64, 64/72=0.89 or approximately 9 years). This rule is often used in financial planning and investment analysis for quick estimates of the growth timeline of an investment.</s>\n"
     ]
    }
   ],
   "source": [
    "query = base_prompt_template.format(query=queries[4])\n",
    "\n",
    "modelInput = tokenizer(query, return_tensors=\"pt\").to(\"cuda\")\n",
    "\n",
    "outputs = model.generate(**modelInput, max_new_tokens = 500, do_sample = True)\n",
    "print(tokenizer.batch_decode(outputs)[0])"
   ]
  },
  {
   "cell_type": "code",
   "execution_count": 15,
   "id": "ee5025b4",
   "metadata": {},
   "outputs": [
    {
     "name": "stderr",
     "output_type": "stream",
     "text": [
      "Setting `pad_token_id` to `eos_token_id`:2 for open-end generation.\n"
     ]
    },
    {
     "name": "stdout",
     "output_type": "stream",
     "text": [
      "<s> \n",
      "    You are a financial analyst designed to answer questions about business and finance. Your job is to reply to questions about finance topics and provide advice.\n",
      "\n",
      "    Instruction: What is CPI and how does it tell us what the inflation rate is?\n",
      "    \n",
      "    Output:\n",
      "    CPI, or Consumer Price Index, is a measure of the average change in prices over time for a market basket of consumer goods and services. It is calculated by taking price changes for several hundred different goods and services and averaging them.\n",
      "\n",
      "    The CPI does not directly tell us the inflation rate, but it is often used to calculate it. Inflation rate is the percentage change in the overall price level of goods and services in an economy over a period of time. A commonly used measure of inflation in the United States is the annual percentage change in the CPI.\n",
      "\n",
      "    For example, if the CPI for a particular month was 120 and the CPI for the same month the previous year was 110, the inflation rate would be calculated as:\n",
      "\n",
      "    Inflation rate = (New CPI - Old CPI) / Old CPI * 100%\n",
      "                     = (120 - 110) / 110 * 100%\n",
      "                     = 10%\n",
      "\n",
      "    Therefore, inflation rate based on CPI for this example is 10%.</s>\n"
     ]
    }
   ],
   "source": [
    "query = base_prompt_template.format(query=queries[5])\n",
    "\n",
    "modelInput = tokenizer(query, return_tensors=\"pt\").to(\"cuda\")\n",
    "\n",
    "outputs = model.generate(**modelInput, max_new_tokens = 500, do_sample = True)\n",
    "print(tokenizer.batch_decode(outputs)[0])"
   ]
  },
  {
   "cell_type": "code",
   "execution_count": 16,
   "id": "d3fea686",
   "metadata": {},
   "outputs": [
    {
     "name": "stderr",
     "output_type": "stream",
     "text": [
      "Setting `pad_token_id` to `eos_token_id`:2 for open-end generation.\n"
     ]
    },
    {
     "name": "stdout",
     "output_type": "stream",
     "text": [
      "<s> \n",
      "    You are a financial analyst designed to answer questions about business and finance. Your job is to reply to questions about finance topics and provide advice.\n",
      "\n",
      "    Instruction: \"As of March 31, 2024, the Company had aggregate outstanding notes of $14,016 million, net of $61 million of issuance costs, with varying maturities (the \"Notes\"). Of the outstanding balance, $799 million, net of issuance costs, is classified as short-term debt on the Consolidated Balance Sheets. As of December 31, 2023, the Company had aggregate outstanding notes of $14,543 million, net of $65 million of issuance costs. Each of the Notes were issued at par and are senior unsecured obligations of the Company. Interest is payable semi-annually at fixed rates. A portion of the outstanding Notes is denominated in foreign currency (comprised of €5,170 million) and is remeasured into U.S. dollars at each balance sheet date (with remeasurement gain totaling $131 million for the three months ended March 31, 2024).\"  Based on the preceding text how much short term debt does the company have?\n",
      "    \n",
      "    Output:\n",
      "    Based on the information provided, the Company had $799 million in short-term debt as of March 31, 2024.</s>\n"
     ]
    }
   ],
   "source": [
    "query = base_prompt_template.format(query=summary1)\n",
    "\n",
    "modelInput = tokenizer(query, return_tensors=\"pt\").to(\"cuda\")\n",
    "\n",
    "outputs = model.generate(**modelInput, max_new_tokens = 500, do_sample = True)\n",
    "print(tokenizer.batch_decode(outputs)[0])"
   ]
  },
  {
   "cell_type": "code",
   "execution_count": 17,
   "id": "4c3f1c84",
   "metadata": {},
   "outputs": [
    {
     "name": "stderr",
     "output_type": "stream",
     "text": [
      "Setting `pad_token_id` to `eos_token_id`:2 for open-end generation.\n"
     ]
    },
    {
     "name": "stdout",
     "output_type": "stream",
     "text": [
      "<s> \n",
      "    You are a financial analyst designed to answer questions about business and finance. Your job is to reply to questions about finance topics and provide advice.\n",
      "\n",
      "    Instruction: \"We anticipate our full-year 2024 capital expenditures will be in the range of $30-37 billion, a $2 billion increase of the high end of our prior range. We expect growth will be driven by investments in servers, including both AI and non-AI hardware, and data centers as we ramp up construction on sites with our previously announced new data center architecture. Our updated outlook reflects our evolving understanding of our artificial intelligence (AI) capacity demands as we anticipate what we may need for the next generations of foundational research and product development. While we are not providing guidance for years beyond 2024, we expect our ambitious long-term AI research and product development efforts will require growing infrastructure investments beyond this year.\" Based on this text what are some risks the that could cause its expenditures to be greater than the predicted $2 billion?\n",
      "    \n",
      "    Output:\n",
      "\n",
      "    The text mentions several factors that could cause capital expenditures to be greater than the predicted $2 billion increase:\n",
      "\n",
      "    1. AI capacity demands: The company anticipates that its next generations of foundational research and product development will require more AI capacity than previously anticipated. If the demand for AI capacity is higher than expected, the company may need to invest more in servers and data centers to support this growth.\n",
      "    2. Construction on new data center sites: The company is ramping up construction on sites with its new data center architecture. Construction costs can be unpredictable, and unexpected delays or cost overruns could increase Capital expenditures beyond the predicted range.\n",
      "    3. Long-term AI research and product development efforts: The company's long-term AI research and product development efforts are expected to require growing infrastructure investments beyond 2024. If these investments prove to be more expensive or time-consuming than anticipated, capital expenditures could exceed expectations.\n",
      "    4. Supplier costs: The company's capital expenditures are dependent on the cost of servers, data center equipment, and other supplies. If the cost of these supplies increases unexpectedly, the company may need to spend more than anticipated to meet its capital expenditure targets.\n",
      "    5. Regulatory or compliance costs: The company may face unexpected regulatory or compliance costs that could increase capital expenditures. For example, new environmental regulations or data privacy laws could require additional investments in equipment or facilities.\n",
      "    6. Economic conditions: Economic conditions such as inflation or a weak economy could increase the cost of capital expenditures. For example, if the cost of labor or materials increases unexpectedly due to inflation, the company may need to spend more than anticipated to meet its capital expenditure targets.</s>\n"
     ]
    }
   ],
   "source": [
    "query = base_prompt_template.format(query=summary2)\n",
    "\n",
    "modelInput = tokenizer(query, return_tensors=\"pt\").to(\"cuda\")\n",
    "\n",
    "outputs = model.generate(**modelInput, max_new_tokens = 500, do_sample = True)\n",
    "print(tokenizer.batch_decode(outputs)[0])"
   ]
  },
  {
   "cell_type": "code",
   "execution_count": 18,
   "id": "0ac9fa55",
   "metadata": {},
   "outputs": [
    {
     "name": "stderr",
     "output_type": "stream",
     "text": [
      "Setting `pad_token_id` to `eos_token_id`:2 for open-end generation.\n"
     ]
    },
    {
     "name": "stdout",
     "output_type": "stream",
     "text": [
      "<s> \n",
      "    You are a financial analyst designed to answer questions about business and finance. Your job is to reply to questions about finance topics and provide advice.\n",
      "\n",
      "    Instruction: \"Product Liability We recorded liabilities of $596 million and $561 million in Accrued liabilities and Other liabilities at September 30, 2023 and December 31, 2022 for the expected cost of all known product liability claims, plus an estimate of the expected cost for product liability claims that have already been incurred and are expected to be filed in the future for which we are self-insured. It is reasonably possible that our accruals for product liability claims may increase in future periods in material amounts, although we cannot estimate a reasonable range of incremental loss based on currently available information. We believe that any judgment against us involving our products for actual damages will be adequately covered by our recorded accruals and, where applicable, excess liability insurance coverage.\" How much did the company accrue in liabilities according to the preceeding text?\n",
      "    \n",
      "    Output:\n",
      "    Based on the information provided, the company has accrued liabilities of $596 million as of September 30, 2023, and $561 million as of December 31, 2022, for product liability claims. Although the text suggests that there is a possibility for these accruals to increase in material amounts, no specific estimate is given for this potential increase. Therefore, the current accrued liabilities of $1.157 billion is the known amount.</s>\n"
     ]
    }
   ],
   "source": [
    "query = base_prompt_template.format(query=summary3)\n",
    "\n",
    "modelInput = tokenizer(query, return_tensors=\"pt\").to(\"cuda\")\n",
    "\n",
    "outputs = model.generate(**modelInput, max_new_tokens = 500, do_sample = True)\n",
    "print(tokenizer.batch_decode(outputs)[0])"
   ]
  },
  {
   "cell_type": "code",
   "execution_count": null,
   "id": "622c0167",
   "metadata": {},
   "outputs": [],
   "source": []
  }
 ],
 "metadata": {
  "kernelspec": {
   "display_name": "Python [conda env:hf]",
   "language": "python",
   "name": "conda-env-hf-py"
  },
  "language_info": {
   "codemirror_mode": {
    "name": "ipython",
    "version": 3
   },
   "file_extension": ".py",
   "mimetype": "text/x-python",
   "name": "python",
   "nbconvert_exporter": "python",
   "pygments_lexer": "ipython3",
   "version": "3.12.2"
  }
 },
 "nbformat": 4,
 "nbformat_minor": 5
}
