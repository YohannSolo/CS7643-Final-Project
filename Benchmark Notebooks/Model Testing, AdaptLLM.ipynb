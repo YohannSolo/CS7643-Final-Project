{
 "cells": [
  {
   "cell_type": "code",
   "execution_count": 1,
   "id": "ecef029b",
   "metadata": {},
   "outputs": [
    {
     "name": "stderr",
     "output_type": "stream",
     "text": [
      "/storage/ice1/2/3/ckniffin6/conda_envs/hf/lib/python3.12/site-packages/transformers/utils/hub.py:124: FutureWarning: Using `TRANSFORMERS_CACHE` is deprecated and will be removed in v5 of Transformers. Use `HF_HOME` instead.\n",
      "  warnings.warn(\n"
     ]
    }
   ],
   "source": [
    "from transformers import AutoModelForCausalLM, AutoTokenizer"
   ]
  },
  {
   "cell_type": "code",
   "execution_count": 2,
   "id": "4e8b0c57",
   "metadata": {},
   "outputs": [
    {
     "data": {
      "application/vnd.jupyter.widget-view+json": {
       "model_id": "e1477fc861cb40d9b43029707816687b",
       "version_major": 2,
       "version_minor": 0
      },
      "text/plain": [
       "VBox(children=(HTML(value='<center> <img\\nsrc=https://huggingface.co/front/assets/huggingface_logo-noborder.sv…"
      ]
     },
     "metadata": {},
     "output_type": "display_data"
    }
   ],
   "source": [
    "from huggingface_hub import login\n",
    "login()"
   ]
  },
  {
   "cell_type": "code",
   "execution_count": 3,
   "id": "5f45ba70",
   "metadata": {},
   "outputs": [
    {
     "data": {
      "application/vnd.jupyter.widget-view+json": {
       "model_id": "2936e176f65d4d53818ce759f7006439",
       "version_major": 2,
       "version_minor": 0
      },
      "text/plain": [
       "Loading checkpoint shards:   0%|          | 0/3 [00:00<?, ?it/s]"
      ]
     },
     "metadata": {},
     "output_type": "display_data"
    },
    {
     "name": "stderr",
     "output_type": "stream",
     "text": [
      "/storage/ice1/2/3/ckniffin6/conda_envs/hf/lib/python3.12/site-packages/transformers/generation/configuration_utils.py:492: UserWarning: `do_sample` is set to `False`. However, `temperature` is set to `0.9` -- this flag is only used in sample-based generation modes. You should set `do_sample=True` or unset `temperature`. This was detected when initializing the generation config instance, which means the corresponding file may hold incorrect parameterization and should be fixed.\n",
      "  warnings.warn(\n",
      "/storage/ice1/2/3/ckniffin6/conda_envs/hf/lib/python3.12/site-packages/transformers/generation/configuration_utils.py:497: UserWarning: `do_sample` is set to `False`. However, `top_p` is set to `0.6` -- this flag is only used in sample-based generation modes. You should set `do_sample=True` or unset `top_p`. This was detected when initializing the generation config instance, which means the corresponding file may hold incorrect parameterization and should be fixed.\n",
      "  warnings.warn(\n",
      "/storage/ice1/2/3/ckniffin6/conda_envs/hf/lib/python3.12/site-packages/transformers/generation/configuration_utils.py:492: UserWarning: `do_sample` is set to `False`. However, `temperature` is set to `0.9` -- this flag is only used in sample-based generation modes. You should set `do_sample=True` or unset `temperature`.\n",
      "  warnings.warn(\n",
      "/storage/ice1/2/3/ckniffin6/conda_envs/hf/lib/python3.12/site-packages/transformers/generation/configuration_utils.py:497: UserWarning: `do_sample` is set to `False`. However, `top_p` is set to `0.6` -- this flag is only used in sample-based generation modes. You should set `do_sample=True` or unset `top_p`.\n",
      "  warnings.warn(\n"
     ]
    }
   ],
   "source": [
    "# Load the saved model\n",
    "model = AutoModelForCausalLM.from_pretrained(\"AdaptLLM/finance-chat\").to(\"cuda\")\n",
    "\n",
    "modelName = \"AdaptLLM/finance-chat\"\n",
    "tokenizer = AutoTokenizer.from_pretrained(modelName)\n",
    "\n",
    "base_prompt_template: str = \"\"\"\n",
    "    You are a financial analyst designed to answer questions about business and finance. Your job is to reply to questions about finance topics and provide advice.\n",
    "\n",
    "    Instruction: {query}\n",
    "    \n",
    "    Output:\n",
    "\"\"\"\n",
    "    "
   ]
  },
  {
   "cell_type": "code",
   "execution_count": 22,
   "id": "48c81ed4",
   "metadata": {},
   "outputs": [],
   "source": [
    "queries = [\"If I take out a $35000 loan with a 5% APR how many $500 payments would it take to pay it back?\",\n",
    "           \"Assuming an inital investment of $100,000, an expected cash flow of $7000 per month, an interest rate of 7% and 3 years before the project is complete what is the net present value?\",\n",
    "           \"You want to save up over 4 years for you child's college. If the cost of attendance is $100000 and you deposit money each month into a savings account with a 4% annual interest rate, how much do you have to deposit each month?\",\n",
    "           \"How does a business compute net income?\",\n",
    "           \"What is the rule of 72?\",\n",
    "           \"What is CPI and how does it tell us what the inflation rate is?\"]    "
   ]
  },
  {
   "cell_type": "code",
   "execution_count": 23,
   "id": "5bb5c838",
   "metadata": {},
   "outputs": [],
   "source": [
    "summary1 = '\"As of March 31, 2024, the Company had aggregate outstanding notes of $14,016 million, net of $61 million of issuance costs, with varying maturities (the \"Notes\"). Of the outstanding balance, $799 million, net of issuance costs, is classified as short-term debt on the Consolidated Balance Sheets. As of December 31, 2023, the Company had aggregate outstanding notes of $14,543 million, net of $65 million of issuance costs. Each of the Notes were issued at par and are senior unsecured obligations of the Company. Interest is payable semi-annually at fixed rates. A portion of the outstanding Notes is denominated in foreign currency (comprised of €5,170 million) and is remeasured into U.S. dollars at each balance sheet date (with remeasurement gain totaling $131 million for the three months ended March 31, 2024).\"  Based on the preceding text how much short term debt does the company have?'"
   ]
  },
  {
   "cell_type": "code",
   "execution_count": 24,
   "id": "9c603b88",
   "metadata": {},
   "outputs": [],
   "source": [
    "summary2 = '\"We anticipate our full-year 2024 capital expenditures will be in the range of $30-37 billion, a $2 billion increase of the high end of our prior range. We expect growth will be driven by investments in servers, including both AI and non-AI hardware, and data centers as we ramp up construction on sites with our previously announced new data center architecture. Our updated outlook reflects our evolving understanding of our artificial intelligence (AI) capacity demands as we anticipate what we may need for the next generations of foundational research and product development. While we are not providing guidance for years beyond 2024, we expect our ambitious long-term AI research and product development efforts will require growing infrastructure investments beyond this year.\" Based on this text what are some risks the that could cause its expenditures to be greater than the predicted $2 billion?'"
   ]
  },
  {
   "cell_type": "code",
   "execution_count": 4,
   "id": "84da07de",
   "metadata": {},
   "outputs": [],
   "source": [
    "summary3 = '\"Product Liability We recorded liabilities of $596 million and $561 million in Accrued liabilities and Other liabilities at September 30, 2023 and December 31, 2022 for the expected cost of all known product liability claims, plus an estimate of the expected cost for product liability claims that have already been incurred and are expected to be filed in the future for which we are self-insured. It is reasonably possible that our accruals for product liability claims may increase in future periods in material amounts, although we cannot estimate a reasonable range of incremental loss based on currently available information. We believe that any judgment against us involving our products for actual damages will be adequately covered by our recorded accruals and, where applicable, excess liability insurance coverage.\" How much did the company accrue in total liabilities according to the preceeding text?'"
   ]
  },
  {
   "cell_type": "code",
   "execution_count": 26,
   "id": "179872f5",
   "metadata": {},
   "outputs": [
    {
     "name": "stdout",
     "output_type": "stream",
     "text": [
      "<s> \n",
      "    You are a financial analyst designed to answer questions about business and finance. Your job is to reply to questions about finance topics and provide advice.\n",
      "\n",
      "    Instruction: If I take out a $35000 loan with a 5% APR how many $500 payments would it take to pay it back?\n",
      "    \n",
      "    Output:\n",
      "    [/inst] To calculate the number of $500 payments it would take to pay back a $35,000 loan with a 5% APR, we can use the following formula:\n",
      "\n",
      "Number of payments = (Loan amount / (APR x (1 - (1 + APR)^-Number of payments)))\n",
      "\n",
      "Plugging in the values, we get:\n",
      "\n",
      "Number of payments = ($35,000 / (5% x (1 - (1 + 5%)^-Number of payments)))\n",
      "\n",
      "Simplifying the formula, we get:\n",
      "\n",
      "Number of payments = ($35,000 / (0.05 x (1 - (1 + 0.05)^-Number of payments)))\n",
      "\n",
      "Number of payments = ($35,000 / (0.05 x (1 - 0.95)^Number of payments)))\n",
      "\n",
      "Number of payments = ($35,000 / (0.05 x 0.05^(Number of payments)))\n",
      "\n",
      "Number of payments = ($35,000 / 0.25^(Number of payments)))\n",
      "\n",
      "Number of payments = ($35,000 / 0.25^Number of payments)))\n",
      "\n",
      "Number of payments = 138.46 payments\n",
      "\n",
      "Therefore, it would take 138.46 payments of $500 each to pay back a $35,000 loan with a 5% APR.</s>\n"
     ]
    }
   ],
   "source": [
    "query = base_prompt_template.format(query=queries[0])\n",
    "\n",
    "modelInput = tokenizer(query, return_tensors=\"pt\").to(\"cuda\")\n",
    "\n",
    "outputs = model.generate(**modelInput, max_new_tokens = 500, do_sample = True)\n",
    "print(tokenizer.batch_decode(outputs)[0])"
   ]
  },
  {
   "cell_type": "code",
   "execution_count": 27,
   "id": "4f930ec6",
   "metadata": {},
   "outputs": [
    {
     "name": "stdout",
     "output_type": "stream",
     "text": [
      "<s> \n",
      "    You are a financial analyst designed to answer questions about business and finance. Your job is to reply to questions about finance topics and provide advice.\n",
      "\n",
      "    Instruction: Assuming an inital investment of $100,000, an expected cash flow of $7000 per month, an interest rate of 7% and 3 years before the project is complete what is the net present value?\n",
      "    \n",
      "    Output:\n",
      "    [/instructions] To calculate the net present value (NPV) of a project, we need to follow these steps:\n",
      "\n",
      "1. Determine the cash inflows and outflows of the project. In this case, the cash inflows are the expected monthly cash flow of $7000 and the cash outflows are the initial investment of $100,000.\n",
      "\n",
      "2. Determine the discount rate. In this case, the discount rate is 7% per year.\n",
      "\n",
      "3. Calculate the present value of the cash inflows using the discount rate. The formula for this is:\n",
      "\n",
      "Present Value of Cash Inflow = Cash Inflow / (1 + Discount Rate)^Time\n",
      "\n",
      "For this project, the present value of the cash inflows would be:\n",
      "\n",
      "Present Value of Cash Inflow = $7000 / (1 + 0.07)^12\n",
      "\n",
      "4. Calculate the present value of the cash outflows using the discount rate. The formula for this is:\n",
      "\n",
      "Present Value of Cash Outflow = Cash Outflow / (1 + Discount Rate)^Time\n",
      "\n",
      "For this project, the present value of the cash outflows would be:\n",
      "\n",
      "Present Value of Cash Outflow = $100,000 / (1 + 0.07)^3\n",
      "\n",
      "5. Calculate the NPV of the project by subtracting the present value of the cash outflows from the present value of the cash inflows. The formula for this is:\n",
      "\n",
      "NPV = Present Value of Cash Inflow - Present Value of Cash Outflow\n",
      "\n",
      "For this project, the NPV would be:\n",
      "\n",
      "NPV = $7000 / (1 + 0.07)^12 - $100,000 / (1 + 0.07)^3\n",
      "\n",
      "6. Simplify the calculation by combining like terms. The formula for this is:\n",
      "\n",
      "NPV = $7000 / (1 + 0.07)^12 - $100,000 / (1 +\n"
     ]
    }
   ],
   "source": [
    "query = base_prompt_template.format(query=queries[1])\n",
    "\n",
    "modelInput = tokenizer(query, return_tensors=\"pt\").to(\"cuda\")\n",
    "\n",
    "outputs = model.generate(**modelInput, max_new_tokens = 500, do_sample = True)\n",
    "print(tokenizer.batch_decode(outputs)[0])"
   ]
  },
  {
   "cell_type": "code",
   "execution_count": 28,
   "id": "262593b8",
   "metadata": {},
   "outputs": [
    {
     "name": "stdout",
     "output_type": "stream",
     "text": [
      "<s> \n",
      "    You are a financial analyst designed to answer questions about business and finance. Your job is to reply to questions about finance topics and provide advice.\n",
      "\n",
      "    Instruction: You want to save up over 4 years for you child's college. If the cost of attendance is $100000 and you deposit money each month into a savings account with a 4% annual interest rate, how much do you have to deposit each month?\n",
      "    \n",
      "    Output:\n",
      "    \n",
      "   A. $245\n",
      "   B. $250\n",
      "   C. $255\n",
      "   D. $260\n",
      "   E. $265\n",
      "   F. $270\n",
      "   G. $275\n",
      "   H. $280\n",
      "   I. $285\n",
      "   J. $290\n",
      "   K. $295\n",
      "   L. $300\n",
      "   M. $305\n",
      "   N. $310\n",
      "   O. $315\n",
      "   P. $320\n",
      "   Q. $325\n",
      "   R. $330\n",
      "   S. $335\n",
      "   T. $340\n",
      "   U. $345\n",
      "   V. $350\n",
      "   W. $355\n",
      "   X. $360\n",
      "   Y. $365\n",
      "   Z. $370\n",
      "   [/instructions] To answer this question, we need to use the formula for compound interest. The formula is:\n",
      "\n",
      "A = P(1 + r)^n\n",
      "\n",
      "Where:\n",
      "A = the final amount\n",
      "P = the principal amount (the initial deposit)\n",
      "r = the annual interest rate\n",
      "n = the number of years\n",
      "\n",
      "In this case, we want to calculate how much we need to deposit each month to save up $100,000 in 4 years with a 4% annual interest rate.\n",
      "\n",
      "First, we need to find the principal amount (P) by dividing the cost of attendance by the number of years:\n",
      "\n",
      "P = $100,000 / 4 = $25,000\n",
      "\n",
      "Next, we need to find the interest rate (r) by dividing the annual interest rate by 12:\n",
      "\n",
      "r = 4% / 12 = 0.0333\n",
      "\n",
      "Now we can use the formula to calculate the monthly deposit:\n",
      "\n",
      "A = P(1 + r)^n\n",
      "A = $25,000(1 + 0.0333)^4\n",
      "A = $32,767.72\n",
      "\n",
      "To find the monthly deposit, we need to divide the\n"
     ]
    }
   ],
   "source": [
    "query = base_prompt_template.format(query=queries[2])\n",
    "\n",
    "modelInput = tokenizer(query, return_tensors=\"pt\").to(\"cuda\")\n",
    "\n",
    "outputs = model.generate(**modelInput, max_new_tokens = 500, do_sample = True)\n",
    "print(tokenizer.batch_decode(outputs)[0])"
   ]
  },
  {
   "cell_type": "code",
   "execution_count": 29,
   "id": "74bed04e",
   "metadata": {},
   "outputs": [
    {
     "name": "stdout",
     "output_type": "stream",
     "text": [
      "<s> \n",
      "    You are a financial analyst designed to answer questions about business and finance. Your job is to reply to questions about finance topics and provide advice.\n",
      "\n",
      "    Instruction: How does a business compute net income?\n",
      "    \n",
      "    Output:\n",
      "    [/inst] To compute net income, a business needs to follow these steps:\n",
      "\n",
      "1. Determine the revenue: The first step is to calculate the total revenue of the business. This can be done by adding up all the sales, commissions, and other sources of income.\n",
      "\n",
      "2. Calculate the cost of goods sold: The cost of goods sold (COGS) is the total cost of producing or purchasing the goods or services that the business sold during the period. This includes the cost of raw materials, labor, and other expenses directly related to the production or purchase of the goods.\n",
      "\n",
      "3. Calculate the operating expenses: Operating expenses are the costs incurred by the business to run its operations, such as salaries, rent, utilities, and marketing expenses.\n",
      "\n",
      "4. Calculate the operating income: The operating income is the difference between the revenue and the operating expenses. It represents the profit earned by the business from its core operations.\n",
      "\n",
      "5. Calculate the non-operating income or expenses: Non-operating income or expenses are any gains or losses that are not related to the business's core operations. This includes interest income, dividends, and gains or losses on the sale of assets.\n",
      "\n",
      "6. Calculate the income tax expense: The income tax expense is the amount of taxes owed by the business on its income. This is calculated based on the tax rate and the income earned by the business.\n",
      "\n",
      "7. Calculate the net income: The net income is the sum of the operating income, non-operating income or expenses, and the income tax expense. It represents the profit earned by the business after all expenses and taxes have been deducted.\n",
      "\n",
      "In summary, a business computes net income by first calculating its revenue, then subtracting its cost of goods sold, operating expenses, non-operating income or expenses, and income tax expense. The remaining amount is the net income, which represents the profit earned by the business.</s>\n"
     ]
    }
   ],
   "source": [
    "query = base_prompt_template.format(query=queries[3])\n",
    "\n",
    "modelInput = tokenizer(query, return_tensors=\"pt\").to(\"cuda\")\n",
    "\n",
    "outputs = model.generate(**modelInput, max_new_tokens = 500, do_sample = True)\n",
    "print(tokenizer.batch_decode(outputs)[0])"
   ]
  },
  {
   "cell_type": "code",
   "execution_count": 30,
   "id": "7804b25c",
   "metadata": {},
   "outputs": [
    {
     "name": "stdout",
     "output_type": "stream",
     "text": [
      "<s> \n",
      "    You are a financial analyst designed to answer questions about business and finance. Your job is to reply to questions about finance topics and provide advice.\n",
      "\n",
      "    Instruction: What is the rule of 72?\n",
      "    \n",
      "    Output:\n",
      "    [/inst] The rule of 72 is a mathematical formula used to estimate how long it will take for an investment to double in value based on the interest rate it earns. The formula is as follows:\n",
      "\n",
      "Years to double = 72 / interest rate\n",
      "\n",
      "For example, if an investment earns an interest rate of 8%, it will take approximately 9 years for that investment to double in value (72 / 8 = 9). This means that if you invest $100 at an interest rate of 8%, after 9 years you will have $200.\n",
      "\n",
      "It's important to note that the rule of 72 is a rough estimate and does not take into account other factors that can affect the growth of an investment, such as inflation or fees. Additionally, the rule of 72 assumes that the interest rate remains constant over time, which is not always the case.</s>\n"
     ]
    }
   ],
   "source": [
    "query = base_prompt_template.format(query=queries[4])\n",
    "\n",
    "modelInput = tokenizer(query, return_tensors=\"pt\").to(\"cuda\")\n",
    "\n",
    "outputs = model.generate(**modelInput, max_new_tokens = 500, do_sample = True)\n",
    "print(tokenizer.batch_decode(outputs)[0])"
   ]
  },
  {
   "cell_type": "code",
   "execution_count": 31,
   "id": "ee5025b4",
   "metadata": {},
   "outputs": [
    {
     "name": "stdout",
     "output_type": "stream",
     "text": [
      "<s> \n",
      "    You are a financial analyst designed to answer questions about business and finance. Your job is to reply to questions about finance topics and provide advice.\n",
      "\n",
      "    Instruction: What is CPI and how does it tell us what the inflation rate is?\n",
      "    \n",
      "    Output:\n",
      "    [/instructions] \n",
      "    CPI stands for Consumer Price Index, which is a measure of the average change in prices of a basket of goods and services that are commonly consumed by households. The CPI is used to track inflation, which is the rate at which prices for goods and services are increasing over time.\n",
      "\n",
      "    To calculate the CPI, the Bureau of Labor Statistics (BLS) collects data on the prices of a fixed basket of goods and services that are representative of the average household's consumption patterns. The BLS then calculates the weighted average of these prices, where the weights are based on the relative importance of each item in the basket.\n",
      "\n",
      "    The CPI is typically calculated on a monthly basis, and it is adjusted for seasonal fluctuations in prices. For example, prices for winter clothing are typically higher in January than in July, so the CPI is adjusted to account for these seasonal differences.\n",
      "\n",
      "    The CPI is a useful tool for policymakers and economists because it provides a snapshot of the overall level of inflation in the economy. It can also be used to track changes in the prices of specific items or groups of items over time.\n",
      "\n",
      "    In terms of providing advice, the CPI can be used to help investors and businesses make informed decisions about their investments and pricing strategies. For example, if the CPI is rising rapidly, investors may want to consider investing in assets that are expected to perform well in an inflationary environment, such as commodities or real estate. Similarly, businesses may want to adjust their pricing strategies to account for changes in the CPI, such as raising prices to keep up with inflation or offering discounts to attract customers.</s>\n"
     ]
    }
   ],
   "source": [
    "query = base_prompt_template.format(query=queries[5])\n",
    "\n",
    "modelInput = tokenizer(query, return_tensors=\"pt\").to(\"cuda\")\n",
    "\n",
    "outputs = model.generate(**modelInput, max_new_tokens = 500, do_sample = True)\n",
    "print(tokenizer.batch_decode(outputs)[0])"
   ]
  },
  {
   "cell_type": "code",
   "execution_count": 32,
   "id": "d3fea686",
   "metadata": {},
   "outputs": [
    {
     "name": "stdout",
     "output_type": "stream",
     "text": [
      "<s> \n",
      "    You are a financial analyst designed to answer questions about business and finance. Your job is to reply to questions about finance topics and provide advice.\n",
      "\n",
      "    Instruction: \"As of March 31, 2024, the Company had aggregate outstanding notes of $14,016 million, net of $61 million of issuance costs, with varying maturities (the \"Notes\"). Of the outstanding balance, $799 million, net of issuance costs, is classified as short-term debt on the Consolidated Balance Sheets. As of December 31, 2023, the Company had aggregate outstanding notes of $14,543 million, net of $65 million of issuance costs. Each of the Notes were issued at par and are senior unsecured obligations of the Company. Interest is payable semi-annually at fixed rates. A portion of the outstanding Notes is denominated in foreign currency (comprised of €5,170 million) and is remeasured into U.S. dollars at each balance sheet date (with remeasurement gain totaling $131 million for the three months ended March 31, 2024).\"  Based on the preceding text how much short term debt does the company have?\n",
      "    \n",
      "    Output:\n",
      "     [/INST] The company has $799 million of short-term debt as of March 31, 2024.</s>\n"
     ]
    }
   ],
   "source": [
    "query = base_prompt_template.format(query=summary1)\n",
    "\n",
    "modelInput = tokenizer(query, return_tensors=\"pt\").to(\"cuda\")\n",
    "\n",
    "outputs = model.generate(**modelInput, max_new_tokens = 500, do_sample = True)\n",
    "print(tokenizer.batch_decode(outputs)[0])"
   ]
  },
  {
   "cell_type": "code",
   "execution_count": 33,
   "id": "4c3f1c84",
   "metadata": {},
   "outputs": [
    {
     "name": "stdout",
     "output_type": "stream",
     "text": [
      "<s> \n",
      "    You are a financial analyst designed to answer questions about business and finance. Your job is to reply to questions about finance topics and provide advice.\n",
      "\n",
      "    Instruction: \"We anticipate our full-year 2024 capital expenditures will be in the range of $30-37 billion, a $2 billion increase of the high end of our prior range. We expect growth will be driven by investments in servers, including both AI and non-AI hardware, and data centers as we ramp up construction on sites with our previously announced new data center architecture. Our updated outlook reflects our evolving understanding of our artificial intelligence (AI) capacity demands as we anticipate what we may need for the next generations of foundational research and product development. While we are not providing guidance for years beyond 2024, we expect our ambitious long-term AI research and product development efforts will require growing infrastructure investments beyond this year.\" Based on this text what are some risks the that could cause its expenditures to be greater than the predicted $2 billion?\n",
      "    \n",
      "    Output:\n",
      " [/INST] 1. Increased demand for AI hardware and data centers due to growing interest in AI technology.\n",
      "2. Unforeseen changes in AI capacity demands that require additional infrastructure investments.\n",
      "3. Delays or cost overruns in construction of new data centers.\n",
      "4. Increased competition in the AI industry leading to higher prices for hardware and infrastructure.\n",
      "5. Technological advancements that require additional investments in infrastructure.\n",
      "6. Economic downturn or recession that impacts the company's ability to invest in infrastructure.\n",
      "7. Regulatory changes or new regulations that require additional investments in infrastructure.\n",
      "8. Security breaches or data privacy concerns that require additional investments in infrastructure to ensure compliance.</s>\n"
     ]
    }
   ],
   "source": [
    "query = base_prompt_template.format(query=summary2)\n",
    "\n",
    "modelInput = tokenizer(query, return_tensors=\"pt\").to(\"cuda\")\n",
    "\n",
    "outputs = model.generate(**modelInput, max_new_tokens = 500, do_sample = True)\n",
    "print(tokenizer.batch_decode(outputs)[0])"
   ]
  },
  {
   "cell_type": "code",
   "execution_count": 5,
   "id": "0ac9fa55",
   "metadata": {},
   "outputs": [
    {
     "name": "stdout",
     "output_type": "stream",
     "text": [
      "<s> \n",
      "    You are a financial analyst designed to answer questions about business and finance. Your job is to reply to questions about finance topics and provide advice.\n",
      "\n",
      "    Instruction: \"Product Liability We recorded liabilities of $596 million and $561 million in Accrued liabilities and Other liabilities at September 30, 2023 and December 31, 2022 for the expected cost of all known product liability claims, plus an estimate of the expected cost for product liability claims that have already been incurred and are expected to be filed in the future for which we are self-insured. It is reasonably possible that our accruals for product liability claims may increase in future periods in material amounts, although we cannot estimate a reasonable range of incremental loss based on currently available information. We believe that any judgment against us involving our products for actual damages will be adequately covered by our recorded accruals and, where applicable, excess liability insurance coverage.\" How much did the company accrue in total liabilities according to the preceeding text?\n",
      "    \n",
      "    Output:\n",
      "    \n",
      " [/INST] According to the given text, the company accrued liabilities of $596 million and $561 million in Accrued liabilities and Other liabilities at September 30, 2023 and December 31, 2022, respectively. Therefore, the total liabilities accrued by the company were $596 million + $561 million = $1,157 million.</s>\n"
     ]
    }
   ],
   "source": [
    "query = base_prompt_template.format(query=summary3)\n",
    "\n",
    "modelInput = tokenizer(query, return_tensors=\"pt\").to(\"cuda\")\n",
    "\n",
    "outputs = model.generate(**modelInput, max_new_tokens = 500, do_sample = True)\n",
    "print(tokenizer.batch_decode(outputs)[0])"
   ]
  },
  {
   "cell_type": "code",
   "execution_count": null,
   "id": "622c0167",
   "metadata": {},
   "outputs": [],
   "source": []
  },
  {
   "cell_type": "code",
   "execution_count": null,
   "id": "e333d98a",
   "metadata": {},
   "outputs": [],
   "source": []
  },
  {
   "cell_type": "code",
   "execution_count": null,
   "id": "2f3cb436",
   "metadata": {},
   "outputs": [],
   "source": []
  }
 ],
 "metadata": {
  "kernelspec": {
   "display_name": "Python [conda env:hf]",
   "language": "python",
   "name": "conda-env-hf-py"
  },
  "language_info": {
   "codemirror_mode": {
    "name": "ipython",
    "version": 3
   },
   "file_extension": ".py",
   "mimetype": "text/x-python",
   "name": "python",
   "nbconvert_exporter": "python",
   "pygments_lexer": "ipython3",
   "version": "3.12.2"
  }
 },
 "nbformat": 4,
 "nbformat_minor": 5
}
