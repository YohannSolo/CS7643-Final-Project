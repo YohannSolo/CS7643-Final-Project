{
 "cells": [
  {
   "cell_type": "code",
   "execution_count": 1,
   "id": "ecef029b",
   "metadata": {},
   "outputs": [
    {
     "name": "stderr",
     "output_type": "stream",
     "text": [
      "/storage/ice1/2/3/ckniffin6/conda_envs/hf/lib/python3.12/site-packages/transformers/utils/hub.py:124: FutureWarning: Using `TRANSFORMERS_CACHE` is deprecated and will be removed in v5 of Transformers. Use `HF_HOME` instead.\n",
      "  warnings.warn(\n"
     ]
    }
   ],
   "source": [
    "from transformers import AutoModelForCausalLM, AutoTokenizer\n",
    "from peft import PeftModel, AutoPeftModelForCausalLM"
   ]
  },
  {
   "cell_type": "code",
   "execution_count": 2,
   "id": "f85d2a14",
   "metadata": {},
   "outputs": [
    {
     "data": {
      "application/vnd.jupyter.widget-view+json": {
       "model_id": "8c6c356f5f0a4484a8ba79fae80c94bf",
       "version_major": 2,
       "version_minor": 0
      },
      "text/plain": [
       "VBox(children=(HTML(value='<center> <img\\nsrc=https://huggingface.co/front/assets/huggingface_logo-noborder.sv…"
      ]
     },
     "metadata": {},
     "output_type": "display_data"
    }
   ],
   "source": [
    "from huggingface_hub import login\n",
    "login()"
   ]
  },
  {
   "cell_type": "code",
   "execution_count": 3,
   "id": "506db5e1",
   "metadata": {},
   "outputs": [
    {
     "data": {
      "application/vnd.jupyter.widget-view+json": {
       "model_id": "417a3590e282457ab5169ab429e87071",
       "version_major": 2,
       "version_minor": 0
      },
      "text/plain": [
       "Loading checkpoint shards:   0%|          | 0/2 [00:00<?, ?it/s]"
      ]
     },
     "metadata": {},
     "output_type": "display_data"
    }
   ],
   "source": [
    "model = AutoPeftModelForCausalLM.from_pretrained(\"/home/hice1/ckniffin6/scratch/DL/project/adapters/Qlora_rank16\").to(\"cuda\")"
   ]
  },
  {
   "cell_type": "code",
   "execution_count": 4,
   "id": "5f45ba70",
   "metadata": {},
   "outputs": [],
   "source": [
    "# Load the saved model\n",
    "modelName = \"mistralai/Mistral-7B-Instruct-v0.2\"\n",
    "tokenizer = AutoTokenizer.from_pretrained(modelName)\n",
    "\n",
    "base_prompt_template: str = \"\"\"\n",
    "    You are a financial analyst designed to answer questions about business and finance. Your job is to reply to questions about finance topics and provide advice.\n",
    "\n",
    "    Instruction: {query}\n",
    "    \n",
    "    Output:\n",
    "\"\"\"\n",
    "    "
   ]
  },
  {
   "cell_type": "code",
   "execution_count": 5,
   "id": "48c81ed4",
   "metadata": {},
   "outputs": [],
   "source": [
    "queries = [\"If I take out a $35000 loan with a 5% APR how many $500 payments would it take to pay it back?\",\n",
    "           \"Assuming an inital investment of $100,000, an expected cash flow of $7000 per month, an interest rate of 7% and 3 years before the project is complete what is the net present value?\",\n",
    "           \"You want to save up over 4 years for you child's college. If the cost of attendance is $100000 and you deposit money each month into a savings account with a 4% annual interest rate, how much do you have to deposit each month?\",\n",
    "           \"How does a business compute net income?\",\n",
    "           \"What is the rule of 72?\",\n",
    "           \"What is CPI and how does it tell us what the inflation rate is?\"]    "
   ]
  },
  {
   "cell_type": "code",
   "execution_count": 6,
   "id": "5bb5c838",
   "metadata": {},
   "outputs": [],
   "source": [
    "summary1 = '\"As of March 31, 2024, the Company had aggregate outstanding notes of $14,016 million, net of $61 million of issuance costs, with varying maturities (the \"Notes\"). Of the outstanding balance, $799 million, net of issuance costs, is classified as short-term debt on the Consolidated Balance Sheets. As of December 31, 2023, the Company had aggregate outstanding notes of $14,543 million, net of $65 million of issuance costs. Each of the Notes were issued at par and are senior unsecured obligations of the Company. Interest is payable semi-annually at fixed rates. A portion of the outstanding Notes is denominated in foreign currency (comprised of €5,170 million) and is remeasured into U.S. dollars at each balance sheet date (with remeasurement gain totaling $131 million for the three months ended March 31, 2024).\"  Based on the preceding text how much short term debt does the company have?'"
   ]
  },
  {
   "cell_type": "code",
   "execution_count": 7,
   "id": "9c603b88",
   "metadata": {},
   "outputs": [],
   "source": [
    "summary2 = '\"We anticipate our full-year 2024 capital expenditures will be in the range of $30-37 billion, a $2 billion increase of the high end of our prior range. We expect growth will be driven by investments in servers, including both AI and non-AI hardware, and data centers as we ramp up construction on sites with our previously announced new data center architecture. Our updated outlook reflects our evolving understanding of our artificial intelligence (AI) capacity demands as we anticipate what we may need for the next generations of foundational research and product development. While we are not providing guidance for years beyond 2024, we expect our ambitious long-term AI research and product development efforts will require growing infrastructure investments beyond this year.\" Based on this text what are some risks the that could cause its expenditures to be greater than the predicted $2 billion?'"
   ]
  },
  {
   "cell_type": "code",
   "execution_count": 8,
   "id": "84da07de",
   "metadata": {},
   "outputs": [],
   "source": [
    "summary3 = '\"Product Liability We recorded liabilities of $596 million and $561 million in Accrued liabilities and Other liabilities at September 30, 2023 and December 31, 2022 for the expected cost of all known product liability claims, plus an estimate of the expected cost for product liability claims that have already been incurred and are expected to be filed in the future for which we are self-insured. It is reasonably possible that our accruals for product liability claims may increase in future periods in material amounts, although we cannot estimate a reasonable range of incremental loss based on currently available information. We believe that any judgment against us involving our products for actual damages will be adequately covered by our recorded accruals and, where applicable, excess liability insurance coverage.\" How much did the company accrue in total liabilities according to the preceeding text?'"
   ]
  },
  {
   "cell_type": "code",
   "execution_count": 9,
   "id": "179872f5",
   "metadata": {},
   "outputs": [
    {
     "name": "stderr",
     "output_type": "stream",
     "text": [
      "Setting `pad_token_id` to `eos_token_id`:2 for open-end generation.\n"
     ]
    },
    {
     "name": "stdout",
     "output_type": "stream",
     "text": [
      "<s> \n",
      "    You are a financial analyst designed to answer questions about business and finance. Your job is to reply to questions about finance topics and provide advice.\n",
      "\n",
      "    Instruction: If I take out a $35000 loan with a 5% APR how many $500 payments would it take to pay it back?\n",
      "    \n",
      "    Output:\n",
      "<s> 75 payments, or three years.  Your simple interest repayment will be ~$5,425: Principal * (1 + .05/12)^(12*years)-1) = 35000*(1.0025^-75) - 1, or ~47,424-35,000 = 12,424.  Divide this by 7.5 to get $1,659 per month.  As a practical matter, the repayments are likely to be round numbers, so you'll likely make 36 or 48 monthly payments.  That will add a bit to the ultimate cost due to accrued interest.  This assumes compounding monthly, but really you're probably looking at at the end of 48 months and not at each month so compounding annually is actually more likely.  Also, I have a vague sense that lenders like to tack on more than the interest rate to the loan.  I don't know if this is a uniform convention, but I did see it in a few places online.  There might be another factor that you need to apply here when you do your loan math. Edit in response to your comment:  If you're making equal payments through the term of the loan, in the basic interest-only scheme, you're paying off half of the principal with the first payment, 1/8th with the second, etc., so at the end you'd have paid off 75% of the principal: (1-1/n)^an=1-an/(1+n) and so the \"monthly payment\" needs to be a bit more than 5/100th of the principal:  An=1-(1-.05/12)^(12*3)=0.048681; so 6(1-.048681) = 5.0406 and 46.3723 (or the $500 that you mentioned) will cover it. Another complication is that the standard interest-only scheme makes no sense in the practical banking world.  Most loans will have an actual payment that the bank thinks of in terms of the borrower's cost\n"
     ]
    }
   ],
   "source": [
    "query = base_prompt_template.format(query=queries[0])\n",
    "\n",
    "modelInput = tokenizer(query, return_tensors=\"pt\").to(\"cuda\")\n",
    "\n",
    "outputs = model.generate(**modelInput, max_new_tokens = 500, do_sample = True)\n",
    "print(tokenizer.batch_decode(outputs)[0])"
   ]
  },
  {
   "cell_type": "code",
   "execution_count": 10,
   "id": "4f930ec6",
   "metadata": {},
   "outputs": [
    {
     "name": "stderr",
     "output_type": "stream",
     "text": [
      "Setting `pad_token_id` to `eos_token_id`:2 for open-end generation.\n"
     ]
    },
    {
     "name": "stdout",
     "output_type": "stream",
     "text": [
      "<s> \n",
      "    You are a financial analyst designed to answer questions about business and finance. Your job is to reply to questions about finance topics and provide advice.\n",
      "\n",
      "    Instruction: Assuming an inital investment of $100,000, an expected cash flow of $7000 per month, an interest rate of 7% and 3 years before the project is complete what is the net present value?\n",
      "    \n",
      "    Output:\n",
      "<s> The net present value of the cash flow is $159,639.71. This means that the present value of the cash flows is greater than the initial investment of $100,000, making the project a profitable investment. The net present value can be calculated using the following formula: NPV = -100,000 + (7000 * (1/1.07)^1) + (7000 * (1.07)^2) + (7000 * (1.07)^3) = $159,639.71  Where n is the number of years, r is the interest rate per year and PV is the present value. To learn more about how to calculate the net present value, refer to the following article: https://www.investopedia.com/articles/financial-analysis/121214/what-is-net-present-value-determine-project-worth.asp?amphtml=true&amp_js_v=a6&gt; How to Calculate the Net Present Value to Determine a Project's Worth&nbsp;#_ampftoc_MQ==  #calculate #value #netpresentvalue #finance  #calculates #values #financialanalysis #businessinsider #financialliteracy #investment #profitability #projectprofitability #profitmargin #profitabilityratio #investmentstrategy #investmentportfolio #investments #timevalueofmoney #netpresentvaluecalculator #presentvalue  #investmentvaluation #netpresentvaluecalculator #investmentstrategy #timevalueofmoney #returnsonsinvestment #financialanalysis #financialplanning #investmenttips #investments #investmentstrategies #growthinvesting #investmentportfolios #bonds #interestrates #dividends #stocks #economicgrowth #investmentreturns #reinvestment #financing #financialreturns #savingsaccounts  #investment #returns #strategicinvestment #strategicinvestmentplanning #financialinvestment #projectin\n"
     ]
    }
   ],
   "source": [
    "query = base_prompt_template.format(query=queries[1])\n",
    "\n",
    "modelInput = tokenizer(query, return_tensors=\"pt\").to(\"cuda\")\n",
    "\n",
    "outputs = model.generate(**modelInput, max_new_tokens = 500, do_sample = True)\n",
    "print(tokenizer.batch_decode(outputs)[0])"
   ]
  },
  {
   "cell_type": "code",
   "execution_count": 11,
   "id": "262593b8",
   "metadata": {},
   "outputs": [
    {
     "name": "stderr",
     "output_type": "stream",
     "text": [
      "Setting `pad_token_id` to `eos_token_id`:2 for open-end generation.\n"
     ]
    },
    {
     "name": "stdout",
     "output_type": "stream",
     "text": [
      "<s> \n",
      "    You are a financial analyst designed to answer questions about business and finance. Your job is to reply to questions about finance topics and provide advice.\n",
      "\n",
      "    Instruction: You want to save up over 4 years for you child's college. If the cost of attendance is $100000 and you deposit money each month into a savings account with a 4% annual interest rate, how much do you have to deposit each month?\n",
      "    \n",
      "    Output:\n",
      "<s> $1565.55 per month. It takes 30 months to save $100,000 with a 1.5% per month deposit earning a 4% annual return. Monthly deposits is calculated from $100,000 / (1.015^30) = $1565.55 per month. Yearly deposits is calculated from $100,000 / (1.015) ^ 30 = $5262.22 per year.  Monthly deposit calculation is from https://www.calculator.net/interest-a-compounding-calculator.html Monthly deposit calculation is from http://www.financialcalculator.net/savings-calculator.html#savings-interest-calculator Monthly deposit calculation is from http://www.calculatorshop.com/finance/future_value_compound_interest_calculator.htm Note, I made changes from an earlier version.  The earlier version didn't account for the effect of simple vs. compound interest. The earlier version said it should take 24 months to save $100,000 with a $4,166.67 per month deposit which would be an effective APR of 48% with simple interest instead of compounding the interest back to the deposit. That was way too high.  Another site that provides an interesting approach to the calculation is to not calculate the interest rate. http://www.calculatorshop.com/calculators/time-value-of-money/how-much-do-i-need-to-save-each-month.htm It suggests a deposit of $5084.90 each month. This is not as easy to understand as the compound formula above. The site computes the effective annual interest rate of 4%, and then solves the equation: Deposit Amount = (Interest Rate / (1 - (1 + Interest Rate)^-n)) * (1 - (1 / n)) * PV PV is in this case the yearly cost of tuition - $100,000 Effectively, this calculates deposits required with\n"
     ]
    }
   ],
   "source": [
    "query = base_prompt_template.format(query=queries[2])\n",
    "\n",
    "modelInput = tokenizer(query, return_tensors=\"pt\").to(\"cuda\")\n",
    "\n",
    "outputs = model.generate(**modelInput, max_new_tokens = 500, do_sample = True)\n",
    "print(tokenizer.batch_decode(outputs)[0])"
   ]
  },
  {
   "cell_type": "code",
   "execution_count": 12,
   "id": "74bed04e",
   "metadata": {},
   "outputs": [
    {
     "name": "stderr",
     "output_type": "stream",
     "text": [
      "Setting `pad_token_id` to `eos_token_id`:2 for open-end generation.\n"
     ]
    },
    {
     "name": "stdout",
     "output_type": "stream",
     "text": [
      "<s> \n",
      "    You are a financial analyst designed to answer questions about business and finance. Your job is to reply to questions about finance topics and provide advice.\n",
      "\n",
      "    Instruction: How does a business compute net income?\n",
      "    \n",
      "    Output:\n",
      "<s> Net income is the amount of money that a business has available after subtracting expenses from its income. To calculate a business's net income, begin by deducting the total expenses incurred over a specific period of time from the total amount of money earned during that same period. This results in the business's gross income. Next, subtract any deductions, such as depreciation and taxes, from the gross income, resulting in the business's net income. The net income can then be compared against industry standards for the same type of business to determine the performance of the company.  It is important to note that the net income of a business can also be influenced by non-cash items, such as accounting changes and one-time events. Therefore, net income should not solely be used to make decisions about business performance. To make a more informed assessment, it is also important to look at other financial metrics, such as cash flow and profit margin. Additionally, analyzing the entire income statement can provide further insight into the financial health of a business. An income statement gives a detailed overview of where a business's revenue comes from and where its money ends up, and can provide valuable insights into how the business has performed over a specific time period. It is important to remember that business performance is not only about the amount of money earned, but also about how that money is managed, how it is spent, and what costs can be reduced to improve the bottom line. All of these aspects should be taken into consideration when evaluating the performance of a business. Thus, using the net income as the only measure of a business’s performance can give an incomplete or inaccurate picture.  A more comprehensive assessment of business performance can be achieved by calculating other financial metrics, such as cash flow, profit margin, and total net income. These metrics can provide valuable insights into how the business is managed and where money is being spent. By considering all these aspects, a better understanding of the business's financial health can be achieved.  When it come to calculating a business's net income, it is important to remember that this figure should not be used as the only measure of performance. Other metrics such as cash flow, profit margins, and total net income should also be considered when assessing the financial health of a business. Ultimately, all of these metrics should be taken into consideration to gain a comprehensive understanding\n"
     ]
    }
   ],
   "source": [
    "query = base_prompt_template.format(query=queries[3])\n",
    "\n",
    "modelInput = tokenizer(query, return_tensors=\"pt\").to(\"cuda\")\n",
    "\n",
    "outputs = model.generate(**modelInput, max_new_tokens = 500, do_sample = True)\n",
    "print(tokenizer.batch_decode(outputs)[0])"
   ]
  },
  {
   "cell_type": "code",
   "execution_count": 13,
   "id": "7804b25c",
   "metadata": {},
   "outputs": [
    {
     "name": "stderr",
     "output_type": "stream",
     "text": [
      "Setting `pad_token_id` to `eos_token_id`:2 for open-end generation.\n"
     ]
    },
    {
     "name": "stdout",
     "output_type": "stream",
     "text": [
      "<s> \n",
      "    You are a financial analyst designed to answer questions about business and finance. Your job is to reply to questions about finance topics and provide advice.\n",
      "\n",
      "    Instruction: What is the rule of 72?\n",
      "    \n",
      "    Output:\n",
      "<s> It is used to calculate how long it will take for an investment to double in value. The rule of 72 says that your investment will double in value in 72/interest rate (in decimal form) years.  So if you have an investment earning 8% interest, it'll double in ~9 years (72/0.08=9.00). Edit: In terms of compounding (either periodic or continuous) -  http://www.calculator.net/financial-calculators/compound-interest-calculator.html  The formula (from the website) is:  FV = PV * ( 1 + (r/c) ) ^ t Or:  PV = (FV / (1 + (r/c) ^ t ))  This can be used to determine the initial deposit required to double one's investment. If we assume a 20% annual interest rate, and a continuous compounding scheme, then the doubling time will be 3.5688 years (72/20)  I'm assuming this is what the rule of 72 aims to do but the website above doesn't mention such a rule.  Edit 2: To determine the interest rate required to double your investment is the following:  So assuming a doubling of your initial investment, you'd solve for r with the above equation.  Since 8 + 3 = 11 - 1, we can write 8r = 11 - 1, or r = 3/8 = 75/225 = 0.338... Thus you'd require a 33.8% annual interest rate.  This number is in stark contrast to the 8% needed in the first calculation.  I have to admit I'm a bit lost on the difference between the continuous vs periodic compounding - in the second calculation, why is r/c not mentioned?  Is it because the second is an interest rate instead of a periodic interest rate?  I'm guessing c is the number of compounding periods?  If we assume that c is 1 (yearly) instead of 12 (monthly in the first case, 8% annual interest rate). Added Edit 3: This link states the\n"
     ]
    }
   ],
   "source": [
    "query = base_prompt_template.format(query=queries[4])\n",
    "\n",
    "modelInput = tokenizer(query, return_tensors=\"pt\").to(\"cuda\")\n",
    "\n",
    "outputs = model.generate(**modelInput, max_new_tokens = 500, do_sample = True)\n",
    "print(tokenizer.batch_decode(outputs)[0])"
   ]
  },
  {
   "cell_type": "code",
   "execution_count": 14,
   "id": "ee5025b4",
   "metadata": {},
   "outputs": [
    {
     "name": "stderr",
     "output_type": "stream",
     "text": [
      "Setting `pad_token_id` to `eos_token_id`:2 for open-end generation.\n"
     ]
    },
    {
     "name": "stdout",
     "output_type": "stream",
     "text": [
      "<s> \n",
      "    You are a financial analyst designed to answer questions about business and finance. Your job is to reply to questions about finance topics and provide advice.\n",
      "\n",
      "    Instruction: What is CPI and how does it tell us what the inflation rate is?\n",
      "    \n",
      "    Output:\n",
      "<s> The Consumer Price Index measures the average change over time in the prices paid by urban consumers for a representative collection of consumer goods and services. It also does the same calculation with respect to the prices paid by urban wage earners and clerical workers. Source: Wikipedia The problem is the \"representative collection of consumer goods and services\" is not representative at all. We have two sets of consumer goods here. One used by wage earners, the other by ... well the definition doesn't know the answer. So the index includes what a person earning a relatively low median salary (like a secretary purchasing a dress to wear to work) is going to spend the money on. It is meant to be a relative measure because its not the same for everyone. Not even close. The Consumer Price Index for All Urban Consumers is designed to reflect the price changes experienced by urban consumers in the United States who purchase a representative basket of goods and services. There are a number of changes in scope over history since it was introduced in 1913. Source: U.S. Bureau of Labor Statistics So the index is constructed to represent what the average consumer spends money on when they go to the store. This is why we have people trying to buy eggs with their mobile phone. As if anyone has ever done that.  A consumer's basket of goods is an aggregate demand curve for consumers.  When we talk about economies of scale we are talking about how economies of scale help production but they also affect consumer demands. It costs more to put together a bag of groceries for larger families than smaller families.  When we have two consumers but one wage earner, the wages go farther to pay the bills. When it's the other way around and the wages are the same but there's more people to pay the bills, then the consumer basket is skewed differently.  If the consumer basket for all consumers contained 20000 loafs of bread, 10000 cases of eggs or 10000 dresses to go to work, you don't think that would be a realistic view of inflation, do you? The point is that the CPI contains a representative collection of things that are purchased (or not in many cases) regularly. Inflation rates are an abstract concept.  At the end what matters is the bottom line. When you hear economists talking about\n"
     ]
    }
   ],
   "source": [
    "query = base_prompt_template.format(query=queries[5])\n",
    "\n",
    "modelInput = tokenizer(query, return_tensors=\"pt\").to(\"cuda\")\n",
    "\n",
    "outputs = model.generate(**modelInput, max_new_tokens = 500, do_sample = True)\n",
    "print(tokenizer.batch_decode(outputs)[0])"
   ]
  },
  {
   "cell_type": "code",
   "execution_count": 15,
   "id": "d3fea686",
   "metadata": {},
   "outputs": [
    {
     "name": "stderr",
     "output_type": "stream",
     "text": [
      "Setting `pad_token_id` to `eos_token_id`:2 for open-end generation.\n"
     ]
    },
    {
     "name": "stdout",
     "output_type": "stream",
     "text": [
      "<s> \n",
      "    You are a financial analyst designed to answer questions about business and finance. Your job is to reply to questions about finance topics and provide advice.\n",
      "\n",
      "    Instruction: \"As of March 31, 2024, the Company had aggregate outstanding notes of $14,016 million, net of $61 million of issuance costs, with varying maturities (the \"Notes\"). Of the outstanding balance, $799 million, net of issuance costs, is classified as short-term debt on the Consolidated Balance Sheets. As of December 31, 2023, the Company had aggregate outstanding notes of $14,543 million, net of $65 million of issuance costs. Each of the Notes were issued at par and are senior unsecured obligations of the Company. Interest is payable semi-annually at fixed rates. A portion of the outstanding Notes is denominated in foreign currency (comprised of €5,170 million) and is remeasured into U.S. dollars at each balance sheet date (with remeasurement gain totaling $131 million for the three months ended March 31, 2024).\"  Based on the preceding text how much short term debt does the company have?\n",
      "    \n",
      "    Output:\n",
      "<s> $799 million. The amount is listed in the text. The remeasured amount is not part of the short term debt. It is listed under foreign currency denominated notes. The company also had €5,170 million foreign currency denominated notes which were remeasured into U.S. dollar. The remeasured foreign currency notes are not part of short term debt. The remeasurement gain of $131 million is part of the net income.  The amount in question is already accounted for in the short term debt amount. The remeasurement gain of foreign currency notes are already factored in the net income. So the net income has already accounted for the excess balance in the short term notes amount. The balance sheet is in line with the income statement. You can see the balance sheet on the next page.  For more details refer the latest financial statement of the company under schedule 13-A registered with the Securities and Exchange Commission. https://data.sec.gov/filings/html?company=Microsoft-Corporation&id=1060283-22-000042&Start=0&count=60&enddate=2023-06-30&owner=exclude&output=html&state=all&type=&user=0&officetype=&maindoc=1&filed_type=&lang=&cik=0000147667&authority=0&api=search&nothing=0&origin=&foil_res_pb=0&Date_from=&Date_to=&Exact_Match=0&Fractional_ shares_flag=0&Deregistration_flag=0&q=&filing_type=&output_json=&count=60&start=0&enddate=2023-06-30&owner=exclude&type=&state=all&auth=0&o=filings&api=search&all=&offset=0&authority=&mode=html&qe_start=0&exact_match_flag=0&Fractional_shares_flag=0&Deregsitration_flag\n"
     ]
    }
   ],
   "source": [
    "query = base_prompt_template.format(query=summary1)\n",
    "\n",
    "modelInput = tokenizer(query, return_tensors=\"pt\").to(\"cuda\")\n",
    "\n",
    "outputs = model.generate(**modelInput, max_new_tokens = 500, do_sample = True)\n",
    "print(tokenizer.batch_decode(outputs)[0])"
   ]
  },
  {
   "cell_type": "code",
   "execution_count": 16,
   "id": "4c3f1c84",
   "metadata": {},
   "outputs": [
    {
     "name": "stderr",
     "output_type": "stream",
     "text": [
      "Setting `pad_token_id` to `eos_token_id`:2 for open-end generation.\n"
     ]
    },
    {
     "name": "stdout",
     "output_type": "stream",
     "text": [
      "<s> \n",
      "    You are a financial analyst designed to answer questions about business and finance. Your job is to reply to questions about finance topics and provide advice.\n",
      "\n",
      "    Instruction: \"We anticipate our full-year 2024 capital expenditures will be in the range of $30-37 billion, a $2 billion increase of the high end of our prior range. We expect growth will be driven by investments in servers, including both AI and non-AI hardware, and data centers as we ramp up construction on sites with our previously announced new data center architecture. Our updated outlook reflects our evolving understanding of our artificial intelligence (AI) capacity demands as we anticipate what we may need for the next generations of foundational research and product development. While we are not providing guidance for years beyond 2024, we expect our ambitious long-term AI research and product development efforts will require growing infrastructure investments beyond this year.\" Based on this text what are some risks the that could cause its expenditures to be greater than the predicted $2 billion?\n",
      "    \n",
      "    Output:\n",
      "<s> Some risks that could increase to the company's capital expenditures beyond the predicted $2 billion includes changes in the demand for its products, supply chain disruptions, changes in regulations and legislation, and other unforeseen events. Additionally, any risk related to its investments in AI or datacenters could increase the spending amount. Overall, any risk that affects the company's ability to execute its strategy or manage costs could result in an increase in capital expenditure. Furthermore, any investment or decision the company makes that could require additional capital expenditure could increase the total amount of capital expenditure. Finally, any change in the company's business model that increases the need for investments to support that model, could increase capital expenditure. In summary, any risk that causes the company's ability to execute its strategy, manage costs, or make investments that require additional capital expenditure could increase it's capital expenditure up to $2 billion beyond the predicted amount. \n",
      "\n",
      "Source: https://www.google.com/url?sa=t&rct=j&q=risk%20that%20causes%20increase%20in%20capital%20expenditure&esrc=s&prmd=vm&prrv=1&prlv=1&cad=b&cvnd=1&cvnd=2&cad=b&cdl&cvnd=1&cvnw&cad=b&cdvd=1&cdlk&cdill&cdld&cdli&cdlh&cdlo&cdlt&cdlx&cdlne&cdln&cdlpro&cdltp&cdlulp&cdlu&cczd&cdzu&cdzz&cdzl&cdzc&cdze&cdzzc&cdzzl&resultpage=2&biw=1440&bih=810&dpr=1.0&ei=rRu8YMz9I57i9g&url=https://www.thebalancesmb.com/risk-that-causes-capital-expenditures-to-increase-2060907&psig=AHJ5s_1Gs68KbZ\n"
     ]
    }
   ],
   "source": [
    "query = base_prompt_template.format(query=summary2)\n",
    "\n",
    "modelInput = tokenizer(query, return_tensors=\"pt\").to(\"cuda\")\n",
    "\n",
    "outputs = model.generate(**modelInput, max_new_tokens = 500, do_sample = True)\n",
    "print(tokenizer.batch_decode(outputs)[0])"
   ]
  },
  {
   "cell_type": "code",
   "execution_count": 17,
   "id": "0ac9fa55",
   "metadata": {},
   "outputs": [
    {
     "name": "stderr",
     "output_type": "stream",
     "text": [
      "Setting `pad_token_id` to `eos_token_id`:2 for open-end generation.\n"
     ]
    },
    {
     "name": "stdout",
     "output_type": "stream",
     "text": [
      "<s> \n",
      "    You are a financial analyst designed to answer questions about business and finance. Your job is to reply to questions about finance topics and provide advice.\n",
      "\n",
      "    Instruction: \"Product Liability We recorded liabilities of $596 million and $561 million in Accrued liabilities and Other liabilities at September 30, 2023 and December 31, 2022 for the expected cost of all known product liability claims, plus an estimate of the expected cost for product liability claims that have already been incurred and are expected to be filed in the future for which we are self-insured. It is reasonably possible that our accruals for product liability claims may increase in future periods in material amounts, although we cannot estimate a reasonable range of incremental loss based on currently available information. We believe that any judgment against us involving our products for actual damages will be adequately covered by our recorded accruals and, where applicable, excess liability insurance coverage.\" How much did the company accrue in total liabilities according to the preceeding text?\n",
      "    \n",
      "    Output:\n",
      "<s> $1.157 billion (596+561) The estimate of liability claims is $1.157 billion at Dec 31, 2022. I would wait until the numbers are released officially by the company before you decide to trade their stock. If I understood the data correctly. The $1.157 billion are estimates, and it's possible that the actual amount might be over 1.157 billion. Therefore it's possible that the judgment against this company might actually exceed 1.157B. Note: As of Jan 10, 2022, it does not seem that the stock is overly negative. But that is with no guarantee, and we don't know that these estimates are accurate. So you have to decide whether to buy, sell or not to buy, or sell based on your trading strategies and your own preferences and risk tolerance of your investment. If you don't yet understand \"liabilities\", I would urge you to use Wikipedia or learn about it in a finance course.  But if you don't mind taking risk, then you can still do your own due diligence and then you can decide what to do. It's just like betting on either of red or black and you can decide for yourself the appropriate action to take. If black is predicted to win more hands in the future, it doesn't necessarily mean that black will definitely win. 1.157B is not a small amount of potential loss for just 1 casino table. The stock might tank dramatically If you intend to use your money for trading or investment, you should read a few books about trading and trading strategies. Don't try to guess as the market is not a casino. As you know, each state in the USA has its own laws. So if any company has a product in any state which has potential issues for quality, accuracy, and safety, they have to report it. They have to follow the rules and regulations of that state. If you had an issue with a product that you bought for your own use, and if your state has a regulation that requires the company to respond, then report it to the attorney general's office of your state. They will investigate and may or may not award you compensation because you must prove the extent that the defective product harmed you. In fact, there\n"
     ]
    }
   ],
   "source": [
    "query = base_prompt_template.format(query=summary3)\n",
    "\n",
    "modelInput = tokenizer(query, return_tensors=\"pt\").to(\"cuda\")\n",
    "\n",
    "outputs = model.generate(**modelInput, max_new_tokens = 500, do_sample = True)\n",
    "print(tokenizer.batch_decode(outputs)[0])"
   ]
  },
  {
   "cell_type": "code",
   "execution_count": null,
   "id": "622c0167",
   "metadata": {},
   "outputs": [],
   "source": []
  },
  {
   "cell_type": "code",
   "execution_count": null,
   "id": "2ba933c4",
   "metadata": {},
   "outputs": [],
   "source": []
  },
  {
   "cell_type": "code",
   "execution_count": null,
   "id": "a9b0980c",
   "metadata": {},
   "outputs": [],
   "source": []
  }
 ],
 "metadata": {
  "kernelspec": {
   "display_name": "Python [conda env:hf]",
   "language": "python",
   "name": "conda-env-hf-py"
  },
  "language_info": {
   "codemirror_mode": {
    "name": "ipython",
    "version": 3
   },
   "file_extension": ".py",
   "mimetype": "text/x-python",
   "name": "python",
   "nbconvert_exporter": "python",
   "pygments_lexer": "ipython3",
   "version": "3.12.2"
  }
 },
 "nbformat": 4,
 "nbformat_minor": 5
}
