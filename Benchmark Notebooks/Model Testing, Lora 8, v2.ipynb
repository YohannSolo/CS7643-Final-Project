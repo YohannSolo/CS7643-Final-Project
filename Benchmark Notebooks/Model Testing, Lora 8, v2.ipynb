{
 "cells": [
  {
   "cell_type": "code",
   "execution_count": 1,
   "id": "ecef029b",
   "metadata": {},
   "outputs": [
    {
     "name": "stderr",
     "output_type": "stream",
     "text": [
      "/storage/ice1/2/3/ckniffin6/conda_envs/hf/lib/python3.12/site-packages/transformers/utils/hub.py:124: FutureWarning: Using `TRANSFORMERS_CACHE` is deprecated and will be removed in v5 of Transformers. Use `HF_HOME` instead.\n",
      "  warnings.warn(\n"
     ]
    }
   ],
   "source": [
    "from transformers import AutoModelForCausalLM, AutoTokenizer\n",
    "from peft import PeftModel, AutoPeftModelForCausalLM"
   ]
  },
  {
   "cell_type": "code",
   "execution_count": 45,
   "id": "f85d2a14",
   "metadata": {},
   "outputs": [
    {
     "data": {
      "application/vnd.jupyter.widget-view+json": {
       "model_id": "85bd514e6145430a9add5c78827c5e63",
       "version_major": 2,
       "version_minor": 0
      },
      "text/plain": [
       "VBox(children=(HTML(value='<center> <img\\nsrc=https://huggingface.co/front/assets/huggingface_logo-noborder.sv…"
      ]
     },
     "metadata": {},
     "output_type": "display_data"
    }
   ],
   "source": [
    "from huggingface_hub import login\n",
    "login()"
   ]
  },
  {
   "cell_type": "code",
   "execution_count": 15,
   "id": "506db5e1",
   "metadata": {},
   "outputs": [
    {
     "data": {
      "application/vnd.jupyter.widget-view+json": {
       "model_id": "9af03949214a47f4b332928c3576c734",
       "version_major": 2,
       "version_minor": 0
      },
      "text/plain": [
       "Loading checkpoint shards:   0%|          | 0/2 [00:00<?, ?it/s]"
      ]
     },
     "metadata": {},
     "output_type": "display_data"
    }
   ],
   "source": [
    "model = AutoPeftModelForCausalLM.from_pretrained(\"/home/hice1/ckniffin6/scratch/DL/project/adapters/Lora_rank8\").to(\"cuda\")"
   ]
  },
  {
   "cell_type": "code",
   "execution_count": 16,
   "id": "5f45ba70",
   "metadata": {},
   "outputs": [],
   "source": [
    "# Load the saved model\n",
    "modelName = \"mistralai/Mistral-7B-Instruct-v0.2\"\n",
    "tokenizer = AutoTokenizer.from_pretrained(modelName)\n",
    "\n",
    "base_prompt_template: str = \"\"\"\n",
    "    You are a financial analyst designed to answer questions about business and finance. Your job is to reply to questions about finance topics and provide advice.\n",
    "\n",
    "    Instruction: {query}\n",
    "    \n",
    "    Output:\n",
    "\"\"\"\n",
    "    "
   ]
  },
  {
   "cell_type": "code",
   "execution_count": 17,
   "id": "48c81ed4",
   "metadata": {},
   "outputs": [],
   "source": [
    "queries = [\"If I take out a $35000 loan with a 5% APR how many $500 payments would it take to pay it back?\",\n",
    "           \"Assuming an inital investment of $100,000, an expected cash flow of $7000 per month, an interest rate of 7% and 3 years before the project is complete what is the net present value?\",\n",
    "           \"You want to save up over 4 years for you child's college. If the cost of attendance is $100000 and you deposit money each month into a savings account with a 4% annual interest rate, how much do you have to deposit each month?\",\n",
    "           \"How does a business compute net income?\",\n",
    "           \"What is the rule of 72?\",\n",
    "           \"What is CPI and how does it tell us what the inflation rate is?\"]    "
   ]
  },
  {
   "cell_type": "code",
   "execution_count": 18,
   "id": "5bb5c838",
   "metadata": {},
   "outputs": [],
   "source": [
    "summary1 = '\"As of March 31, 2024, the Company had aggregate outstanding notes of $14,016 million, net of $61 million of issuance costs, with varying maturities (the \"Notes\"). Of the outstanding balance, $799 million, net of issuance costs, is classified as short-term debt on the Consolidated Balance Sheets. As of December 31, 2023, the Company had aggregate outstanding notes of $14,543 million, net of $65 million of issuance costs. Each of the Notes were issued at par and are senior unsecured obligations of the Company. Interest is payable semi-annually at fixed rates. A portion of the outstanding Notes is denominated in foreign currency (comprised of €5,170 million) and is remeasured into U.S. dollars at each balance sheet date (with remeasurement gain totaling $131 million for the three months ended March 31, 2024).\"  Based on the preceding text how much short term debt does the company have?'"
   ]
  },
  {
   "cell_type": "code",
   "execution_count": 19,
   "id": "9c603b88",
   "metadata": {},
   "outputs": [],
   "source": [
    "summary2 = '\"We anticipate our full-year 2024 capital expenditures will be in the range of $30-37 billion, a $2 billion increase of the high end of our prior range. We expect growth will be driven by investments in servers, including both AI and non-AI hardware, and data centers as we ramp up construction on sites with our previously announced new data center architecture. Our updated outlook reflects our evolving understanding of our artificial intelligence (AI) capacity demands as we anticipate what we may need for the next generations of foundational research and product development. While we are not providing guidance for years beyond 2024, we expect our ambitious long-term AI research and product development efforts will require growing infrastructure investments beyond this year.\" Based on this text what are some risks the that could cause its expenditures to be greater than the predicted $2 billion?'"
   ]
  },
  {
   "cell_type": "code",
   "execution_count": 30,
   "id": "84da07de",
   "metadata": {},
   "outputs": [],
   "source": [
    "summary3 = '\"Product Liability We recorded liabilities of $596 million and $561 million in Accrued liabilities and Other liabilities at September 30, 2023 and December 31, 2022 for the expected cost of all known product liability claims, plus an estimate of the expected cost for product liability claims that have already been incurred and are expected to be filed in the future for which we are self-insured. It is reasonably possible that our accruals for product liability claims may increase in future periods in material amounts, although we cannot estimate a reasonable range of incremental loss based on currently available information. We believe that any judgment against us involving our products for actual damages will be adequately covered by our recorded accruals and, where applicable, excess liability insurance coverage.\" How much did the company accrue in total liabilities according to the preceeding text?'"
   ]
  },
  {
   "cell_type": "code",
   "execution_count": 21,
   "id": "179872f5",
   "metadata": {},
   "outputs": [
    {
     "name": "stderr",
     "output_type": "stream",
     "text": [
      "Setting `pad_token_id` to `eos_token_id`:2 for open-end generation.\n"
     ]
    },
    {
     "name": "stdout",
     "output_type": "stream",
     "text": [
      "<s> \n",
      "    You are a financial analyst designed to answer questions about business and finance. Your job is to reply to questions about finance topics and provide advice.\n",
      "\n",
      "    Instruction: If I take out a $35000 loan with a 5% APR how many $500 payments would it take to pay it back?\n",
      "    \n",
      "    Output:\n",
      "<s> As you've discovered, the interest is compounding by the month, so 5% of $35k is about how much you'll need to add on.  Let's use the exact number, 1825.00 (5% monthly interest rate over 36 months)  Your monthly payment with no interest is $1020.60. Adding in interest, your monthly payment is $1182.64 (rounded). You'll pay off this amount (just interest, and 10$/mo for the loan) in month 12.   Your second payment is towards loan, interest, and principal. So $1025 is paid towards the principal and interest, and $78 is interest that you accrue monthly.  The third payment will pay down the principal even more, so will be higher than the second.   I think this is a good time to start tracking the numbers by hand.  I think you'll find that you won't want to continue paying more than $500 a month by the 5th or 6th payment. When you're done, you've paid a total of $6105.86 (in interest) for a total of $41,105 (in loan + interest payments). So you end up paying almost $11,000 for a $35,000 loan. The good news is that you'll have learned how not to do that again.  There are tools for dealing with this on the web, as well as phone apps, but, you get the idea and can figure out the details (you'll see that the amortization schedule looks like a sawblade).  A 24 month loan at 6% or 7% or so will get you down to $600 or less a month. Still, that is $12,000 or so over 2 years that you will lose to finance your car. Or, if you pay it off aggressively, your car.   A few links  https://money.stackexchange.com/a/85525/21163 https://www.google.com/search?ei=2xmSWZa3E-WZ\n"
     ]
    }
   ],
   "source": [
    "query = base_prompt_template.format(query=queries[0])\n",
    "\n",
    "modelInput = tokenizer(query, return_tensors=\"pt\").to(\"cuda\")\n",
    "\n",
    "outputs = model.generate(**modelInput, max_new_tokens = 500, do_sample = True)\n",
    "print(tokenizer.batch_decode(outputs)[0])"
   ]
  },
  {
   "cell_type": "code",
   "execution_count": 22,
   "id": "4f930ec6",
   "metadata": {},
   "outputs": [
    {
     "name": "stderr",
     "output_type": "stream",
     "text": [
      "Setting `pad_token_id` to `eos_token_id`:2 for open-end generation.\n"
     ]
    },
    {
     "name": "stdout",
     "output_type": "stream",
     "text": [
      "<s> \n",
      "    You are a financial analyst designed to answer questions about business and finance. Your job is to reply to questions about finance topics and provide advice.\n",
      "\n",
      "    Instruction: Assuming an inital investment of $100,000, an expected cash flow of $7000 per month, an interest rate of 7% and 3 years before the project is complete what is the net present value?\n",
      "    \n",
      "    Output:\n",
      "<s> The net present value of the investment is $601,784.65. This assumes an initial investment of $100,000, a monthly cash flow of $7,000, an interest rate of 7% and 3 years before the project is complete. The formula used to calculate this is: NPV = - C0 + (CF / (1+r) ^1) + (CF / (1+r) ^2) + (CF / (1+r) ^3) = -$100,000 + $7,000 / (1+0.07) ^1 + $7,000 / (1+0.07) ^2 + $7,000 / (1+0.07) ^3 = $601,784.65. Therefore, the net present value of this investment is $601,784.65, which makes it a beneficial investment.  Please note: the assumption here is that the investor receives equal monthly cash flow every month and begins to receive it, as well as the principal, back at the third year, resulting in a total of 36 cash flow periods.  This is equivalent to 3 years of monthly receipts, and the last month of receipts would be the 36th month. If these assumptions are unattainable, the initial investment, expected monthly cash flow and interest rate should be adjusted accordingly.  An example: if the expected monthly cash flow is $7,270 instead of $7,000, while also assuming an extra month before beginning to receive monthly cash flow, then the net present value of the investment is $604,227.99.  NPV = - C0 + (CF / (1+r) ^1) + (CF / (1+r) ^2) + (CF / (1+r) ^3) + (CF / (1+r) ^4) = -$100,000 + $7,270 / (1+0.07) ^1 + $7,270 / (1+0.07) ^2 + $7,270 / (1\n"
     ]
    }
   ],
   "source": [
    "query = base_prompt_template.format(query=queries[1])\n",
    "\n",
    "modelInput = tokenizer(query, return_tensors=\"pt\").to(\"cuda\")\n",
    "\n",
    "outputs = model.generate(**modelInput, max_new_tokens = 500, do_sample = True)\n",
    "print(tokenizer.batch_decode(outputs)[0])"
   ]
  },
  {
   "cell_type": "code",
   "execution_count": 23,
   "id": "262593b8",
   "metadata": {},
   "outputs": [
    {
     "name": "stderr",
     "output_type": "stream",
     "text": [
      "Setting `pad_token_id` to `eos_token_id`:2 for open-end generation.\n"
     ]
    },
    {
     "name": "stdout",
     "output_type": "stream",
     "text": [
      "<s> \n",
      "    You are a financial analyst designed to answer questions about business and finance. Your job is to reply to questions about finance topics and provide advice.\n",
      "\n",
      "    Instruction: You want to save up over 4 years for you child's college. If the cost of attendance is $100000 and you deposit money each month into a savings account with a 4% annual interest rate, how much do you have to deposit each month?\n",
      "    \n",
      "    Output:\n",
      "<s> To have $100,000 after 4 years at a 4% annual interest rate, the amount you need to deposit monthly is around $2,024  In order to calculate the amount you should deposit monthly, we need two things: the cost of attendance and the compound interest rate of the savings account. Cost of attendance ($100,000) x ($1.04)^4 = $100,000   (1+r/100)4 = 1.04  Where r is the interest rate   100000x(1+0.04)^4 = 100000   1.04^4 = 1.216  Rearranging for r   4(r/100) = 0.1216  Where r is the interest rate r = 12.16%   Deposit amount needed per month to reach $100,000 at end of four years To determine the amount per month you should deposit, we need three things: the present value of $100,000, the interest rate, and the number of years   P = FV/[(1+r)n]   P = 100,000/[(1+0.04)4]  Rearranged for monthly deposit amount   100,000 = (monthly deposit amount x (1+0.04)^1)4. P * monthly deposit amount 100,000 * monthly deposit amount = 2024.48   Using 2 decimal places as an approximation  Monthly deposit amount = 2024.48 Where P = present value = 100,000 FV = future value = 100,000 r = interest rate = 0.04 n = number of years = 4  The monthly deposit amount calculated in this example is only accurate to 2 decimal places due to the approximations made. The monthly deposit amount would be more precise if the calculations were performed to the 4th significant digit. This is only mentioned as an explanation for the final answer in this example.  To save $100,000 in\n"
     ]
    }
   ],
   "source": [
    "query = base_prompt_template.format(query=queries[2])\n",
    "\n",
    "modelInput = tokenizer(query, return_tensors=\"pt\").to(\"cuda\")\n",
    "\n",
    "outputs = model.generate(**modelInput, max_new_tokens = 500, do_sample = True)\n",
    "print(tokenizer.batch_decode(outputs)[0])"
   ]
  },
  {
   "cell_type": "code",
   "execution_count": 24,
   "id": "74bed04e",
   "metadata": {},
   "outputs": [
    {
     "name": "stderr",
     "output_type": "stream",
     "text": [
      "Setting `pad_token_id` to `eos_token_id`:2 for open-end generation.\n"
     ]
    },
    {
     "name": "stdout",
     "output_type": "stream",
     "text": [
      "<s> \n",
      "    You are a financial analyst designed to answer questions about business and finance. Your job is to reply to questions about finance topics and provide advice.\n",
      "\n",
      "    Instruction: How does a business compute net income?\n",
      "    \n",
      "    Output:\n",
      "<s> You've got most things right, I just needed to make few edits:  Cash Flow from Operations is Net Income plus Difference between the Operating Assets and Operating Liabilities. Cash Flow from Operations is similar but not equal to the Net Income. You missed Operating Expenses and it was the reason the numbers on your answer were wrong. To understand why Operating Expenses need to be taken out from Net Income, look at this simple example: you have operating expenses like rent, salaries, etc. and net income in a given period. You sold a car for 8000, you received 5000 from rent and you paid 3000 for salaries. You still have operating cash in your company. However, if you then used all this cash to buy a new car for 6000, you will still have the net income of 8000 but your operating cash is 0. This happens because this money went into the purchase of assets, not in cash. The net income is only one aspect of a company's cash position. This is why Operating Expenses need to be taken out. Operating Income is equal to Cash Flow from Operations if everything else that you did in the period did not affect this amount. However, in reality it is not always the case. This is why Cash Flow from Operations is also calculated. For a better understanding, read on wikipedia. When I calculate my operating expenses, should I include the interest on my assets? No. The only interest included in the Operating Expenses are interest paid. Interest received is the only item that should be included in an investment account as Investments received. Edit: After the discussion in the comments, I would like to add one more thing to clarify why Operating Expenses needs to be taken out, a concrete example. If you look at the Cash Flow statement, you will see that all the differences between the change of the Operating Assets and Operating Liabilities will be included there, including the Interest Expenses and Receipts. Therefore, if you subtract the Operating Expenses from the Operating Income (which is the Total Comprehensive Income, on your example this is 3000), the amount you get is exactly the same as the Net Cash provided by Operations on the Cash Flow statement. However,\n"
     ]
    }
   ],
   "source": [
    "query = base_prompt_template.format(query=queries[3])\n",
    "\n",
    "modelInput = tokenizer(query, return_tensors=\"pt\").to(\"cuda\")\n",
    "\n",
    "outputs = model.generate(**modelInput, max_new_tokens = 500, do_sample = True)\n",
    "print(tokenizer.batch_decode(outputs)[0])"
   ]
  },
  {
   "cell_type": "code",
   "execution_count": 25,
   "id": "7804b25c",
   "metadata": {},
   "outputs": [
    {
     "name": "stderr",
     "output_type": "stream",
     "text": [
      "Setting `pad_token_id` to `eos_token_id`:2 for open-end generation.\n"
     ]
    },
    {
     "name": "stdout",
     "output_type": "stream",
     "text": [
      "<s> \n",
      "    You are a financial analyst designed to answer questions about business and finance. Your job is to reply to questions about finance topics and provide advice.\n",
      "\n",
      "    Instruction: What is the rule of 72?\n",
      "    \n",
      "    Output:\n",
      "<s> The Rule of 72 is often used as a shortcut by novice investors to compute the annual rate of return necessary to double one's investment in one year.  Simply, the Rule of 72 states that a fixed annual rate of return of 72 divided by the number of years will double an investment. As such, a 10% return is double in 7.2 years, 20% returns are double in 3.6 years, and so on. It's more useful for quick approximations. A more accurate formula, based on compound interest, is to take the number of years, divide by the rate, and take the natural log: Years for Doubling =  ln(2) / Rate. If you are doubling your investment, it is called a doubling period, as mentioned above in the first paragraph. Doubling every seven years is considered the standard rate of return, which is 10%.  For your reference, the rule can be derived mathematically with the use of the constant e as well. This formula is useful to help investors determine whether a particular investment will reach its goals. If the growth rate of an investment is not sufficient, it's probably best to pursue other opportunities. The Rule of 72 is also useful in determining the number of compounding periods it takes to double the investment. For example, if you make a $100 investment at a 10% annual rate, it will be worth $200 (100 x 2 = 200) exactly 7 years from the original investment. The number of periods to double the initial investment is 7. A compound period of seven is a long time to wait for a doubling of investment, so it is unlikely a traditional 7 percent coupon bond would be used for such long terms.  By the way, the Rule of 72 works better when you are trying to multiply an investment by a factor of ten. So, how can you determine the number of periods to multiply an investment by a specified factor (say x) ? If you multiply by a factor of 10x, you can use the Log function as the base.  Periods to Multiply x Factor = ln(x) / Rate When multiplying your investment by 10, the use of the Rule of 72 is\n"
     ]
    }
   ],
   "source": [
    "query = base_prompt_template.format(query=queries[4])\n",
    "\n",
    "modelInput = tokenizer(query, return_tensors=\"pt\").to(\"cuda\")\n",
    "\n",
    "outputs = model.generate(**modelInput, max_new_tokens = 500, do_sample = True)\n",
    "print(tokenizer.batch_decode(outputs)[0])"
   ]
  },
  {
   "cell_type": "code",
   "execution_count": 26,
   "id": "ee5025b4",
   "metadata": {},
   "outputs": [
    {
     "name": "stderr",
     "output_type": "stream",
     "text": [
      "Setting `pad_token_id` to `eos_token_id`:2 for open-end generation.\n"
     ]
    },
    {
     "name": "stdout",
     "output_type": "stream",
     "text": [
      "<s> \n",
      "    You are a financial analyst designed to answer questions about business and finance. Your job is to reply to questions about finance topics and provide advice.\n",
      "\n",
      "    Instruction: What is CPI and how does it tell us what the inflation rate is?\n",
      "    \n",
      "    Output:\n",
      "<s> The Consumer Price Index is basically the average price of a \"basket of goods\" or products that people typically buy. This list contains products of various food, housing, clothes, etc. So basically, if a gallon of milk is $3 now, but $4 a year prior, the CPI will take that into account and factor it into their index, hence showing that there is inflation since the price has increased. If they used the same list of products, but kept the prices constant for a certain period of time while also keeping in mind products that were added and removed from the list, and how those would affect prices, this would be a general idea of what the index would look like. The CPI is a major factor in the stock market as well as the bond and currency markets, as it gives investors a guide as to when to pull out of a market they're investing in, and it also helps determine the interest rates that a country's central bank should impose on their local currency. As inflation rises, the central bank has to pay out higher interest rates in order for the local currency to be more enticing in the foreign exchange market. The CPI is also very important to the economy as a whole. If inflation is high, then the purchasing parity of the local currency is decreasing, meaning that the consumers/people that inhabit the country will have to pay more for the same products in the future which in turn reduces the actual number of goods being purchased and sold. When people talk about \"deflation/deflationary trends\", it basically means there is a decrease in the CPI, which usually means higher consumption of goods and services. However, there is a certain limit below which there is no benefit to the economy, as too little demand for goods will cause prices to drop even further due to reduced consumption. So, there is a happy medium where the CPI is kept stable, usually around 2%-4% per year, in order to achieve the highest possible rate of consumption without causing prices to decrease further. Deflation is not necessarily \"bad\", however too much of it creates an adverse effect by reducing demand and prices. It also increases debt since people can afford to buy less but are obligated to pay off their full debt, which lowers the amount of debt that can be obtained. The effects of CPI have been documented in economics journals and research papers all over the world\n"
     ]
    }
   ],
   "source": [
    "query = base_prompt_template.format(query=queries[5])\n",
    "\n",
    "modelInput = tokenizer(query, return_tensors=\"pt\").to(\"cuda\")\n",
    "\n",
    "outputs = model.generate(**modelInput, max_new_tokens = 500, do_sample = True)\n",
    "print(tokenizer.batch_decode(outputs)[0])"
   ]
  },
  {
   "cell_type": "code",
   "execution_count": 27,
   "id": "d3fea686",
   "metadata": {},
   "outputs": [
    {
     "name": "stderr",
     "output_type": "stream",
     "text": [
      "Setting `pad_token_id` to `eos_token_id`:2 for open-end generation.\n"
     ]
    },
    {
     "name": "stdout",
     "output_type": "stream",
     "text": [
      "<s> \n",
      "    You are a financial analyst designed to answer questions about business and finance. Your job is to reply to questions about finance topics and provide advice.\n",
      "\n",
      "    Instruction: \"As of March 31, 2024, the Company had aggregate outstanding notes of $14,016 million, net of $61 million of issuance costs, with varying maturities (the \"Notes\"). Of the outstanding balance, $799 million, net of issuance costs, is classified as short-term debt on the Consolidated Balance Sheets. As of December 31, 2023, the Company had aggregate outstanding notes of $14,543 million, net of $65 million of issuance costs. Each of the Notes were issued at par and are senior unsecured obligations of the Company. Interest is payable semi-annually at fixed rates. A portion of the outstanding Notes is denominated in foreign currency (comprised of €5,170 million) and is remeasured into U.S. dollars at each balance sheet date (with remeasurement gain totaling $131 million for the three months ended March 31, 2024).\"  Based on the preceding text how much short term debt does the company have?\n",
      "    \n",
      "    Output:\n",
      "<s> Since the Notes are long term notes and not short term notes, there is no short term debt.  It would be short term debt if the Notes were to be converted to notes payable and the notes payable had a maturity of less than a year.  The notes payable are classified as short term debt.  When the notes are converted from notes to notes payable they are still long term debt and then they are classified as short term debt.  That being said, it sounds like you are looking for the maturity date of the notes.  The maturity date for the notes is in 2024 which means they are long term debt.  (This question is a little tricky since the notes were issued in 2023, and so it sounds like they became short term debt since they were issued, but then the notes are converted to notes payable in 2024.  The notes as notes have a maturity date in 2024 and so are long term debt even though they are classified as short term debt since the maturity date is less than a year.  The notes as notes payable are short term debt since the maturity date is less than a year.) Edit:  Since the above answer is difficult to understand due to me explaining why the notes are both long term debt and short term debt I am going to add more explanation here. The \"Notes\" in the question are unsecured long term notes.  They are unsecured, as explained above, because when they are converted to notes payable the notes payable are still classified as a long term debt and they are also short term.  They are long term debt because Notes Convertible into Notes with the conversion date in 2024.  This means that the notes are long term debt and when they are converted to long term notes, those notes are also still long term debt.  The last thing to consider is the issuance costs.  Since the Notes are unsecured long term debt and then as notes are still unsecured long term debt they are still unsecured long term debt with issuance costs when they are converted to notes payable with a due date in 2024. The conversion costs are accounted for as interest expense.  This cost is net of $61 million.  The company paid $61 million for the notes and\n"
     ]
    }
   ],
   "source": [
    "query = base_prompt_template.format(query=summary1)\n",
    "\n",
    "modelInput = tokenizer(query, return_tensors=\"pt\").to(\"cuda\")\n",
    "\n",
    "outputs = model.generate(**modelInput, max_new_tokens = 500, do_sample = True)\n",
    "print(tokenizer.batch_decode(outputs)[0])"
   ]
  },
  {
   "cell_type": "code",
   "execution_count": 28,
   "id": "4c3f1c84",
   "metadata": {},
   "outputs": [
    {
     "name": "stderr",
     "output_type": "stream",
     "text": [
      "Setting `pad_token_id` to `eos_token_id`:2 for open-end generation.\n"
     ]
    },
    {
     "name": "stdout",
     "output_type": "stream",
     "text": [
      "<s> \n",
      "    You are a financial analyst designed to answer questions about business and finance. Your job is to reply to questions about finance topics and provide advice.\n",
      "\n",
      "    Instruction: \"We anticipate our full-year 2024 capital expenditures will be in the range of $30-37 billion, a $2 billion increase of the high end of our prior range. We expect growth will be driven by investments in servers, including both AI and non-AI hardware, and data centers as we ramp up construction on sites with our previously announced new data center architecture. Our updated outlook reflects our evolving understanding of our artificial intelligence (AI) capacity demands as we anticipate what we may need for the next generations of foundational research and product development. While we are not providing guidance for years beyond 2024, we expect our ambitious long-term AI research and product development efforts will require growing infrastructure investments beyond this year.\" Based on this text what are some risks the that could cause its expenditures to be greater than the predicted $2 billion?\n",
      "    \n",
      "    Output:\n",
      "<s> Risks that could cause expenditures to be greater than predicted $2 billion include underestimation of the AI capacity demands, changes in the construction timelines of data centers, changes in market demands, changes in the cost of materials, and any unforeseen challenges. Other risks could include the cost of hiring and training new employees, unexpected costs associated with compliance, fluctuations in exchange rates, changes in customer demands, issues with the company's products, natural disasters, and more. It is important to be aware of all the risks associated with increasing expenditures in order to reduce them and ensure the success of the investment.  Risks can be mitigated by conducting thorough planning and research, working with experienced personnel, and regularly monitoring the company's progress. By anticipating the risks and taking measures to reduce them, the company can ensure that its expenditures are not greater than their predicted $2 billion.  Risks associated with increased expenditures could also include the ability of the company to absorb the costs, and the potential for decreased revenue if the market does not respond favorably to the increased cost.  It is important to take into consideration all the risks associated with increasing costs so that the company can take any necessary measures to mitigate the risks. Overall, risk management is essential in order to ensure that the company's capital expenditures are not greater than the predicted $2 billion. Therefore, it is essential that companies take the potential risks associated with their investments into consideration, in order to ensure that their capital expenditures are not greater than the predicted $2 billion. By anticipating and taking measures to mitigate the risks, the company can ensure the success of their investment and avoid any costly mistakes. Additionally, it is important to monitor the progress of the company consistently in order to identify and address any potential risks early on.  Risks associated with increased expenditures could also include the ability of the company to absorb the costs, and the potential for decreased revenue if the market does not respond favorably to the increased cost. It is important to take into consideration all the risks associated with increasing costs so that the company can take any necessary measures to mitigate the risks. Overall, risk management is essential in order to ensure that the company's capital expenditures are not greater than the predicted $2 billion. Therefore, it is essential that companies take the potential risks associated with their investments into consideration, in\n"
     ]
    }
   ],
   "source": [
    "query = base_prompt_template.format(query=summary2)\n",
    "\n",
    "modelInput = tokenizer(query, return_tensors=\"pt\").to(\"cuda\")\n",
    "\n",
    "outputs = model.generate(**modelInput, max_new_tokens = 500, do_sample = True)\n",
    "print(tokenizer.batch_decode(outputs)[0])"
   ]
  },
  {
   "cell_type": "code",
   "execution_count": 31,
   "id": "0ac9fa55",
   "metadata": {},
   "outputs": [
    {
     "name": "stderr",
     "output_type": "stream",
     "text": [
      "Setting `pad_token_id` to `eos_token_id`:2 for open-end generation.\n"
     ]
    },
    {
     "name": "stdout",
     "output_type": "stream",
     "text": [
      "<s> \n",
      "    You are a financial analyst designed to answer questions about business and finance. Your job is to reply to questions about finance topics and provide advice.\n",
      "\n",
      "    Instruction: \"Product Liability We recorded liabilities of $596 million and $561 million in Accrued liabilities and Other liabilities at September 30, 2023 and December 31, 2022 for the expected cost of all known product liability claims, plus an estimate of the expected cost for product liability claims that have already been incurred and are expected to be filed in the future for which we are self-insured. It is reasonably possible that our accruals for product liability claims may increase in future periods in material amounts, although we cannot estimate a reasonable range of incremental loss based on currently available information. We believe that any judgment against us involving our products for actual damages will be adequately covered by our recorded accruals and, where applicable, excess liability insurance coverage.\" How much did the company accrue in total liabilities according to the preceeding text?\n",
      "    \n",
      "    Output:\n",
      "<s> 596 million. (Accrued liabilities) + 561 million (Other liabilities) = 1157 million. The company accrued 1157 million dollars in liabilities total.  The statement from the document indicates a total of 1157 million in liabilities.  This would include any recorded product liabilities for actual damages covered by excess liability insurance. The previous information was merely an explanation of the accruals used and the potential risk for future accruals to increase.  They state that it is reasonably possible for the accruals to increase in a future period in an \"unknown\" amount.  This means that the 1157 million figure is only a baseline number.  If the company has to deal with any additional lawsuits in future periods that weren't anticipated because of unexpected defects in their products it will likely impact the 1157 million dollar figure.  However, the company's explanation seems to imply that this does not appear to be very likely. The company also states they are maintaining \"reasonably adequate reserves to fully settle all known claims and future product liability claims that are reasonably anticipated to be filed\".  This suggests that the 1157 million dollar figure is an estimate as accurate as can reasonably be expected given the nature of the liability. Regarding the interpretation of this information, given the general context of the document relating to stockholder information,  it is most reasonable to assume the company is stating their expectation that their actual product liability liabilities are no more than 1157 million dollars.  Given their explicit statement that it is possible that the accruals could increase,  it seems unlikely that the company would mislead their investors if they expected their liabilities could spike.  It is clear that their liability is tied to product claims,  so if they misled investors they would stand to be responsible for those claims.  It is fair to assume, then,  that this is their best estimate and the risk is reasonably low.  The risk would likely be increased if any of the following circumstances were to occur \n",
      "- product defects and their associated lawsuits become more prevalent \n",
      "- additional lawsuits are filed for damages other than physical injury \n",
      "- new technology is developed and competitors develop better products that could undermine their market share and increase product warranty claims \n"
     ]
    }
   ],
   "source": [
    "query = base_prompt_template.format(query=summary3)\n",
    "\n",
    "modelInput = tokenizer(query, return_tensors=\"pt\").to(\"cuda\")\n",
    "\n",
    "outputs = model.generate(**modelInput, max_new_tokens = 500, do_sample = True)\n",
    "print(tokenizer.batch_decode(outputs)[0])"
   ]
  },
  {
   "cell_type": "code",
   "execution_count": null,
   "id": "622c0167",
   "metadata": {},
   "outputs": [],
   "source": []
  },
  {
   "cell_type": "code",
   "execution_count": null,
   "id": "2ba933c4",
   "metadata": {},
   "outputs": [],
   "source": []
  },
  {
   "cell_type": "code",
   "execution_count": null,
   "id": "a9b0980c",
   "metadata": {},
   "outputs": [],
   "source": []
  }
 ],
 "metadata": {
  "kernelspec": {
   "display_name": "Python [conda env:hf]",
   "language": "python",
   "name": "conda-env-hf-py"
  },
  "language_info": {
   "codemirror_mode": {
    "name": "ipython",
    "version": 3
   },
   "file_extension": ".py",
   "mimetype": "text/x-python",
   "name": "python",
   "nbconvert_exporter": "python",
   "pygments_lexer": "ipython3",
   "version": "3.12.2"
  }
 },
 "nbformat": 4,
 "nbformat_minor": 5
}
